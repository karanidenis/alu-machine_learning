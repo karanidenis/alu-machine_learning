{
  "cells": [
    {
      "cell_type": "markdown",
      "metadata": {
        "colab_type": "text",
        "id": "view-in-github"
      },
      "source": [
        "<a href=\"https://colab.research.google.com/github/karanidenis/alu-machine_learning/blob/main/NN_cvd_model.ipynb\" target=\"_parent\"><img src=\"https://colab.research.google.com/assets/colab-badge.svg\" alt=\"Open In Colab\"/></a>"
      ]
    },
    {
      "cell_type": "markdown",
      "metadata": {
        "id": "gyC_P7HS_ihf"
      },
      "source": [
        "# **PRJECT NAME: CVDX**\n",
        "\n",
        "## Built by:\n",
        "\n",
        "1. **Denis Waweru** - d.waweru@alustudent.com"
      ]
    },
    {
      "cell_type": "markdown",
      "metadata": {
        "id": "5sEkjdZbAHNN"
      },
      "source": [
        "# Case Study and Implementation\n",
        "\n",
        "Case Study Summary: Health Data Classification\n",
        "\n",
        "\n",
        "# The Dataset\n",
        "**Short Description of the Data:**\n",
        "\n",
        "The dataset has a shape of (70000, 12) whichh is 70000 rows and 12 columns. The columns include age, gender,\theight,\tweight,\tap_hi,\tap_lo,\tcholesterol,\tgluc,\tsmoke,\talco,\tactive and cardio. Each column is important in the training of the model. The task is to develop a model that can learn and generalize from this data to accurately tell status of a patient(positive or negative)."
      ]
    },
    {
      "cell_type": "markdown",
      "metadata": {
        "id": "H6epZsPhyZ9C"
      },
      "source": [
        "### Import Libraries"
      ]
    },
    {
      "cell_type": "code",
      "execution_count": 2,
      "metadata": {
        "id": "YTU4fr4HyX9L"
      },
      "outputs": [],
      "source": [
        "import pandas as pd\n",
        "import numpy as np\n",
        "import matplotlib.pyplot as plt\n",
        "import seaborn as sns\n",
        "\n",
        "import warnings\n",
        "warnings.filterwarnings('ignore')\n",
        "\n",
        "from sklearn.model_selection import train_test_split\n",
        "from sklearn.datasets import make_moons\n",
        "from sklearn.preprocessing import StandardScaler, OneHotEncoder\n",
        "from sklearn.compose import ColumnTransformer\n",
        "from sklearn.pipeline import Pipeline\n",
        "from sklearn.metrics import accuracy_score, classification_report, confusion_matrix, f1_score\n",
        "# from tensorflow.keras.utils import to_categorical\n",
        "from tensorflow.keras.layers import Dense, Flatten, Dropout\n",
        "from tensorflow.keras.optimizers import Adam\n",
        "from tensorflow.keras.losses import binary_crossentropy\n",
        "from tensorflow.keras.regularizers import l1, l2\n",
        "from tensorflow.keras.models import Sequential, load_model\n",
        "from keras.callbacks import EarlyStopping\n",
        "\n",
        "import plotly.graph_objs as go\n",
        "import plotly.figure_factory as ff\n",
        "from plotly import tools\n",
        "from plotly.offline import download_plotlyjs, init_notebook_mode, plot, iplot\n"
      ]
    },
    {
      "cell_type": "markdown",
      "metadata": {
        "id": "HELoWc4oysT4"
      },
      "source": [
        "Connect Drive"
      ]
    },
    {
      "cell_type": "code",
      "execution_count": 1,
      "metadata": {
        "colab": {
          "base_uri": "https://localhost:8080/"
        },
        "id": "WZPM1tMZyvxt",
        "outputId": "00bae5b3-f6c3-4580-f304-acbcc3d8bf6c"
      },
      "outputs": [
        {
          "name": "stdout",
          "output_type": "stream",
          "text": [
            "Mounted at /content/drive\n"
          ]
        }
      ],
      "source": [
        "from google.colab import drive\n",
        "drive.mount('/content/drive')"
      ]
    },
    {
      "cell_type": "markdown",
      "metadata": {
        "id": "WwryyknGy1Uv"
      },
      "source": [
        "# Data Processing"
      ]
    },
    {
      "cell_type": "markdown",
      "metadata": {
        "id": "biIr79phu11z"
      },
      "source": [
        "### Read the data. Drop the 'id' column. Change the age values from days to years."
      ]
    },
    {
      "cell_type": "code",
      "execution_count": 3,
      "metadata": {
        "colab": {
          "base_uri": "https://localhost:8080/",
          "height": 206
        },
        "id": "f4v4Zigky4mi",
        "outputId": "34aafeff-0ed3-47cc-8cd6-191f4604a4f4"
      },
      "outputs": [
        {
          "data": {
            "application/vnd.google.colaboratory.intrinsic+json": {
              "summary": "{\n  \"name\": \"df\",\n  \"rows\": 70000,\n  \"fields\": [\n    {\n      \"column\": \"age\",\n      \"properties\": {\n        \"dtype\": \"number\",\n        \"std\": 6,\n        \"min\": 29,\n        \"max\": 64,\n        \"num_unique_values\": 28,\n        \"samples\": [\n          39,\n          41,\n          40\n        ],\n        \"semantic_type\": \"\",\n        \"description\": \"\"\n      }\n    },\n    {\n      \"column\": \"gender\",\n      \"properties\": {\n        \"dtype\": \"number\",\n        \"std\": 0,\n        \"min\": 1,\n        \"max\": 2,\n        \"num_unique_values\": 2,\n        \"samples\": [\n          1,\n          2\n        ],\n        \"semantic_type\": \"\",\n        \"description\": \"\"\n      }\n    },\n    {\n      \"column\": \"height\",\n      \"properties\": {\n        \"dtype\": \"number\",\n        \"std\": 8,\n        \"min\": 55,\n        \"max\": 250,\n        \"num_unique_values\": 109,\n        \"samples\": [\n          125,\n          181\n        ],\n        \"semantic_type\": \"\",\n        \"description\": \"\"\n      }\n    },\n    {\n      \"column\": \"weight\",\n      \"properties\": {\n        \"dtype\": \"number\",\n        \"std\": 14.39575667851138,\n        \"min\": 10.0,\n        \"max\": 200.0,\n        \"num_unique_values\": 287,\n        \"samples\": [\n          68.0,\n          88.5\n        ],\n        \"semantic_type\": \"\",\n        \"description\": \"\"\n      }\n    },\n    {\n      \"column\": \"ap_hi\",\n      \"properties\": {\n        \"dtype\": \"number\",\n        \"std\": 154,\n        \"min\": -150,\n        \"max\": 16020,\n        \"num_unique_values\": 153,\n        \"samples\": [\n          11500,\n          17\n        ],\n        \"semantic_type\": \"\",\n        \"description\": \"\"\n      }\n    },\n    {\n      \"column\": \"ap_lo\",\n      \"properties\": {\n        \"dtype\": \"number\",\n        \"std\": 188,\n        \"min\": -70,\n        \"max\": 11000,\n        \"num_unique_values\": 157,\n        \"samples\": [\n          810,\n          8044\n        ],\n        \"semantic_type\": \"\",\n        \"description\": \"\"\n      }\n    },\n    {\n      \"column\": \"cholesterol\",\n      \"properties\": {\n        \"dtype\": \"number\",\n        \"std\": 0,\n        \"min\": 1,\n        \"max\": 3,\n        \"num_unique_values\": 3,\n        \"samples\": [\n          1,\n          3\n        ],\n        \"semantic_type\": \"\",\n        \"description\": \"\"\n      }\n    },\n    {\n      \"column\": \"gluc\",\n      \"properties\": {\n        \"dtype\": \"number\",\n        \"std\": 0,\n        \"min\": 1,\n        \"max\": 3,\n        \"num_unique_values\": 3,\n        \"samples\": [\n          1,\n          2\n        ],\n        \"semantic_type\": \"\",\n        \"description\": \"\"\n      }\n    },\n    {\n      \"column\": \"smoke\",\n      \"properties\": {\n        \"dtype\": \"number\",\n        \"std\": 0,\n        \"min\": 0,\n        \"max\": 1,\n        \"num_unique_values\": 2,\n        \"samples\": [\n          1,\n          0\n        ],\n        \"semantic_type\": \"\",\n        \"description\": \"\"\n      }\n    },\n    {\n      \"column\": \"alco\",\n      \"properties\": {\n        \"dtype\": \"number\",\n        \"std\": 0,\n        \"min\": 0,\n        \"max\": 1,\n        \"num_unique_values\": 2,\n        \"samples\": [\n          1,\n          0\n        ],\n        \"semantic_type\": \"\",\n        \"description\": \"\"\n      }\n    },\n    {\n      \"column\": \"active\",\n      \"properties\": {\n        \"dtype\": \"number\",\n        \"std\": 0,\n        \"min\": 0,\n        \"max\": 1,\n        \"num_unique_values\": 2,\n        \"samples\": [\n          0,\n          1\n        ],\n        \"semantic_type\": \"\",\n        \"description\": \"\"\n      }\n    },\n    {\n      \"column\": \"cardio\",\n      \"properties\": {\n        \"dtype\": \"number\",\n        \"std\": 0,\n        \"min\": 0,\n        \"max\": 1,\n        \"num_unique_values\": 2,\n        \"samples\": [\n          1,\n          0\n        ],\n        \"semantic_type\": \"\",\n        \"description\": \"\"\n      }\n    }\n  ]\n}",
              "type": "dataframe",
              "variable_name": "df"
            },
            "text/html": [
              "\n",
              "  <div id=\"df-5916a99c-a7da-437d-abf2-2ce3e7f5dd88\" class=\"colab-df-container\">\n",
              "    <div>\n",
              "<style scoped>\n",
              "    .dataframe tbody tr th:only-of-type {\n",
              "        vertical-align: middle;\n",
              "    }\n",
              "\n",
              "    .dataframe tbody tr th {\n",
              "        vertical-align: top;\n",
              "    }\n",
              "\n",
              "    .dataframe thead th {\n",
              "        text-align: right;\n",
              "    }\n",
              "</style>\n",
              "<table border=\"1\" class=\"dataframe\">\n",
              "  <thead>\n",
              "    <tr style=\"text-align: right;\">\n",
              "      <th></th>\n",
              "      <th>age</th>\n",
              "      <th>gender</th>\n",
              "      <th>height</th>\n",
              "      <th>weight</th>\n",
              "      <th>ap_hi</th>\n",
              "      <th>ap_lo</th>\n",
              "      <th>cholesterol</th>\n",
              "      <th>gluc</th>\n",
              "      <th>smoke</th>\n",
              "      <th>alco</th>\n",
              "      <th>active</th>\n",
              "      <th>cardio</th>\n",
              "    </tr>\n",
              "  </thead>\n",
              "  <tbody>\n",
              "    <tr>\n",
              "      <th>0</th>\n",
              "      <td>50</td>\n",
              "      <td>2</td>\n",
              "      <td>168</td>\n",
              "      <td>62.0</td>\n",
              "      <td>110</td>\n",
              "      <td>80</td>\n",
              "      <td>1</td>\n",
              "      <td>1</td>\n",
              "      <td>0</td>\n",
              "      <td>0</td>\n",
              "      <td>1</td>\n",
              "      <td>0</td>\n",
              "    </tr>\n",
              "    <tr>\n",
              "      <th>1</th>\n",
              "      <td>55</td>\n",
              "      <td>1</td>\n",
              "      <td>156</td>\n",
              "      <td>85.0</td>\n",
              "      <td>140</td>\n",
              "      <td>90</td>\n",
              "      <td>3</td>\n",
              "      <td>1</td>\n",
              "      <td>0</td>\n",
              "      <td>0</td>\n",
              "      <td>1</td>\n",
              "      <td>1</td>\n",
              "    </tr>\n",
              "    <tr>\n",
              "      <th>2</th>\n",
              "      <td>51</td>\n",
              "      <td>1</td>\n",
              "      <td>165</td>\n",
              "      <td>64.0</td>\n",
              "      <td>130</td>\n",
              "      <td>70</td>\n",
              "      <td>3</td>\n",
              "      <td>1</td>\n",
              "      <td>0</td>\n",
              "      <td>0</td>\n",
              "      <td>0</td>\n",
              "      <td>1</td>\n",
              "    </tr>\n",
              "    <tr>\n",
              "      <th>3</th>\n",
              "      <td>48</td>\n",
              "      <td>2</td>\n",
              "      <td>169</td>\n",
              "      <td>82.0</td>\n",
              "      <td>150</td>\n",
              "      <td>100</td>\n",
              "      <td>1</td>\n",
              "      <td>1</td>\n",
              "      <td>0</td>\n",
              "      <td>0</td>\n",
              "      <td>1</td>\n",
              "      <td>1</td>\n",
              "    </tr>\n",
              "    <tr>\n",
              "      <th>4</th>\n",
              "      <td>47</td>\n",
              "      <td>1</td>\n",
              "      <td>156</td>\n",
              "      <td>56.0</td>\n",
              "      <td>100</td>\n",
              "      <td>60</td>\n",
              "      <td>1</td>\n",
              "      <td>1</td>\n",
              "      <td>0</td>\n",
              "      <td>0</td>\n",
              "      <td>0</td>\n",
              "      <td>0</td>\n",
              "    </tr>\n",
              "  </tbody>\n",
              "</table>\n",
              "</div>\n",
              "    <div class=\"colab-df-buttons\">\n",
              "\n",
              "  <div class=\"colab-df-container\">\n",
              "    <button class=\"colab-df-convert\" onclick=\"convertToInteractive('df-5916a99c-a7da-437d-abf2-2ce3e7f5dd88')\"\n",
              "            title=\"Convert this dataframe to an interactive table.\"\n",
              "            style=\"display:none;\">\n",
              "\n",
              "  <svg xmlns=\"http://www.w3.org/2000/svg\" height=\"24px\" viewBox=\"0 -960 960 960\">\n",
              "    <path d=\"M120-120v-720h720v720H120Zm60-500h600v-160H180v160Zm220 220h160v-160H400v160Zm0 220h160v-160H400v160ZM180-400h160v-160H180v160Zm440 0h160v-160H620v160ZM180-180h160v-160H180v160Zm440 0h160v-160H620v160Z\"/>\n",
              "  </svg>\n",
              "    </button>\n",
              "\n",
              "  <style>\n",
              "    .colab-df-container {\n",
              "      display:flex;\n",
              "      gap: 12px;\n",
              "    }\n",
              "\n",
              "    .colab-df-convert {\n",
              "      background-color: #E8F0FE;\n",
              "      border: none;\n",
              "      border-radius: 50%;\n",
              "      cursor: pointer;\n",
              "      display: none;\n",
              "      fill: #1967D2;\n",
              "      height: 32px;\n",
              "      padding: 0 0 0 0;\n",
              "      width: 32px;\n",
              "    }\n",
              "\n",
              "    .colab-df-convert:hover {\n",
              "      background-color: #E2EBFA;\n",
              "      box-shadow: 0px 1px 2px rgba(60, 64, 67, 0.3), 0px 1px 3px 1px rgba(60, 64, 67, 0.15);\n",
              "      fill: #174EA6;\n",
              "    }\n",
              "\n",
              "    .colab-df-buttons div {\n",
              "      margin-bottom: 4px;\n",
              "    }\n",
              "\n",
              "    [theme=dark] .colab-df-convert {\n",
              "      background-color: #3B4455;\n",
              "      fill: #D2E3FC;\n",
              "    }\n",
              "\n",
              "    [theme=dark] .colab-df-convert:hover {\n",
              "      background-color: #434B5C;\n",
              "      box-shadow: 0px 1px 3px 1px rgba(0, 0, 0, 0.15);\n",
              "      filter: drop-shadow(0px 1px 2px rgba(0, 0, 0, 0.3));\n",
              "      fill: #FFFFFF;\n",
              "    }\n",
              "  </style>\n",
              "\n",
              "    <script>\n",
              "      const buttonEl =\n",
              "        document.querySelector('#df-5916a99c-a7da-437d-abf2-2ce3e7f5dd88 button.colab-df-convert');\n",
              "      buttonEl.style.display =\n",
              "        google.colab.kernel.accessAllowed ? 'block' : 'none';\n",
              "\n",
              "      async function convertToInteractive(key) {\n",
              "        const element = document.querySelector('#df-5916a99c-a7da-437d-abf2-2ce3e7f5dd88');\n",
              "        const dataTable =\n",
              "          await google.colab.kernel.invokeFunction('convertToInteractive',\n",
              "                                                    [key], {});\n",
              "        if (!dataTable) return;\n",
              "\n",
              "        const docLinkHtml = 'Like what you see? Visit the ' +\n",
              "          '<a target=\"_blank\" href=https://colab.research.google.com/notebooks/data_table.ipynb>data table notebook</a>'\n",
              "          + ' to learn more about interactive tables.';\n",
              "        element.innerHTML = '';\n",
              "        dataTable['output_type'] = 'display_data';\n",
              "        await google.colab.output.renderOutput(dataTable, element);\n",
              "        const docLink = document.createElement('div');\n",
              "        docLink.innerHTML = docLinkHtml;\n",
              "        element.appendChild(docLink);\n",
              "      }\n",
              "    </script>\n",
              "  </div>\n",
              "\n",
              "\n",
              "<div id=\"df-06be3f5a-7b06-43dc-aea4-12a67b05c5d0\">\n",
              "  <button class=\"colab-df-quickchart\" onclick=\"quickchart('df-06be3f5a-7b06-43dc-aea4-12a67b05c5d0')\"\n",
              "            title=\"Suggest charts\"\n",
              "            style=\"display:none;\">\n",
              "\n",
              "<svg xmlns=\"http://www.w3.org/2000/svg\" height=\"24px\"viewBox=\"0 0 24 24\"\n",
              "     width=\"24px\">\n",
              "    <g>\n",
              "        <path d=\"M19 3H5c-1.1 0-2 .9-2 2v14c0 1.1.9 2 2 2h14c1.1 0 2-.9 2-2V5c0-1.1-.9-2-2-2zM9 17H7v-7h2v7zm4 0h-2V7h2v10zm4 0h-2v-4h2v4z\"/>\n",
              "    </g>\n",
              "</svg>\n",
              "  </button>\n",
              "\n",
              "<style>\n",
              "  .colab-df-quickchart {\n",
              "      --bg-color: #E8F0FE;\n",
              "      --fill-color: #1967D2;\n",
              "      --hover-bg-color: #E2EBFA;\n",
              "      --hover-fill-color: #174EA6;\n",
              "      --disabled-fill-color: #AAA;\n",
              "      --disabled-bg-color: #DDD;\n",
              "  }\n",
              "\n",
              "  [theme=dark] .colab-df-quickchart {\n",
              "      --bg-color: #3B4455;\n",
              "      --fill-color: #D2E3FC;\n",
              "      --hover-bg-color: #434B5C;\n",
              "      --hover-fill-color: #FFFFFF;\n",
              "      --disabled-bg-color: #3B4455;\n",
              "      --disabled-fill-color: #666;\n",
              "  }\n",
              "\n",
              "  .colab-df-quickchart {\n",
              "    background-color: var(--bg-color);\n",
              "    border: none;\n",
              "    border-radius: 50%;\n",
              "    cursor: pointer;\n",
              "    display: none;\n",
              "    fill: var(--fill-color);\n",
              "    height: 32px;\n",
              "    padding: 0;\n",
              "    width: 32px;\n",
              "  }\n",
              "\n",
              "  .colab-df-quickchart:hover {\n",
              "    background-color: var(--hover-bg-color);\n",
              "    box-shadow: 0 1px 2px rgba(60, 64, 67, 0.3), 0 1px 3px 1px rgba(60, 64, 67, 0.15);\n",
              "    fill: var(--button-hover-fill-color);\n",
              "  }\n",
              "\n",
              "  .colab-df-quickchart-complete:disabled,\n",
              "  .colab-df-quickchart-complete:disabled:hover {\n",
              "    background-color: var(--disabled-bg-color);\n",
              "    fill: var(--disabled-fill-color);\n",
              "    box-shadow: none;\n",
              "  }\n",
              "\n",
              "  .colab-df-spinner {\n",
              "    border: 2px solid var(--fill-color);\n",
              "    border-color: transparent;\n",
              "    border-bottom-color: var(--fill-color);\n",
              "    animation:\n",
              "      spin 1s steps(1) infinite;\n",
              "  }\n",
              "\n",
              "  @keyframes spin {\n",
              "    0% {\n",
              "      border-color: transparent;\n",
              "      border-bottom-color: var(--fill-color);\n",
              "      border-left-color: var(--fill-color);\n",
              "    }\n",
              "    20% {\n",
              "      border-color: transparent;\n",
              "      border-left-color: var(--fill-color);\n",
              "      border-top-color: var(--fill-color);\n",
              "    }\n",
              "    30% {\n",
              "      border-color: transparent;\n",
              "      border-left-color: var(--fill-color);\n",
              "      border-top-color: var(--fill-color);\n",
              "      border-right-color: var(--fill-color);\n",
              "    }\n",
              "    40% {\n",
              "      border-color: transparent;\n",
              "      border-right-color: var(--fill-color);\n",
              "      border-top-color: var(--fill-color);\n",
              "    }\n",
              "    60% {\n",
              "      border-color: transparent;\n",
              "      border-right-color: var(--fill-color);\n",
              "    }\n",
              "    80% {\n",
              "      border-color: transparent;\n",
              "      border-right-color: var(--fill-color);\n",
              "      border-bottom-color: var(--fill-color);\n",
              "    }\n",
              "    90% {\n",
              "      border-color: transparent;\n",
              "      border-bottom-color: var(--fill-color);\n",
              "    }\n",
              "  }\n",
              "</style>\n",
              "\n",
              "  <script>\n",
              "    async function quickchart(key) {\n",
              "      const quickchartButtonEl =\n",
              "        document.querySelector('#' + key + ' button');\n",
              "      quickchartButtonEl.disabled = true;  // To prevent multiple clicks.\n",
              "      quickchartButtonEl.classList.add('colab-df-spinner');\n",
              "      try {\n",
              "        const charts = await google.colab.kernel.invokeFunction(\n",
              "            'suggestCharts', [key], {});\n",
              "      } catch (error) {\n",
              "        console.error('Error during call to suggestCharts:', error);\n",
              "      }\n",
              "      quickchartButtonEl.classList.remove('colab-df-spinner');\n",
              "      quickchartButtonEl.classList.add('colab-df-quickchart-complete');\n",
              "    }\n",
              "    (() => {\n",
              "      let quickchartButtonEl =\n",
              "        document.querySelector('#df-06be3f5a-7b06-43dc-aea4-12a67b05c5d0 button');\n",
              "      quickchartButtonEl.style.display =\n",
              "        google.colab.kernel.accessAllowed ? 'block' : 'none';\n",
              "    })();\n",
              "  </script>\n",
              "</div>\n",
              "    </div>\n",
              "  </div>\n"
            ],
            "text/plain": [
              "   age  gender  height  weight  ap_hi  ap_lo  cholesterol  gluc  smoke  alco  \\\n",
              "0   50       2     168    62.0    110     80            1     1      0     0   \n",
              "1   55       1     156    85.0    140     90            3     1      0     0   \n",
              "2   51       1     165    64.0    130     70            3     1      0     0   \n",
              "3   48       2     169    82.0    150    100            1     1      0     0   \n",
              "4   47       1     156    56.0    100     60            1     1      0     0   \n",
              "\n",
              "   active  cardio  \n",
              "0       1       0  \n",
              "1       1       1  \n",
              "2       0       1  \n",
              "3       1       1  \n",
              "4       0       0  "
            ]
          },
          "execution_count": 3,
          "metadata": {},
          "output_type": "execute_result"
        }
      ],
      "source": [
        "path = '/content/drive/MyDrive/Colab Notebooks/cardio_train.csv'\n",
        "df = pd.read_csv(path, sep=';')\n",
        "df.drop('id', axis=1, inplace=True)\n",
        "df['age'] = df['age'] // 365\n",
        "df.head()"
      ]
    },
    {
      "cell_type": "markdown",
      "metadata": {
        "id": "W78WfLQj3wHJ"
      },
      "source": [
        "## The Columns include:\n",
        "      Id - which I drop\n",
        "      Age - in days, Below it's converted to years\n",
        "      Gender - 1 for male and 2 for female\n",
        "      Height - in cms\n",
        "      Weight - in kgs\n",
        "      ap_hi - systolic bp\n",
        "      ap_lo - diastolic bp\n",
        "      cholestrol - cholestrol levels\n",
        "      gluc - glucose levels\n",
        "      smoke - smoking habits. 1 for active smoker and 0 for non- smokers\n",
        "      alco - Alcohol habits. 1- alcoholic\n",
        "      active - physical activities habits. 1 for active person\n",
        "      cardio - target(1 for person with cvd)"
      ]
    },
    {
      "cell_type": "markdown",
      "metadata": {
        "id": "j2imtTWJt9nC"
      },
      "source": [
        "### Set X as all other columns/features except cardio. Set y as the target('cardio' column). generate 2D arrays of the dataset."
      ]
    },
    {
      "cell_type": "code",
      "execution_count": 4,
      "metadata": {
        "colab": {
          "base_uri": "https://localhost:8080/"
        },
        "id": "5YTaAxw5-nsF",
        "outputId": "4b07eb1f-505d-4187-d240-56bbd7453d53"
      },
      "outputs": [
        {
          "name": "stdout",
          "output_type": "stream",
          "text": [
            "[[ 50.   2. 168.  62. 110.  80.   1.   1.   0.   0.   1.]\n",
            " [ 55.   1. 156.  85. 140.  90.   3.   1.   0.   0.   1.]]\n",
            "(70000, 11)\n",
            "[0]\n",
            "(70000,)\n"
          ]
        }
      ],
      "source": [
        "# generate 2d classification dataset\n",
        "X = df.drop('cardio', axis=1).to_numpy()\n",
        "y = df['cardio'].to_numpy()\n",
        "print(X[:2])\n",
        "print(X.shape)\n",
        "print(y[:1])\n",
        "print(y.shape)"
      ]
    },
    {
      "cell_type": "markdown",
      "metadata": {
        "id": "c_J9qOHqubP1"
      },
      "source": [
        "### Split the dataset into training and testing datasets. Then split the train set to train and validation set. Scale the sets."
      ]
    },
    {
      "cell_type": "code",
      "execution_count": 5,
      "metadata": {
        "colab": {
          "base_uri": "https://localhost:8080/"
        },
        "id": "1DJdZroa_V4m",
        "outputId": "81e84599-2128-4b75-bf95-be12ab892da3"
      },
      "outputs": [
        {
          "name": "stdout",
          "output_type": "stream",
          "text": [
            "(42000, 11) (14000, 11) (14000, 11) (42000,) (14000,) (14000,)\n",
            "[[ 61.   2. 168.  84. 130.  90.   1.   1.   1.   1.   1.]]\n",
            "[1]\n",
            "[[ 1.20611167  1.36282377  0.44603662  0.68319785  0.00850798 -0.03548701\n",
            "  -0.53919351 -0.39463256  3.20431048  4.1515181   0.49410558]]\n",
            "[[ 0.91083466 -0.73377059 -1.01963223 -0.7094615   0.07591891 -0.08599847\n",
            "   0.93286365 -0.39463256 -0.31207962 -0.24087574  0.49410558]]\n",
            "[[ 1.64902718 -0.73377059 -0.40893688 ... -0.31207962 -0.24087574\n",
            "   0.49410558]\n",
            " [ 0.02500364 -0.73377059 -1.38604945 ... -0.31207962 -0.24087574\n",
            "  -2.02385896]\n",
            " [ 0.76319616 -0.73377059 -1.75246666 ... -0.31207962  4.1515181\n",
            "   0.49410558]\n",
            " ...\n",
            " [-0.27027337 -0.73377059 -0.53107595 ... -0.31207962 -0.24087574\n",
            "   0.49410558]\n",
            " [ 1.50138868 -0.73377059 -1.87460573 ... -0.31207962 -0.24087574\n",
            "   0.49410558]\n",
            " [ 1.05847316  1.36282377  1.30101012 ... -0.31207962 -0.24087574\n",
            "   0.49410558]]\n"
          ]
        }
      ],
      "source": [
        "\n",
        "from sklearn.model_selection import train_test_split\n",
        "# Split the dataset into training and testing sets\n",
        "X_train, X_test, y_train, y_test = train_test_split(X, y, test_size=0.2, random_state=42)\n",
        "\n",
        "# Check the sizes of the splits\n",
        "(X_train.shape, X_test.shape, y_train.shape, y_test.shape)\n",
        "\n",
        "# Split the Train dataset to validation set and train set\n",
        "train_x, X_val, train_y, y_val = train_test_split(X_train, y_train, test_size=0.25, random_state=42)\n",
        "\n",
        "# Check the sizes of the splits\n",
        "print(train_x.shape, X_val.shape, X_test.shape, train_y.shape, y_val.shape, y_test.shape)\n",
        "print(train_x[:1])\n",
        "print(train_y[:1])\n",
        "\n",
        "scaler = StandardScaler()\n",
        "scaler.fit(X_train)\n",
        "# Scale the training data\n",
        "X_train_scaled = scaler.transform(train_x)\n",
        "print(X_train_scaled[:1])\n",
        "# Scale the test data\n",
        "X_test_scaled = scaler.transform(X_test)\n",
        "print(X_test_scaled[:1])\n",
        "\n",
        "# Scale the validation data\n",
        "X_val_scaled = scaler.transform(X_val)\n",
        "print(X_val_scaled)"
      ]
    },
    {
      "cell_type": "markdown",
      "metadata": {
        "id": "fSKH1s2h7RjU"
      },
      "source": [
        "# Model Implementation"
      ]
    },
    {
      "cell_type": "markdown",
      "metadata": {
        "id": "uhHad91T7hp5"
      },
      "source": [
        "## 1. Without Regularization\n"
      ]
    },
    {
      "cell_type": "markdown",
      "metadata": {
        "id": "UwyqNm4j8Glj"
      },
      "source": [
        "### 1. Model Architecture"
      ]
    },
    {
      "cell_type": "markdown",
      "metadata": {
        "id": "S6GMmyja8JKP"
      },
      "source": [
        "Layers:\n",
        "\n",
        "    (Dense) of shape (None, 500). Input layer with 500 neurons.\n",
        "\n",
        "    (Dense) of shape (None, 128). Input layer with 128 neurons.\n",
        "                                                                    \n",
        "    (Dense) of shape (None, 64). hidden layer with 64 neurons.\n",
        "                                                                    \n",
        "    (Dense) of shape (None, 32). Hidden layer with 32 neurons.\n",
        "\n",
        "    (Dense) of shape (None, 16). Hidden layer with 16 neurons.\n",
        "\n",
        "    (Dense) of shape (None, 8). Hidden layer with 8 neurons.\n",
        "    \n",
        "    (Dense) of shape (None, 1). 1 output layer    \n",
        "                                                             "
      ]
    },
    {
      "cell_type": "markdown",
      "metadata": {
        "id": "TABR9rjL7z6P"
      },
      "source": [
        "### 2. Model Training"
      ]
    },
    {
      "cell_type": "code",
      "execution_count": 6,
      "metadata": {
        "colab": {
          "base_uri": "https://localhost:8080/"
        },
        "id": "1xOkOP1CM4x7",
        "outputId": "9ba4a731-35dc-4989-b095-a6579d2da79a"
      },
      "outputs": [
        {
          "name": "stdout",
          "output_type": "stream",
          "text": [
            "Model: \"sequential\"\n",
            "_________________________________________________________________\n",
            " Layer (type)                Output Shape              Param #   \n",
            "=================================================================\n",
            " dense (Dense)               (None, 500)               6000      \n",
            "                                                                 \n",
            " dense_1 (Dense)             (None, 128)               64128     \n",
            "                                                                 \n",
            " dense_2 (Dense)             (None, 64)                8256      \n",
            "                                                                 \n",
            " dense_3 (Dense)             (None, 32)                2080      \n",
            "                                                                 \n",
            " dense_4 (Dense)             (None, 16)                528       \n",
            "                                                                 \n",
            " dense_5 (Dense)             (None, 8)                 136       \n",
            "                                                                 \n",
            " dense_6 (Dense)             (None, 1)                 9         \n",
            "                                                                 \n",
            "=================================================================\n",
            "Total params: 81137 (316.94 KB)\n",
            "Trainable params: 81137 (316.94 KB)\n",
            "Non-trainable params: 0 (0.00 Byte)\n",
            "_________________________________________________________________\n"
          ]
        }
      ],
      "source": [
        "from keras.callbacks import LearningRateScheduler\n",
        "\n",
        "model = Sequential()\n",
        "model.add(Dense(500, input_dim=11, activation='relu'))\n",
        "model.add(Dense(128, activation='relu'))\n",
        "model.add(Dense(64, activation='relu'))\n",
        "model.add(Dense(32, activation='relu'))\n",
        "model.add(Dense(16, activation='relu'))\n",
        "model.add(Dense(8, activation='relu'))\n",
        "model.add(Dense(1, activation='sigmoid'))\n",
        "\n",
        "# Implement a learning rate scheduler\n",
        "def scheduler(epoch, lr):\n",
        "    if epoch < 10:\n",
        "        return lr\n",
        "    else:\n",
        "        return lr * np.exp(-0.1)\n",
        "\n",
        "callback = LearningRateScheduler(scheduler)\n",
        "\n",
        "# Compile the model with an optimizer and learning rate\n",
        "model.compile(loss=binary_crossentropy,\n",
        "              optimizer=Adam(learning_rate=0.0001),\n",
        "              metrics=['accuracy'])\n",
        "model.save('model1.pkl')\n",
        "model.summary()\n"
      ]
    },
    {
      "cell_type": "code",
      "execution_count": 7,
      "metadata": {
        "colab": {
          "base_uri": "https://localhost:8080/"
        },
        "id": "tbmaW88kRKYX",
        "outputId": "66c419c5-098e-4933-c12a-41b492a509fc"
      },
      "outputs": [
        {
          "name": "stdout",
          "output_type": "stream",
          "text": [
            "Epoch 1/50\n",
            "1313/1313 [==============================] - 8s 5ms/step - loss: 0.6140 - accuracy: 0.6694 - val_loss: 0.5670 - val_accuracy: 0.7186 - lr: 1.0000e-04\n",
            "Epoch 2/50\n",
            "1313/1313 [==============================] - 5s 4ms/step - loss: 0.5605 - accuracy: 0.7244 - val_loss: 0.5424 - val_accuracy: 0.7359 - lr: 1.0000e-04\n",
            "Epoch 3/50\n",
            "1313/1313 [==============================] - 6s 5ms/step - loss: 0.5498 - accuracy: 0.7291 - val_loss: 0.5411 - val_accuracy: 0.7361 - lr: 1.0000e-04\n",
            "Epoch 4/50\n",
            "1313/1313 [==============================] - 6s 4ms/step - loss: 0.5469 - accuracy: 0.7305 - val_loss: 0.5394 - val_accuracy: 0.7371 - lr: 1.0000e-04\n",
            "Epoch 5/50\n",
            "1313/1313 [==============================] - 7s 6ms/step - loss: 0.5453 - accuracy: 0.7320 - val_loss: 0.5398 - val_accuracy: 0.7341 - lr: 1.0000e-04\n",
            "Epoch 6/50\n",
            "1313/1313 [==============================] - 6s 5ms/step - loss: 0.5447 - accuracy: 0.7325 - val_loss: 0.5437 - val_accuracy: 0.7317 - lr: 1.0000e-04\n",
            "Epoch 7/50\n",
            "1313/1313 [==============================] - 6s 4ms/step - loss: 0.5431 - accuracy: 0.7336 - val_loss: 0.5378 - val_accuracy: 0.7383 - lr: 1.0000e-04\n",
            "Epoch 8/50\n",
            "1313/1313 [==============================] - 14s 10ms/step - loss: 0.5426 - accuracy: 0.7337 - val_loss: 0.5407 - val_accuracy: 0.7366 - lr: 1.0000e-04\n",
            "Epoch 9/50\n",
            "1313/1313 [==============================] - 8s 6ms/step - loss: 0.5421 - accuracy: 0.7336 - val_loss: 0.5395 - val_accuracy: 0.7345 - lr: 1.0000e-04\n",
            "Epoch 10/50\n",
            "1313/1313 [==============================] - 5s 4ms/step - loss: 0.5414 - accuracy: 0.7342 - val_loss: 0.5389 - val_accuracy: 0.7357 - lr: 1.0000e-04\n",
            "Epoch 11/50\n",
            "1313/1313 [==============================] - 7s 5ms/step - loss: 0.5402 - accuracy: 0.7342 - val_loss: 0.5380 - val_accuracy: 0.7358 - lr: 9.0484e-05\n",
            "Epoch 12/50\n",
            "1313/1313 [==============================] - 6s 4ms/step - loss: 0.5391 - accuracy: 0.7372 - val_loss: 0.5380 - val_accuracy: 0.7363 - lr: 8.1873e-05\n",
            "Epoch 13/50\n",
            "1313/1313 [==============================] - 7s 5ms/step - loss: 0.5382 - accuracy: 0.7353 - val_loss: 0.5368 - val_accuracy: 0.7386 - lr: 7.4082e-05\n",
            "Epoch 14/50\n",
            "1313/1313 [==============================] - 5s 4ms/step - loss: 0.5368 - accuracy: 0.7369 - val_loss: 0.5370 - val_accuracy: 0.7373 - lr: 6.7032e-05\n",
            "Epoch 15/50\n",
            "1313/1313 [==============================] - 6s 4ms/step - loss: 0.5366 - accuracy: 0.7373 - val_loss: 0.5362 - val_accuracy: 0.7370 - lr: 6.0653e-05\n",
            "Epoch 16/50\n",
            "1313/1313 [==============================] - 7s 5ms/step - loss: 0.5356 - accuracy: 0.7390 - val_loss: 0.5362 - val_accuracy: 0.7364 - lr: 5.4881e-05\n",
            "Epoch 17/50\n",
            "1313/1313 [==============================] - 6s 5ms/step - loss: 0.5351 - accuracy: 0.7377 - val_loss: 0.5396 - val_accuracy: 0.7351 - lr: 4.9659e-05\n",
            "Epoch 18/50\n",
            "1313/1313 [==============================] - 7s 5ms/step - loss: 0.5345 - accuracy: 0.7382 - val_loss: 0.5374 - val_accuracy: 0.7356 - lr: 4.4933e-05\n",
            "Epoch 19/50\n",
            "1313/1313 [==============================] - 6s 5ms/step - loss: 0.5337 - accuracy: 0.7396 - val_loss: 0.5381 - val_accuracy: 0.7363 - lr: 4.0657e-05\n",
            "Epoch 20/50\n",
            "1313/1313 [==============================] - 7s 5ms/step - loss: 0.5332 - accuracy: 0.7389 - val_loss: 0.5377 - val_accuracy: 0.7366 - lr: 3.6788e-05\n",
            "Epoch 21/50\n",
            "1313/1313 [==============================] - 6s 4ms/step - loss: 0.5327 - accuracy: 0.7402 - val_loss: 0.5368 - val_accuracy: 0.7372 - lr: 3.3287e-05\n",
            "Epoch 22/50\n",
            "1313/1313 [==============================] - 7s 5ms/step - loss: 0.5324 - accuracy: 0.7399 - val_loss: 0.5382 - val_accuracy: 0.7359 - lr: 3.0119e-05\n",
            "Epoch 23/50\n",
            "1313/1313 [==============================] - 5s 4ms/step - loss: 0.5317 - accuracy: 0.7416 - val_loss: 0.5370 - val_accuracy: 0.7374 - lr: 2.7253e-05\n",
            "Epoch 24/50\n",
            "1313/1313 [==============================] - 6s 5ms/step - loss: 0.5314 - accuracy: 0.7405 - val_loss: 0.5371 - val_accuracy: 0.7356 - lr: 2.4660e-05\n",
            "Epoch 25/50\n",
            "1313/1313 [==============================] - 7s 5ms/step - loss: 0.5308 - accuracy: 0.7417 - val_loss: 0.5376 - val_accuracy: 0.7367 - lr: 2.2313e-05\n",
            "Epoch 26/50\n",
            "1313/1313 [==============================] - 6s 4ms/step - loss: 0.5308 - accuracy: 0.7416 - val_loss: 0.5374 - val_accuracy: 0.7355 - lr: 2.0190e-05\n",
            "Epoch 27/50\n",
            "1313/1313 [==============================] - 7s 5ms/step - loss: 0.5304 - accuracy: 0.7420 - val_loss: 0.5371 - val_accuracy: 0.7367 - lr: 1.8268e-05\n",
            "Epoch 28/50\n",
            "1313/1313 [==============================] - 5s 4ms/step - loss: 0.5301 - accuracy: 0.7416 - val_loss: 0.5367 - val_accuracy: 0.7358 - lr: 1.6530e-05\n",
            "Epoch 29/50\n",
            "1313/1313 [==============================] - 7s 5ms/step - loss: 0.5298 - accuracy: 0.7419 - val_loss: 0.5373 - val_accuracy: 0.7361 - lr: 1.4957e-05\n",
            "Epoch 30/50\n",
            "1313/1313 [==============================] - 5s 4ms/step - loss: 0.5295 - accuracy: 0.7425 - val_loss: 0.5369 - val_accuracy: 0.7366 - lr: 1.3534e-05\n",
            "Epoch 31/50\n",
            "1313/1313 [==============================] - 7s 5ms/step - loss: 0.5293 - accuracy: 0.7423 - val_loss: 0.5370 - val_accuracy: 0.7359 - lr: 1.2246e-05\n",
            "Epoch 32/50\n",
            "1313/1313 [==============================] - 5s 4ms/step - loss: 0.5292 - accuracy: 0.7426 - val_loss: 0.5376 - val_accuracy: 0.7372 - lr: 1.1080e-05\n",
            "Epoch 33/50\n",
            "1313/1313 [==============================] - 6s 4ms/step - loss: 0.5290 - accuracy: 0.7427 - val_loss: 0.5373 - val_accuracy: 0.7365 - lr: 1.0026e-05\n",
            "Epoch 34/50\n",
            "1313/1313 [==============================] - 6s 5ms/step - loss: 0.5288 - accuracy: 0.7425 - val_loss: 0.5370 - val_accuracy: 0.7363 - lr: 9.0718e-06\n",
            "Epoch 35/50\n",
            "1313/1313 [==============================] - 6s 4ms/step - loss: 0.5286 - accuracy: 0.7426 - val_loss: 0.5372 - val_accuracy: 0.7368 - lr: 8.2085e-06\n",
            "Epoch 36/50\n",
            "1313/1313 [==============================] - 7s 5ms/step - loss: 0.5284 - accuracy: 0.7432 - val_loss: 0.5374 - val_accuracy: 0.7364 - lr: 7.4274e-06\n",
            "Epoch 37/50\n",
            "1313/1313 [==============================] - 5s 4ms/step - loss: 0.5284 - accuracy: 0.7426 - val_loss: 0.5373 - val_accuracy: 0.7369 - lr: 6.7206e-06\n",
            "Epoch 38/50\n",
            "1313/1313 [==============================] - 7s 5ms/step - loss: 0.5283 - accuracy: 0.7434 - val_loss: 0.5375 - val_accuracy: 0.7367 - lr: 6.0810e-06\n",
            "Epoch 39/50\n",
            "1313/1313 [==============================] - 7s 6ms/step - loss: 0.5282 - accuracy: 0.7436 - val_loss: 0.5374 - val_accuracy: 0.7367 - lr: 5.5023e-06\n",
            "Epoch 40/50\n",
            "1313/1313 [==============================] - 7s 5ms/step - loss: 0.5281 - accuracy: 0.7427 - val_loss: 0.5374 - val_accuracy: 0.7359 - lr: 4.9787e-06\n",
            "Epoch 41/50\n",
            "1313/1313 [==============================] - 6s 5ms/step - loss: 0.5279 - accuracy: 0.7432 - val_loss: 0.5377 - val_accuracy: 0.7360 - lr: 4.5049e-06\n",
            "Epoch 42/50\n",
            "1313/1313 [==============================] - 7s 5ms/step - loss: 0.5279 - accuracy: 0.7436 - val_loss: 0.5376 - val_accuracy: 0.7366 - lr: 4.0762e-06\n",
            "Epoch 43/50\n",
            "1313/1313 [==============================] - 5s 4ms/step - loss: 0.5278 - accuracy: 0.7436 - val_loss: 0.5375 - val_accuracy: 0.7363 - lr: 3.6883e-06\n",
            "Epoch 44/50\n",
            "1313/1313 [==============================] - 6s 5ms/step - loss: 0.5277 - accuracy: 0.7437 - val_loss: 0.5375 - val_accuracy: 0.7369 - lr: 3.3373e-06\n",
            "Epoch 45/50\n",
            "1313/1313 [==============================] - 6s 4ms/step - loss: 0.5277 - accuracy: 0.7437 - val_loss: 0.5374 - val_accuracy: 0.7369 - lr: 3.0197e-06\n",
            "Epoch 46/50\n",
            "1313/1313 [==============================] - 6s 5ms/step - loss: 0.5276 - accuracy: 0.7429 - val_loss: 0.5377 - val_accuracy: 0.7362 - lr: 2.7324e-06\n",
            "Epoch 47/50\n",
            "1313/1313 [==============================] - 6s 5ms/step - loss: 0.5276 - accuracy: 0.7435 - val_loss: 0.5375 - val_accuracy: 0.7371 - lr: 2.4724e-06\n",
            "Epoch 48/50\n",
            "1313/1313 [==============================] - 6s 5ms/step - loss: 0.5275 - accuracy: 0.7444 - val_loss: 0.5375 - val_accuracy: 0.7367 - lr: 2.2371e-06\n",
            "Epoch 49/50\n",
            "1313/1313 [==============================] - 7s 5ms/step - loss: 0.5275 - accuracy: 0.7435 - val_loss: 0.5375 - val_accuracy: 0.7371 - lr: 2.0242e-06\n",
            "Epoch 50/50\n",
            "1313/1313 [==============================] - 5s 4ms/step - loss: 0.5274 - accuracy: 0.7438 - val_loss: 0.5375 - val_accuracy: 0.7368 - lr: 1.8316e-06\n"
          ]
        }
      ],
      "source": [
        "train_model = model.fit(X_train_scaled, train_y,\n",
        "                  # batch_size=128,\n",
        "                  epochs=50,\n",
        "                  verbose=1,\n",
        "                  callbacks=[callback],\n",
        "                  validation_data=(X_val_scaled, y_val))\n",
        "\n"
      ]
    },
    {
      "cell_type": "code",
      "execution_count": 8,
      "metadata": {
        "colab": {
          "base_uri": "https://localhost:8080/",
          "height": 447
        },
        "id": "sZPZInpNh7vP",
        "outputId": "c3576856-28d5-4925-f8bc-b91b5a91d5ad"
      },
      "outputs": [
        {
          "name": "stdout",
          "output_type": "stream",
          "text": [
            "Train: 0.744, Test: 0.741\n"
          ]
        },
        {
          "data": {
            "image/png": "[encoded data removed]",
            "text/plain": [
              "<Figure size 640x480 with 1 Axes>"
            ]
          },
          "metadata": {},
          "output_type": "display_data"
        }
      ],
      "source": [
        "_, train_acc = model.evaluate(X_train_scaled, train_y, verbose=0)\n",
        "_, test_acc = model.evaluate(X_test_scaled, y_test, verbose=0)\n",
        "print('Train: %.3f, Test: %.3f' % (train_acc, test_acc))\n",
        "# plot training history\n",
        "plt.plot(train_model.history['loss'], label='train')\n",
        "plt.plot(train_model.history['val_loss'], label='test')\n",
        "plt.legend()\n",
        "plt.show()"
      ]
    },
    {
      "cell_type": "markdown",
      "metadata": {
        "id": "aipik7f9_CRl"
      },
      "source": [
        "### Print out the Model Accuracy and plot the Loss curve"
      ]
    },
    {
      "cell_type": "code",
      "execution_count": 9,
      "metadata": {
        "colab": {
          "base_uri": "https://localhost:8080/"
        },
        "id": "DDLr2g6YcRXH",
        "outputId": "3d3ddfea-8d68-465b-f02b-11ec28b8fd65"
      },
      "outputs": [
        {
          "name": "stdout",
          "output_type": "stream",
          "text": [
            "Test loss: 0.5430020689964294\n",
            "Test accuracy: 0.7412857413291931\n"
          ]
        }
      ],
      "source": [
        "# evaluate the model\n",
        "score = model.evaluate(X_test_scaled, y_test, verbose=0)\n",
        "print('Test loss:', score[0])\n",
        "print('Test accuracy:', score[1])"
      ]
    },
    {
      "cell_type": "code",
      "execution_count": 11,
      "metadata": {
        "colab": {
          "base_uri": "https://localhost:8080/"
        },
        "id": "z2qFccqmiV-O",
        "outputId": "5dc6e545-2105-4757-80e4-d1e1cb8a25ad"
      },
      "outputs": [
        {
          "name": "stdout",
          "output_type": "stream",
          "text": [
            "438/438 [==============================] - 4s 7ms/step\n"
          ]
        },
        {
          "data": {
            "text/plain": [
              "array([[ 408, 6580],\n",
              "       [ 469, 6543]])"
            ]
          },
          "execution_count": 11,
          "metadata": {},
          "output_type": "execute_result"
        }
      ],
      "source": [
        "\n",
        "def make_predictions(model_path):\n",
        "    \"\"\"\n",
        "    Parameters:\n",
        "    - X_test_scaled: numpy.ndarray, preprocessed feature data for testing the model.\n",
        "    - y_test_scaled: numpy.ndarray, true labels for the test data.\n",
        "    \"\"\"\n",
        "\n",
        "    # Load the model\n",
        "    model = load_model(model_path)\n",
        "\n",
        "    # Generate predictions\n",
        "    y_pred = model.predict(X_test_scaled)\n",
        "    y_pred = (y_pred > 0.5).astype(int)\n",
        "\n",
        "    # Calculate the confusion matrix\n",
        "    cm = confusion_matrix(y_test, y_pred)\n",
        "\n",
        "    return cm\n",
        "\n",
        "model_path = '/content/sample_data/model1.pkl'\n",
        "make_predictions(model_path)"
      ]
    },
    {
      "cell_type": "markdown",
      "metadata": {
        "id": "2TnzTSYg0G3j"
      },
      "source": [
        "## 2. Combined **regularization**"
      ]
    },
    {
      "cell_type": "markdown",
      "metadata": {
        "id": "vVLdAZ685YuM"
      },
      "source": [
        "### Model Architecture"
      ]
    },
    {
      "cell_type": "markdown",
      "metadata": {
        "id": "VOU0sisa5dBc"
      },
      "source": [
        "Layers:\n",
        "\n",
        "    Input Dense Layer (5000 Neurons) with L2 Regularization. It has 500 neurons & applies a ReLU (Rectified Linear Unit) activation function.\n",
        "\n",
        "    Dropout Layer of shape (None, 128) with l1 regularization & applies the ReLU activation function.\n",
        "\n",
        "    Dense Layer with (64 Neurons) & applies the ReLU activation function.\n",
        "\n",
        "    Dense Layer (32 Neurons) with l2 regularization & applies the ReLU activation function\n",
        "\n",
        "    Dense Layer (16 Neurons) with l1 regularization & applies the ReLU activation function.\n",
        "\n",
        "    Dense Layer (8 Neurons) applies the ReLU activation function\n",
        "\n",
        "    Output Dense Layer (1 Neuron) & sigmoid activation function\n"
      ]
    },
    {
      "cell_type": "code",
      "execution_count": 12,
      "metadata": {
        "colab": {
          "base_uri": "https://localhost:8080/"
        },
        "id": "_m9a60Ld0FiN",
        "outputId": "cbb1bd54-a4e9-496d-954b-ed63dff2a26d"
      },
      "outputs": [
        {
          "name": "stdout",
          "output_type": "stream",
          "text": [
            "Model: \"sequential_1\"\n",
            "_________________________________________________________________\n",
            " Layer (type)                Output Shape              Param #   \n",
            "=================================================================\n",
            " dense_7 (Dense)             (None, 500)               6000      \n",
            "                                                                 \n",
            " dense_8 (Dense)             (None, 128)               64128     \n",
            "                                                                 \n",
            " dense_9 (Dense)             (None, 64)                8256      \n",
            "                                                                 \n",
            " dense_10 (Dense)            (None, 32)                2080      \n",
            "                                                                 \n",
            " dense_11 (Dense)            (None, 32)                1056      \n",
            "                                                                 \n",
            " dense_12 (Dense)            (None, 16)                528       \n",
            "                                                                 \n",
            " dense_13 (Dense)            (None, 8)                 136       \n",
            "                                                                 \n",
            " dense_14 (Dense)            (None, 1)                 9         \n",
            "                                                                 \n",
            "=================================================================\n",
            "Total params: 82193 (321.07 KB)\n",
            "Trainable params: 82193 (321.07 KB)\n",
            "Non-trainable params: 0 (0.00 Byte)\n",
            "_________________________________________________________________\n"
          ]
        }
      ],
      "source": [
        "\n",
        "combined_model = Sequential([\n",
        "    Dense(500, activation='relu', input_dim=11, kernel_regularizer=l2(0.01)),  # L2 regularization\n",
        "    # Dropout(0.5),  # Dropout\n",
        "    Dense(128, activation='relu', kernel_regularizer=l1(0.01)),  # L2 regularization\n",
        "    Dense(64, activation='relu'),\n",
        "    Dense(32, activation='relu', kernel_regularizer=l2(0.01)),\n",
        "    Dense(32, activation='relu'),\n",
        "    # Dropout(0.5),  # Dropout\n",
        "    Dense(16, activation='relu', kernel_regularizer=l1(0.01)),\n",
        "    Dense(8, activation='relu'),\n",
        "    Dense(1, activation='sigmoid')\n",
        "])\n",
        "\n",
        "combined_model.compile(optimizer=Adam(learning_rate=0.0001),\n",
        "                       loss='binary_crossentropy',\n",
        "                       metrics=['accuracy'])\n",
        "combined_model.save('combined.pkl')\n",
        "\n",
        "combined_model.summary()"
      ]
    },
    {
      "cell_type": "code",
      "execution_count": 13,
      "metadata": {
        "colab": {
          "base_uri": "https://localhost:8080/",
          "height": 468
        },
        "id": "VPz0fJX90hix",
        "outputId": "bec8509e-982b-4c68-c1c2-3fbbf2fde4a8"
      },
      "outputs": [
        {
          "name": "stdout",
          "output_type": "stream",
          "text": [
            "Epoch 22: early stopping\n",
            "Train: 0.727, Test: 0.731\n"
          ]
        },
        {
          "data": {
            "image/png": "[encoded data removed]",
            "text/plain": [
              "<Figure size 640x480 with 1 Axes>"
            ]
          },
          "metadata": {},
          "output_type": "display_data"
        }
      ],
      "source": [
        "es = EarlyStopping(monitor='val_loss', mode='min', verbose=1)\n",
        "# fit model\n",
        "ctrain_model = combined_model.fit(X_train_scaled, train_y,\n",
        "                              batch_size=128,\n",
        "                    epochs=1000,\n",
        "                    verbose=0,\n",
        "                    validation_data=(X_val_scaled, y_val),\n",
        "                              callbacks=[es])\n",
        "\n",
        "# evaluate the model\n",
        "_, train_acc = combined_model.evaluate(X_train_scaled, train_y, verbose=0)\n",
        "_, test_acc = combined_model.evaluate(X_test_scaled, y_test, verbose=0)\n",
        "print('Train: %.3f, Test: %.3f' % (train_acc, test_acc))\n",
        "# plot training history\n",
        "plt.plot(ctrain_model.history['loss'], label='train')\n",
        "plt.plot(ctrain_model.history['val_loss'], label='test')\n",
        "plt.legend()\n",
        "plt.show()"
      ]
    },
    {
      "cell_type": "code",
      "execution_count": 14,
      "metadata": {
        "colab": {
          "base_uri": "https://localhost:8080/"
        },
        "id": "YWPzH8qV09t3",
        "outputId": "ef492bad-160f-4c06-c1e1-74fe883136ad"
      },
      "outputs": [
        {
          "name": "stdout",
          "output_type": "stream",
          "text": [
            "Test loss:  0.6199178099632263\n",
            "Test accuracy:  0.730571448802948\n"
          ]
        }
      ],
      "source": [
        "score = combined_model.evaluate(X_test_scaled, y_test, verbose=0)\n",
        "print(\"Test loss: \", score[0])\n",
        "print(\"Test accuracy: \", score[1])"
      ]
    },
    {
      "cell_type": "code",
      "execution_count": 15,
      "metadata": {
        "colab": {
          "base_uri": "https://localhost:8080/"
        },
        "id": "3DfSybFP1ICW",
        "outputId": "e2021c86-0dff-432e-ae18-d47b714992af"
      },
      "outputs": [
        {
          "name": "stdout",
          "output_type": "stream",
          "text": [
            "438/438 [==============================] - 1s 2ms/step\n"
          ]
        },
        {
          "data": {
            "text/plain": [
              "array([[ 991, 5997],\n",
              "       [1263, 5749]])"
            ]
          },
          "execution_count": 15,
          "metadata": {},
          "output_type": "execute_result"
        }
      ],
      "source": [
        "model_path = '/content/combined.pkl'\n",
        "make_predictions(model_path)"
      ]
    },
    {
      "cell_type": "markdown",
      "metadata": {
        "id": "pBC1Pclj1dpc"
      },
      "source": [
        "# Comparison of different models:"
      ]
    },
    {
      "cell_type": "code",
      "execution_count": 16,
      "metadata": {
        "colab": {
          "base_uri": "https://localhost:8080/"
        },
        "id": "8PxxpZEA1u5D",
        "outputId": "b1fc58cd-5f1f-4c9a-9003-3081fa56a484"
      },
      "outputs": [
        {
          "name": "stdout",
          "output_type": "stream",
          "text": [
            "None optimized Model's Accuracy: 74.13%\n",
            "optimized Model's accuracy: 73.06%\n"
          ]
        }
      ],
      "source": [
        "# 1. Model without Regularization:\n",
        "score = model.evaluate(X_test_scaled, y_test, verbose=0)\n",
        "normal = score[1] * 100\n",
        "print(\"None optimized Model's Accuracy: %.2f\" % normal + \"%\")\n",
        "\n",
        "# combined regularization Model:\n",
        "score = combined_model.evaluate(X_test_scaled, y_test, verbose=0)\n",
        "c = score[1] * 100\n",
        "print(\"optimized Model's accuracy: %.2f\" % c + \"%\")"
      ]
    },
    {
      "cell_type": "markdown",
      "metadata": {
        "id": "92FT2S9xWkRc"
      },
      "source": [
        "# Testing the Model:\n"
      ]
    },
    {
      "cell_type": "code",
      "execution_count": 19,
      "metadata": {
        "colab": {
          "base_uri": "https://localhost:8080/"
        },
        "id": "Lr-Jqss6Wo3-",
        "outputId": "8ca758c5-21da-4f16-f588-a1aa89cbec7e"
      },
      "outputs": [
        {
          "name": "stdout",
          "output_type": "stream",
          "text": [
            "1/1 [==============================] - 0s 19ms/step\n",
            "1/1 [==============================] - 0s 21ms/step\n",
            "model Class Label: 1\n",
            "combined_model Class Label: 1\n"
          ]
        }
      ],
      "source": [
        "\n",
        "def predict(data):\n",
        "  new_df = pd.DataFrame([data])\n",
        "  new_df['gender'] = new_df['gender'].map({'Male': 1, 'Female': 2})\n",
        "\n",
        "  # Here, assume all features need scaling.\n",
        "  scaled_features = scaler.transform(new_df)\n",
        "\n",
        "  predictions = {}\n",
        "\n",
        "  # Models list\n",
        "  models = [('model', model),\n",
        "            ('combined_model', combined_model)]\n",
        "\n",
        "  # Make a prediction with each model\n",
        "  for name, modell in models:\n",
        "      y_pred = modell.predict(scaled_features)\n",
        "      # Assuming binary classification and model.predict returns a probability\n",
        "      class_label = (y_pred >= 0.5).astype(int)\n",
        "      predictions[name] = class_label[0][0]  # Adjust based on your model's output shape\n",
        "\n",
        "  for model_name, class_label in predictions.items():\n",
        "      print(f\"{model_name} Class Label: {class_label}\")\n",
        "\n",
        "  # return predictions\n",
        "\n",
        "\n",
        "test_data = {\n",
        "    'age': 55,\n",
        "    'gender': 'Female',\n",
        "    'height': 156,\n",
        "    'weight': 85.0,\n",
        "    'ap_hi': 140,\n",
        "    'ap_lo': 90,\n",
        "    'cholesterol': 3,\n",
        "    'gluc': 1,\n",
        "    'smoke': 0,\n",
        "    'alco':0,\n",
        "    'active': 1\n",
        "}\n",
        "predict(test_data)\n",
        "# 55\t1\t156\t85.0\t140\t90\t3\t1\t0\t0\t1\t> 1 got 1\n",
        "# 51\t1\t165\t64.0\t130\t70\t3\t1\t0\t0\t0 > 1 got 1\n",
        "# 50\t2\t168\t62.0\t110\t80\t1\t1\t0\t0\t1\t> 0 got 0\n",
        "# age\tgender\theight\tweight\tap_hi\tap_lo\tcholesterol\tgluc\tsmoke\talco\tactive\tcardio"
      ]
    }
  ],
  "metadata": {
    "colab": {
      "authorship_tag": "ABX9TyPBgbwji3F0odtKX4IPxhTH",
      "include_colab_link": true,
      "provenance": []
    },
    "kernelspec": {
      "display_name": "Python 3",
      "name": "python3"
    },
    "language_info": {
      "name": "python"
    }
  },
  "nbformat": 4,
  "nbformat_minor": 0
}

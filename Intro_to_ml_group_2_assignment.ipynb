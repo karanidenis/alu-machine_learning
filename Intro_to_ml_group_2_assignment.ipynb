{
  "cells": [
    {
      "cell_type": "markdown",
      "metadata": {
        "id": "view-in-github",
        "colab_type": "text"
      },
      "source": [
        "<a href=\"https://colab.research.google.com/github/karanidenis/alu-machine_learning/blob/main/Intro_to_ml_group_2_assignment.ipynb\" target=\"_parent\"><img src=\"https://colab.research.google.com/assets/colab-badge.svg\" alt=\"Open In Colab\"/></a>"
      ]
    },
    {
      "cell_type": "markdown",
      "metadata": {
        "id": "ujuLMxSvoXbg"
      },
      "source": [
        "# Optimization Techniques in Machine Learning\n",
        "\n",
        "Objective: This assignment aims to explore implementation or Machine Learning Models with regularization, optimization and Error analysis  techniques used in machine learning to improve models' performance, convergence speed, and efficiency..\n",
        "\n",
        "\n",
        "\n",
        "\n",
        "**Instructions**\n",
        "\n",
        "1. Acquire a publicly available dataset suitable for **classification** tasks.\n",
        "2. Implement a simple machine learning model based on neural networks on the chosen dataset without any optimization techniques.\n",
        "3. Implement and compare the model's performance after applying regularization and optimization techniques.\n",
        "4. Compare and contrast L1 regularization (Lasso) and L2 regularization (Ridge). Discuss situations where each type of regularization might be preferred.\n",
        "5. Make predictions using test data (Make sure you have training, validation, and test datasets)\n",
        "6. Submit the code and a detailed explanation of the implementation, including libraries used, parameter settings, and observed results.\n"
      ]
    },
    {
      "cell_type": "markdown",
      "metadata": {
        "id": "P_C7TfFPv9qi"
      },
      "source": [
        "\n",
        "\n",
        "# **PRJECT NAME: SMART FASHION**\n",
        "\n",
        "---\n",
        "\n",
        "## Group Members and Roles:\n",
        "\n",
        "1. **Denis Waweru**\n",
        "   - Role: [Analyzer]\n",
        "   - Responsibilities:\n",
        "\n",
        "    *Implemented a prediction function for the models.\n",
        "\n",
        "    *Generated basic confusion matrices.\n",
        "\n",
        "    *Computed F1 scores for both models.\n",
        "\n",
        "    *Conducted simple error analysis.\n",
        "\n",
        "\n",
        "2. **Christian Makuochukwu Okeke**\n",
        "   - Role: [Evaluator]\n",
        "   - Responsibilities:\n",
        "   \n",
        "    *Trained models using appropriate techniques.\n",
        "\n",
        "    *Evaluated model performance using accuracy and loss metrics.\n",
        "\n",
        "    *Conducted basic analysis of results.\n",
        "\n",
        "    *Provided clear explanations of the model's components.\n",
        "\n",
        "\n",
        "3. **Praise Orly Atadja**\n",
        "   - Role: [Project Coordinator]\n",
        "   - Responsibilities:\n",
        "    \n",
        "    *Coordinated and scheduled team meetings.\n",
        "\n",
        "    *Ensured that project timelines were met.\n",
        "\n",
        "    *Facilitated communication among team members.\n",
        "\n",
        "    *Developed the model structure and documentation.\n",
        "\n",
        "  \n",
        "4. **Jean Robert Gatwaza**\n",
        "   - Role: [Role]\n",
        "   - Responsibilities:\n",
        "\n",
        "---\n"
      ]
    },
    {
      "cell_type": "markdown",
      "metadata": {
        "id": "o8VW_IzbI3od"
      },
      "source": [
        "\n",
        "# Case Study and Implementation\n",
        "\n",
        "\n"
      ]
    },
    {
      "cell_type": "markdown",
      "metadata": {
        "id": "Enpi8HPsgjDD"
      },
      "source": [
        "\n",
        "# Case Study and Implementation\n",
        "\n",
        "Case Study Summary: Fashion MNIST Classification\n",
        "\n",
        "- The case study centers on implementing a neural network model for Fashion MNIST classification, initially devoid of optimization techniques.\n",
        "- Key steps involve data handling through TensorFlow and Keras, encompassing loading, preprocessing, and splitting into training, validation, and test sets.\n",
        "- A basic neural network architecture is established, featuring a flattened input, hidden layers with suitable activation functions, and a softmax activation for classification.\n",
        "- To enhance model performance, regularization and optimization techniques are applied, including L1 and L2 regularization, dropout layers, batch normalization, and gradient clipping.\n",
        "- A comprehensive comparative analysis assesses the impact of these techniques, with a particular focus on scenarios favoring L1 or L2 regularization.\n",
        "- Evaluation involves making predictions using the test dataset, and the implementation code in Google Colabs is shared along with a README file detailing dataset sources, execution instructions, and a concise summary of observed results.\n",
        "\n",
        ">Link to README file:\n",
        "https://docs.google.com/document/d/1J0FS4AylwxgygREV6Rcu5F3ejN_IDSyMol1VitooHSY/edit?usp=sharing"
      ]
    },
    {
      "cell_type": "code",
      "execution_count": 1,
      "metadata": {
        "id": "wGCnpzs9M4Fd"
      },
      "outputs": [],
      "source": [
        "#Import Necessary Libraries\n",
        "import numpy as np\n",
        "import pandas as pd\n",
        "from sklearn.model_selection import train_test_split\n",
        "from sklearn.metrics import classification_report\n",
        "from tensorflow.keras.utils import to_categorical\n",
        "from tensorflow.keras.models import Sequential, load_model\n",
        "from tensorflow.keras.layers import Dense, Flatten, Conv2D, Dropout, MaxPooling2D\n",
        "from IPython.display import SVG\n",
        "from tensorflow.keras.utils import model_to_dot, plot_model\n",
        "from tensorflow.keras.optimizers import Adam\n",
        "from tensorflow.keras.losses import categorical_crossentropy\n",
        "from tensorflow.keras.regularizers import l1, l2\n",
        "import seaborn as sns\n",
        "import matplotlib.pyplot as plt\n",
        "%matplotlib inline\n",
        "import plotly.graph_objs as go\n",
        "import plotly.figure_factory as ff\n",
        "from plotly import tools\n",
        "from plotly.offline import download_plotlyjs, init_notebook_mode, plot, iplot\n",
        "from sklearn.metrics import confusion_matrix, classification_report"
      ]
    },
    {
      "cell_type": "markdown",
      "metadata": {
        "id": "M1FN7bFeIxfH"
      },
      "source": [
        "# The Dataset\n",
        "**Short Description of the Data:**\n",
        "\n",
        "The dataset comprises grayscale images of fashion items, each measuring 28x28 pixels for a total of 784 pixels. Each pixel has a single integer value between 0 and 255, representing its lightness or darkness. The dataset consists of 785 columns, with the first column containing class labels indicating the type of clothing, and the remaining columns containing pixel values. The task is to develop a model that can learn and generalize from this pixel data to accurately classify unseen fashion images into predefined categories.\n",
        "\n",
        "\n",
        "Link to Dataset Source :\n",
        "\n",
        "https://www.kaggle.com/datasets/zalando-research/fashionmnist\n"
      ]
    },
    {
      "cell_type": "code",
      "execution_count": 24,
      "metadata": {
        "colab": {
          "base_uri": "https://localhost:8080/"
        },
        "id": "nas-T7xwPIso",
        "outputId": "ae377f9e-2f0f-4396-bd94-e71a02687f7c"
      },
      "outputs": [
        {
          "output_type": "stream",
          "name": "stdout",
          "text": [
            "Fashion MNIST train -  rows: 60000  columns: 785\n",
            "Fashion MNIST test -  rows: 10000  columns: 785\n"
          ]
        }
      ],
      "source": [
        "#TO DO: Load Data (Seprate into: Train, Validation and test sets)\n",
        "IMG_ROWS = 28\n",
        "IMG_COLS = 28\n",
        "NUM_CLASSES = 10\n",
        "TEST_SIZE = 0.2\n",
        "RANDOM_STATE = 2018\n",
        "NO_EPOCHS = 50\n",
        "BATCH_SIZE = 128\n",
        "\n",
        "train_file = \"/content/sample_data/fashion-mnist_train.csv\"\n",
        "test_file = \"/content/sample_data/fashion-mnist_test.csv\"\n",
        "\n",
        "train_data = pd.read_csv(train_file)\n",
        "test_data = pd.read_csv(test_file)\n",
        "\n",
        "print(\"Fashion MNIST train -  rows:\",train_data.shape[0],\" columns:\", train_data.shape[1])\n",
        "print(\"Fashion MNIST test -  rows:\",test_data.shape[0],\" columns:\", test_data.shape[1])"
      ]
    },
    {
      "cell_type": "markdown",
      "metadata": {
        "id": "hE9oQm8OZSvO"
      },
      "source": [
        "# SECTION 1: Model Implementation"
      ]
    },
    {
      "cell_type": "markdown",
      "metadata": {
        "id": "ve4AiQmGMzIN"
      },
      "source": [
        "#Task: Model Architecture:\n",
        "\n",
        "\n",
        "\n",
        "```\n",
        "TODO: Insert an image with the Model architecture here.Replace the image Below\n",
        "```\n",
        "<!-- > <img src=\"https://miro.medium.com/v2/resize:fit:640/format:webp/1*v1ohAG82xmU6WGsG2hoE8g.png\" alt=\"?\" style=\"width:25px\"/> -->\n",
        "\n",
        "> <img src=\"https://miro.medium.com/v2/resize:fit:828/format:webp/1*2SHOuTUK51_Up3D9JMAplA.png\" alt=\"?\" style=\"width:25px\"/>\n",
        "\n",
        "\n",
        "# 1. without Regularization:\n",
        "##layers:\n",
        "      Conv2D layer with 32 filters\n",
        "      MaxPooling2D layer\n",
        "      Conv2D layer with 64 filters\n",
        "      MaxPooling2D layer\n",
        "      Conv2D layer with 128 filters\n",
        "      Flatten layer\n",
        "      Dense layer with 128 units\n",
        "      Dense output layer with a number of units equal to NUM_CLASSES\n",
        "\n",
        "# 2. With dropout Regularization:\n",
        "## layers:\n",
        "      Conv2D layer with 32 filters,\n",
        "      MaxPooling2D layer,\n",
        "      Dropout layer,\n",
        "      Conv2D layer with 64 filters,\n",
        "      MaxPooling2D layer,\n",
        "      Dropout layer,\n",
        "      Conv2D layer with 128 filters,\n",
        "      Dropout layer,\n",
        "      Flatten layer,\n",
        "      Dense layer with 128 units,\n",
        "      Dropout layer,\n",
        "      Dense output layer with a number of units equal to NUM_CLASSES.\n",
        "\n",
        "#3. With L1 Regularization:\n",
        "## layers:\n",
        "      Conv2D layer with 32 filters and L1 regularization\n",
        "      MaxPooling2D layer\n",
        "      Conv2D layer with 64 filters and L1 regularization\n",
        "      MaxPooling2D layer\n",
        "      Flatten layer\n",
        "      Dense layer with 128 units and L1 regularization\n",
        "      Dense output layer with 10 units (which corresponds to the number of classes)\n",
        "\n",
        "#4. With L2 Regularization:\n",
        "## layers:\n",
        "      Conv2D layer with 32 filters, L2 regularization, ReLU activation, and he_normal kernel initializer\n",
        "      MaxPooling2D layer with a 2x2 pool size\n",
        "      Conv2D layer with 64 filters and L2 regularization\n",
        "      MaxPooling2D layer with a 2x2 pool size\n",
        "      Flatten layer to convert the 2D feature maps into a 1D vector\n",
        "      Dense layer with 128 units, ReLU activation, and L2 regularization\n",
        "      Dense output layer with 10 units corresponding to the number of classes, with softmax activation for classification"
      ]
    },
    {
      "cell_type": "markdown",
      "metadata": {
        "id": "4qim1wVMxubJ"
      },
      "source": [
        "# Data Preprocessing"
      ]
    },
    {
      "cell_type": "code",
      "execution_count": 25,
      "metadata": {
        "colab": {
          "base_uri": "https://localhost:8080/"
        },
        "id": "40oDMT8-xtZi",
        "outputId": "f7f3e7f9-e0dd-46c3-ffac-8800e9550b52"
      },
      "outputs": [
        {
          "output_type": "stream",
          "name": "stdout",
          "text": [
            "Fashion MNIST train -  rows: 48000  columns: (28, 28, 1)\n",
            "Fashion MNIST valid -  rows: 12000  columns: (28, 28, 1)\n",
            "Fashion MNIST test -  rows: 10000  columns: (28, 28, 1)\n"
          ]
        }
      ],
      "source": [
        "def data_preprocessing(raw):\n",
        "    out_y = to_categorical(raw.label, NUM_CLASSES)\n",
        "    num_images = raw.shape[0]\n",
        "    x_as_array = raw.values[:,1:]\n",
        "    x_shaped_array = x_as_array.reshape(num_images, IMG_ROWS, IMG_COLS, 1)\n",
        "    out_x = x_shaped_array / 255\n",
        "    return out_x, out_y\n",
        "\n",
        "X, y = data_preprocessing(train_data)\n",
        "X_test, y_test = data_preprocessing(test_data)\n",
        "\n",
        "X_train, X_val, y_train, y_val = train_test_split(X, y, test_size=TEST_SIZE, random_state=RANDOM_STATE)\n",
        "\n",
        "print(\"Fashion MNIST train -  rows:\",X_train.shape[0],\" columns:\", X_train.shape[1:4])\n",
        "print(\"Fashion MNIST valid -  rows:\",X_val.shape[0],\" columns:\", X_val.shape[1:4])\n",
        "print(\"Fashion MNIST test -  rows:\",X_test.shape[0],\" columns:\", X_test.shape[1:4])"
      ]
    },
    {
      "cell_type": "markdown",
      "metadata": {
        "id": "QR4BNYoUMzMP"
      },
      "source": [
        "#Task: Create A Model Without any Optimization techniques\n"
      ]
    },
    {
      "cell_type": "code",
      "execution_count": 26,
      "metadata": {
        "id": "gGtPmYb_SDHy"
      },
      "outputs": [],
      "source": [
        "# model_1= Sequential()\n",
        "# model_1.add(Dense(None,activation = 'relu', input_shape=(None,None)))\n",
        "# #TO DO: Add more layers as per architecture\n",
        "# model_1.add(Dense(None), activation = '')\n",
        "\n",
        "\n",
        "model = Sequential()\n",
        "# Add convolution 2D\n",
        "model.add(Conv2D(32, kernel_size=(3, 3),\n",
        "                 activation='relu',\n",
        "                 kernel_initializer='he_normal',\n",
        "                 input_shape=(IMG_ROWS, IMG_COLS, 1)))\n",
        "model.add(MaxPooling2D((2, 2)))\n",
        "model.add(Conv2D(64,\n",
        "                 kernel_size=(3, 3),\n",
        "                 activation='relu'))\n",
        "model.add(MaxPooling2D(pool_size=(2, 2)))\n",
        "model.add(Conv2D(128, (3, 3), activation='relu'))\n",
        "model.add(Flatten())\n",
        "model.add(Dense(128, activation='relu'))\n",
        "model.add(Dense(NUM_CLASSES, activation='softmax'))\n",
        "\n",
        "model.compile(loss=categorical_crossentropy,\n",
        "              optimizer=Adam(),\n",
        "              metrics=['accuracy'])\n",
        "# model.save('model_mnist.h5')"
      ]
    },
    {
      "cell_type": "code",
      "execution_count": 27,
      "metadata": {
        "colab": {
          "base_uri": "https://localhost:8080/"
        },
        "id": "kzcWeOk-Sy9x",
        "outputId": "26b7d86e-88ad-4bc5-836f-fdb638ccbe13"
      },
      "outputs": [
        {
          "output_type": "stream",
          "name": "stdout",
          "text": [
            "Model: \"sequential_2\"\n",
            "_________________________________________________________________\n",
            " Layer (type)                Output Shape              Param #   \n",
            "=================================================================\n",
            " conv2d_6 (Conv2D)           (None, 26, 26, 32)        320       \n",
            "                                                                 \n",
            " max_pooling2d_4 (MaxPoolin  (None, 13, 13, 32)        0         \n",
            " g2D)                                                            \n",
            "                                                                 \n",
            " conv2d_7 (Conv2D)           (None, 11, 11, 64)        18496     \n",
            "                                                                 \n",
            " max_pooling2d_5 (MaxPoolin  (None, 5, 5, 64)          0         \n",
            " g2D)                                                            \n",
            "                                                                 \n",
            " conv2d_8 (Conv2D)           (None, 3, 3, 128)         73856     \n",
            "                                                                 \n",
            " flatten_2 (Flatten)         (None, 1152)              0         \n",
            "                                                                 \n",
            " dense_4 (Dense)             (None, 128)               147584    \n",
            "                                                                 \n",
            " dense_5 (Dense)             (None, 10)                1290      \n",
            "                                                                 \n",
            "=================================================================\n",
            "Total params: 241546 (943.54 KB)\n",
            "Trainable params: 241546 (943.54 KB)\n",
            "Non-trainable params: 0 (0.00 Byte)\n",
            "_________________________________________________________________\n"
          ]
        }
      ],
      "source": [
        "model.summary()"
      ]
    },
    {
      "cell_type": "code",
      "execution_count": 28,
      "metadata": {
        "colab": {
          "base_uri": "https://localhost:8080/"
        },
        "id": "iHH84_wvybC9",
        "outputId": "ad840005-a77d-4f51-a883-c9f9e7d12eb0"
      },
      "outputs": [
        {
          "output_type": "stream",
          "name": "stdout",
          "text": [
            "Epoch 1/50\n",
            "375/375 [==============================] - 47s 122ms/step - loss: 0.5339 - accuracy: 0.8072 - val_loss: 0.3629 - val_accuracy: 0.8692\n",
            "Epoch 2/50\n",
            "375/375 [==============================] - 44s 117ms/step - loss: 0.3358 - accuracy: 0.8785 - val_loss: 0.3203 - val_accuracy: 0.8848\n",
            "Epoch 3/50\n",
            "375/375 [==============================] - 43s 116ms/step - loss: 0.2862 - accuracy: 0.8966 - val_loss: 0.2835 - val_accuracy: 0.8988\n",
            "Epoch 4/50\n",
            "375/375 [==============================] - 44s 116ms/step - loss: 0.2540 - accuracy: 0.9068 - val_loss: 0.2808 - val_accuracy: 0.8996\n",
            "Epoch 5/50\n",
            "375/375 [==============================] - 47s 124ms/step - loss: 0.2256 - accuracy: 0.9172 - val_loss: 0.2805 - val_accuracy: 0.9038\n",
            "Epoch 6/50\n",
            "375/375 [==============================] - 43s 115ms/step - loss: 0.2079 - accuracy: 0.9234 - val_loss: 0.2633 - val_accuracy: 0.9066\n",
            "Epoch 7/50\n",
            "375/375 [==============================] - 43s 116ms/step - loss: 0.1825 - accuracy: 0.9333 - val_loss: 0.2699 - val_accuracy: 0.9062\n",
            "Epoch 8/50\n",
            "375/375 [==============================] - 44s 116ms/step - loss: 0.1630 - accuracy: 0.9390 - val_loss: 0.2660 - val_accuracy: 0.9103\n",
            "Epoch 9/50\n",
            "375/375 [==============================] - 43s 115ms/step - loss: 0.1461 - accuracy: 0.9458 - val_loss: 0.2709 - val_accuracy: 0.9061\n",
            "Epoch 10/50\n",
            "375/375 [==============================] - 45s 120ms/step - loss: 0.1337 - accuracy: 0.9502 - val_loss: 0.2743 - val_accuracy: 0.9119\n",
            "Epoch 11/50\n",
            "375/375 [==============================] - 44s 116ms/step - loss: 0.1167 - accuracy: 0.9569 - val_loss: 0.2813 - val_accuracy: 0.9092\n",
            "Epoch 12/50\n",
            "375/375 [==============================] - 43s 116ms/step - loss: 0.1042 - accuracy: 0.9613 - val_loss: 0.2839 - val_accuracy: 0.9134\n",
            "Epoch 13/50\n",
            "375/375 [==============================] - 44s 116ms/step - loss: 0.0905 - accuracy: 0.9668 - val_loss: 0.3040 - val_accuracy: 0.9128\n",
            "Epoch 14/50\n",
            "375/375 [==============================] - 45s 120ms/step - loss: 0.0829 - accuracy: 0.9698 - val_loss: 0.3389 - val_accuracy: 0.9094\n",
            "Epoch 15/50\n",
            "375/375 [==============================] - 44s 117ms/step - loss: 0.0709 - accuracy: 0.9742 - val_loss: 0.3462 - val_accuracy: 0.9087\n",
            "Epoch 16/50\n",
            "375/375 [==============================] - 44s 117ms/step - loss: 0.0637 - accuracy: 0.9762 - val_loss: 0.3452 - val_accuracy: 0.9103\n",
            "Epoch 17/50\n",
            "375/375 [==============================] - 45s 121ms/step - loss: 0.0579 - accuracy: 0.9783 - val_loss: 0.3698 - val_accuracy: 0.9092\n",
            "Epoch 18/50\n",
            "375/375 [==============================] - 45s 120ms/step - loss: 0.0492 - accuracy: 0.9814 - val_loss: 0.4211 - val_accuracy: 0.9106\n",
            "Epoch 19/50\n",
            "375/375 [==============================] - 44s 116ms/step - loss: 0.0414 - accuracy: 0.9845 - val_loss: 0.4209 - val_accuracy: 0.9094\n",
            "Epoch 20/50\n",
            "375/375 [==============================] - 44s 116ms/step - loss: 0.0479 - accuracy: 0.9820 - val_loss: 0.4379 - val_accuracy: 0.9072\n",
            "Epoch 21/50\n",
            "375/375 [==============================] - 43s 116ms/step - loss: 0.0353 - accuracy: 0.9874 - val_loss: 0.4738 - val_accuracy: 0.9066\n",
            "Epoch 22/50\n",
            "375/375 [==============================] - 46s 124ms/step - loss: 0.0325 - accuracy: 0.9880 - val_loss: 0.4690 - val_accuracy: 0.9062\n",
            "Epoch 23/50\n",
            "375/375 [==============================] - 46s 122ms/step - loss: 0.0284 - accuracy: 0.9897 - val_loss: 0.4932 - val_accuracy: 0.9027\n",
            "Epoch 24/50\n",
            "375/375 [==============================] - 44s 117ms/step - loss: 0.0332 - accuracy: 0.9882 - val_loss: 0.5276 - val_accuracy: 0.9027\n",
            "Epoch 25/50\n",
            "375/375 [==============================] - 44s 117ms/step - loss: 0.0329 - accuracy: 0.9883 - val_loss: 0.4792 - val_accuracy: 0.9055\n",
            "Epoch 26/50\n",
            "375/375 [==============================] - 45s 121ms/step - loss: 0.0345 - accuracy: 0.9878 - val_loss: 0.5016 - val_accuracy: 0.9074\n",
            "Epoch 27/50\n",
            "375/375 [==============================] - 44s 118ms/step - loss: 0.0283 - accuracy: 0.9901 - val_loss: 0.5351 - val_accuracy: 0.9065\n",
            "Epoch 28/50\n",
            "375/375 [==============================] - 46s 122ms/step - loss: 0.0216 - accuracy: 0.9923 - val_loss: 0.5494 - val_accuracy: 0.9088\n",
            "Epoch 29/50\n",
            "375/375 [==============================] - 43s 116ms/step - loss: 0.0211 - accuracy: 0.9924 - val_loss: 0.5497 - val_accuracy: 0.9097\n",
            "Epoch 30/50\n",
            "375/375 [==============================] - 45s 120ms/step - loss: 0.0227 - accuracy: 0.9919 - val_loss: 0.5887 - val_accuracy: 0.9117\n",
            "Epoch 31/50\n",
            "375/375 [==============================] - 44s 116ms/step - loss: 0.0260 - accuracy: 0.9910 - val_loss: 0.5662 - val_accuracy: 0.9049\n",
            "Epoch 32/50\n",
            "375/375 [==============================] - 43s 114ms/step - loss: 0.0248 - accuracy: 0.9910 - val_loss: 0.6115 - val_accuracy: 0.9032\n",
            "Epoch 33/50\n",
            "375/375 [==============================] - 43s 116ms/step - loss: 0.0203 - accuracy: 0.9927 - val_loss: 0.5805 - val_accuracy: 0.9109\n",
            "Epoch 34/50\n",
            "375/375 [==============================] - 44s 116ms/step - loss: 0.0176 - accuracy: 0.9943 - val_loss: 0.6284 - val_accuracy: 0.9062\n",
            "Epoch 35/50\n",
            "375/375 [==============================] - 46s 122ms/step - loss: 0.0247 - accuracy: 0.9916 - val_loss: 0.6372 - val_accuracy: 0.9112\n",
            "Epoch 36/50\n",
            "375/375 [==============================] - 46s 121ms/step - loss: 0.0177 - accuracy: 0.9938 - val_loss: 0.6240 - val_accuracy: 0.9103\n",
            "Epoch 37/50\n",
            "375/375 [==============================] - 44s 116ms/step - loss: 0.0173 - accuracy: 0.9937 - val_loss: 0.6702 - val_accuracy: 0.9062\n",
            "Epoch 38/50\n",
            "375/375 [==============================] - 44s 116ms/step - loss: 0.0171 - accuracy: 0.9938 - val_loss: 0.6450 - val_accuracy: 0.9108\n",
            "Epoch 39/50\n",
            "375/375 [==============================] - 45s 120ms/step - loss: 0.0227 - accuracy: 0.9921 - val_loss: 0.6581 - val_accuracy: 0.9102\n",
            "Epoch 40/50\n",
            "375/375 [==============================] - 43s 115ms/step - loss: 0.0182 - accuracy: 0.9934 - val_loss: 0.6397 - val_accuracy: 0.9124\n",
            "Epoch 41/50\n",
            "375/375 [==============================] - 43s 115ms/step - loss: 0.0165 - accuracy: 0.9940 - val_loss: 0.6849 - val_accuracy: 0.9115\n",
            "Epoch 42/50\n",
            "375/375 [==============================] - 43s 115ms/step - loss: 0.0199 - accuracy: 0.9930 - val_loss: 0.6546 - val_accuracy: 0.9071\n",
            "Epoch 43/50\n",
            "375/375 [==============================] - 45s 120ms/step - loss: 0.0134 - accuracy: 0.9953 - val_loss: 0.6928 - val_accuracy: 0.9114\n",
            "Epoch 44/50\n",
            "375/375 [==============================] - 46s 122ms/step - loss: 0.0187 - accuracy: 0.9939 - val_loss: 0.6756 - val_accuracy: 0.9032\n",
            "Epoch 45/50\n",
            "375/375 [==============================] - 43s 114ms/step - loss: 0.0136 - accuracy: 0.9952 - val_loss: 0.7195 - val_accuracy: 0.9084\n",
            "Epoch 46/50\n",
            "375/375 [==============================] - 43s 114ms/step - loss: 0.0059 - accuracy: 0.9983 - val_loss: 0.7635 - val_accuracy: 0.9057\n",
            "Epoch 47/50\n",
            "375/375 [==============================] - 45s 119ms/step - loss: 0.0284 - accuracy: 0.9906 - val_loss: 0.7036 - val_accuracy: 0.9073\n",
            "Epoch 48/50\n",
            "375/375 [==============================] - 43s 115ms/step - loss: 0.0167 - accuracy: 0.9938 - val_loss: 0.7517 - val_accuracy: 0.9069\n",
            "Epoch 49/50\n",
            "375/375 [==============================] - 43s 115ms/step - loss: 0.0136 - accuracy: 0.9956 - val_loss: 0.7398 - val_accuracy: 0.9053\n",
            "Epoch 50/50\n",
            "375/375 [==============================] - 43s 113ms/step - loss: 0.0170 - accuracy: 0.9945 - val_loss: 0.7165 - val_accuracy: 0.9062\n"
          ]
        },
        {
          "output_type": "stream",
          "name": "stderr",
          "text": [
            "/usr/local/lib/python3.10/dist-packages/keras/src/engine/training.py:3103: UserWarning:\n",
            "\n",
            "You are saving your model as an HDF5 file via `model.save()`. This file format is considered legacy. We recommend using instead the native Keras format, e.g. `model.save('my_model.keras')`.\n",
            "\n"
          ]
        }
      ],
      "source": [
        "# model_1.compile(pass)\n",
        "\n",
        "# Run the model\n",
        "train_model = model.fit(X_train, y_train,\n",
        "                  batch_size=BATCH_SIZE,\n",
        "                  epochs=NO_EPOCHS,\n",
        "                  verbose=1,\n",
        "                  validation_data=(X_val, y_val))\n",
        "model.save('trained_model_mnist.h5')"
      ]
    },
    {
      "cell_type": "markdown",
      "metadata": {
        "id": "KJ9OXp1TSaXn"
      },
      "source": [
        "# Task: Print out the Final Model Accuracy and plot the Loss curve"
      ]
    },
    {
      "cell_type": "code",
      "execution_count": 29,
      "metadata": {
        "colab": {
          "base_uri": "https://localhost:8080/"
        },
        "id": "6O11JorTY3z-",
        "outputId": "1cbe8008-9243-4063-a8ef-91775d9f77fb"
      },
      "outputs": [
        {
          "output_type": "stream",
          "name": "stdout",
          "text": [
            "Test loss: 0.6267682313919067\n",
            "Test accuracy: 0.9132999777793884\n"
          ]
        }
      ],
      "source": [
        "score = model.evaluate(X_test, y_test, verbose=0)\n",
        "print('Test loss:', score[0])\n",
        "print('Test accuracy:', score[1])"
      ]
    },
    {
      "cell_type": "code",
      "execution_count": 30,
      "metadata": {
        "colab": {
          "base_uri": "https://localhost:8080/",
          "height": 631
        },
        "id": "fkihQBsaUxGh",
        "outputId": "535de721-e715-4a6d-e2aa-c40d42dc0e44"
      },
      "outputs": [
        {
          "output_type": "stream",
          "name": "stderr",
          "text": [
            "/usr/local/lib/python3.10/dist-packages/plotly/tools.py:460: DeprecationWarning:\n",
            "\n",
            "plotly.tools.make_subplots is deprecated, please use plotly.subplots.make_subplots instead\n",
            "\n"
          ]
        },
        {
          "output_type": "display_data",
          "data": {
            "text/html": [
              "<html>\n",
              "<head><meta charset=\"utf-8\" /></head>\n",
              "<body>\n",
              "    <div>            <script src=\"https://cdnjs.cloudflare.com/ajax/libs/mathjax/2.7.5/MathJax.js?config=TeX-AMS-MML_SVG\"></script><script type=\"text/javascript\">if (window.MathJax && window.MathJax.Hub && window.MathJax.Hub.Config) {window.MathJax.Hub.Config({SVG: {font: \"STIX-Web\"}});}</script>                <script type=\"text/javascript\">window.PlotlyConfig = {MathJaxConfig: 'local'};</script>\n",
              "        <script charset=\"utf-8\" src=\"https://cdn.plot.ly/plotly-2.24.1.min.js\"></script>                <div id=\"91c91916-5fe2-4aac-ab20-ef545ce5c708\" class=\"plotly-graph-div\" style=\"height:525px; width:100%;\"></div>            <script type=\"text/javascript\">                                    window.PLOTLYENV=window.PLOTLYENV || {};                                    if (document.getElementById(\"91c91916-5fe2-4aac-ab20-ef545ce5c708\")) {                    Plotly.newPlot(                        \"91c91916-5fe2-4aac-ab20-ef545ce5c708\",                        [{\"marker\":{\"color\":\"Green\"},\"mode\":\"markers+lines\",\"name\":\"Training accuracy\",\"text\":[\"1\",\"2\",\"3\",\"4\",\"5\",\"6\",\"7\",\"8\",\"9\",\"10\",\"11\",\"12\",\"13\",\"14\",\"15\",\"16\",\"17\",\"18\",\"19\",\"20\",\"21\",\"22\",\"23\",\"24\",\"25\",\"26\",\"27\",\"28\",\"29\",\"30\",\"31\",\"32\",\"33\",\"34\",\"35\",\"36\",\"37\",\"38\",\"39\",\"40\",\"41\",\"42\",\"43\",\"44\",\"45\",\"46\",\"47\",\"48\",\"49\",\"50\"],\"x\":[1,2,3,4,5,6,7,8,9,10,11,12,13,14,15,16,17,18,19,20,21,22,23,24,25,26,27,28,29,30,31,32,33,34,35,36,37,38,39,40,41,42,43,44,45,46,47,48,49,50],\"xaxis\":\"x\",\"y\":[0.8071874976158142,0.8784791827201843,0.8965833187103271,0.9067916870117188,0.9172083139419556,0.9234374761581421,0.9333124756813049,0.9390000104904175,0.9457708597183228,0.950208306312561,0.9568958282470703,0.9613333344459534,0.9667708277702332,0.9698333144187927,0.9741666913032532,0.9761666655540466,0.9783124923706055,0.9813541769981384,0.9845208525657654,0.9820416569709778,0.9873958230018616,0.9880416393280029,0.9896875023841858,0.9881874918937683,0.9883333444595337,0.9878125190734863,0.9901250004768372,0.9922500252723694,0.992437481880188,0.9918749928474426,0.9909583330154419,0.9909999966621399,0.9926875233650208,0.9943125247955322,0.9916250109672546,0.9938333630561829,0.9937499761581421,0.9938333630561829,0.992062509059906,0.9934166669845581,0.9939583539962769,0.9929583072662354,0.9952916502952576,0.9939166903495789,0.995229184627533,0.9982708096504211,0.9905624985694885,0.9938125014305115,0.9956458210945129,0.9945416450500488],\"yaxis\":\"y\",\"type\":\"scatter\"},{\"marker\":{\"color\":\"Red\"},\"mode\":\"markers+lines\",\"name\":\"Validation accuracy\",\"text\":[\"1\",\"2\",\"3\",\"4\",\"5\",\"6\",\"7\",\"8\",\"9\",\"10\",\"11\",\"12\",\"13\",\"14\",\"15\",\"16\",\"17\",\"18\",\"19\",\"20\",\"21\",\"22\",\"23\",\"24\",\"25\",\"26\",\"27\",\"28\",\"29\",\"30\",\"31\",\"32\",\"33\",\"34\",\"35\",\"36\",\"37\",\"38\",\"39\",\"40\",\"41\",\"42\",\"43\",\"44\",\"45\",\"46\",\"47\",\"48\",\"49\",\"50\"],\"x\":[1,2,3,4,5,6,7,8,9,10,11,12,13,14,15,16,17,18,19,20,21,22,23,24,25,26,27,28,29,30,31,32,33,34,35,36,37,38,39,40,41,42,43,44,45,46,47,48,49,50],\"xaxis\":\"x\",\"y\":[0.8691666722297668,0.8848333358764648,0.8987500071525574,0.8995833396911621,0.9038333296775818,0.906583309173584,0.90625,0.9102500081062317,0.906083345413208,0.9119166731834412,0.909166693687439,0.9134166836738586,0.9127500057220459,0.909416675567627,0.9086666703224182,0.9102500081062317,0.909166693687439,0.9105833172798157,0.909416675567627,0.9071666598320007,0.906583309173584,0.90625,0.9026666879653931,0.9026666879653931,0.9054999947547913,0.9074166417121887,0.906499981880188,0.9088333249092102,0.9097499847412109,0.9116666913032532,0.9049166440963745,0.903249979019165,0.9109166860580444,0.906166672706604,0.9111666679382324,0.9103333353996277,0.906166672706604,0.9108333587646484,0.9101666808128357,0.9124166369438171,0.9114999771118164,0.9070833325386047,0.9114166498184204,0.903249979019165,0.9084166884422302,0.9057499766349792,0.9073333144187927,0.9069166779518127,0.9053333401679993,0.90625],\"yaxis\":\"y\",\"type\":\"scatter\"},{\"marker\":{\"color\":\"Blue\"},\"mode\":\"markers+lines\",\"name\":\"Training loss\",\"text\":[\"1\",\"2\",\"3\",\"4\",\"5\",\"6\",\"7\",\"8\",\"9\",\"10\",\"11\",\"12\",\"13\",\"14\",\"15\",\"16\",\"17\",\"18\",\"19\",\"20\",\"21\",\"22\",\"23\",\"24\",\"25\",\"26\",\"27\",\"28\",\"29\",\"30\",\"31\",\"32\",\"33\",\"34\",\"35\",\"36\",\"37\",\"38\",\"39\",\"40\",\"41\",\"42\",\"43\",\"44\",\"45\",\"46\",\"47\",\"48\",\"49\",\"50\"],\"x\":[1,2,3,4,5,6,7,8,9,10,11,12,13,14,15,16,17,18,19,20,21,22,23,24,25,26,27,28,29,30,31,32,33,34,35,36,37,38,39,40,41,42,43,44,45,46,47,48,49,50],\"xaxis\":\"x2\",\"y\":[0.5339260101318359,0.3358452320098877,0.2862359285354614,0.2539857029914856,0.22559818625450134,0.20791248977184296,0.18249329924583435,0.16302861273288727,0.1461438536643982,0.13369546830654144,0.1166764423251152,0.10424249619245529,0.09049413353204727,0.08290468156337738,0.0709112137556076,0.06372654438018799,0.057937104254961014,0.04924851655960083,0.0414203442633152,0.04790673777461052,0.035310082137584686,0.03248446062207222,0.028369296342134476,0.033248886466026306,0.03293115273118019,0.03449999541044235,0.02828291617333889,0.021629825234413147,0.021072950214147568,0.022665532305836678,0.02595451846718788,0.02477288991212845,0.020272959023714066,0.017624208703637123,0.024704709649086,0.01766945980489254,0.01729152724146843,0.017084548249840736,0.0226510651409626,0.018234841525554657,0.016494913026690483,0.01988021470606327,0.013394859619438648,0.018739061430096626,0.013564329594373703,0.005894238129258156,0.028358055278658867,0.01666077971458435,0.01359501015394926,0.016960937529802322],\"yaxis\":\"y2\",\"type\":\"scatter\"},{\"marker\":{\"color\":\"Magenta\"},\"mode\":\"markers+lines\",\"name\":\"Validation loss\",\"text\":[\"1\",\"2\",\"3\",\"4\",\"5\",\"6\",\"7\",\"8\",\"9\",\"10\",\"11\",\"12\",\"13\",\"14\",\"15\",\"16\",\"17\",\"18\",\"19\",\"20\",\"21\",\"22\",\"23\",\"24\",\"25\",\"26\",\"27\",\"28\",\"29\",\"30\",\"31\",\"32\",\"33\",\"34\",\"35\",\"36\",\"37\",\"38\",\"39\",\"40\",\"41\",\"42\",\"43\",\"44\",\"45\",\"46\",\"47\",\"48\",\"49\",\"50\"],\"x\":[1,2,3,4,5,6,7,8,9,10,11,12,13,14,15,16,17,18,19,20,21,22,23,24,25,26,27,28,29,30,31,32,33,34,35,36,37,38,39,40,41,42,43,44,45,46,47,48,49,50],\"xaxis\":\"x2\",\"y\":[0.3628798723220825,0.3203275203704834,0.28345268964767456,0.28080013394355774,0.2805497944355011,0.26331621408462524,0.2698635756969452,0.26596829295158386,0.2709149718284607,0.2742994725704193,0.2813112735748291,0.28392237424850464,0.3040136694908142,0.33894914388656616,0.34622636437416077,0.3451886475086212,0.3697522282600403,0.42112788558006287,0.42093685269355774,0.43793848156929016,0.4738485813140869,0.4690018594264984,0.4931883215904236,0.5275858044624329,0.4792463481426239,0.5015905499458313,0.5351366400718689,0.5493588447570801,0.5496691465377808,0.5886648297309875,0.5661929845809937,0.6114873290061951,0.5804823637008667,0.6284270286560059,0.6372291445732117,0.6240171790122986,0.6702485680580139,0.6450002193450928,0.6580529808998108,0.6397244334220886,0.6848825812339783,0.6546491980552673,0.6927882432937622,0.6755738258361816,0.7194871306419373,0.763520359992981,0.703648030757904,0.751668393611908,0.7397791147232056,0.7164591550827026],\"yaxis\":\"y2\",\"type\":\"scatter\"}],                        {\"annotations\":[{\"font\":{\"size\":16},\"showarrow\":false,\"text\":\"Training and validation accuracy\",\"x\":0.225,\"xanchor\":\"center\",\"xref\":\"paper\",\"y\":1.0,\"yanchor\":\"bottom\",\"yref\":\"paper\"},{\"font\":{\"size\":16},\"showarrow\":false,\"text\":\"Training and validation loss\",\"x\":0.775,\"xanchor\":\"center\",\"xref\":\"paper\",\"y\":1.0,\"yanchor\":\"bottom\",\"yref\":\"paper\"}],\"template\":{\"data\":{\"barpolar\":[{\"marker\":{\"line\":{\"color\":\"#E5ECF6\",\"width\":0.5},\"pattern\":{\"fillmode\":\"overlay\",\"size\":10,\"solidity\":0.2}},\"type\":\"barpolar\"}],\"bar\":[{\"error_x\":{\"color\":\"#2a3f5f\"},\"error_y\":{\"color\":\"#2a3f5f\"},\"marker\":{\"line\":{\"color\":\"#E5ECF6\",\"width\":0.5},\"pattern\":{\"fillmode\":\"overlay\",\"size\":10,\"solidity\":0.2}},\"type\":\"bar\"}],\"carpet\":[{\"aaxis\":{\"endlinecolor\":\"#2a3f5f\",\"gridcolor\":\"white\",\"linecolor\":\"white\",\"minorgridcolor\":\"white\",\"startlinecolor\":\"#2a3f5f\"},\"baxis\":{\"endlinecolor\":\"#2a3f5f\",\"gridcolor\":\"white\",\"linecolor\":\"white\",\"minorgridcolor\":\"white\",\"startlinecolor\":\"#2a3f5f\"},\"type\":\"carpet\"}],\"choropleth\":[{\"colorbar\":{\"outlinewidth\":0,\"ticks\":\"\"},\"type\":\"choropleth\"}],\"contourcarpet\":[{\"colorbar\":{\"outlinewidth\":0,\"ticks\":\"\"},\"type\":\"contourcarpet\"}],\"contour\":[{\"colorbar\":{\"outlinewidth\":0,\"ticks\":\"\"},\"colorscale\":[[0.0,\"#0d0887\"],[0.1111111111111111,\"#46039f\"],[0.2222222222222222,\"#7201a8\"],[0.3333333333333333,\"#9c179e\"],[0.4444444444444444,\"#bd3786\"],[0.5555555555555556,\"#d8576b\"],[0.6666666666666666,\"#ed7953\"],[0.7777777777777778,\"#fb9f3a\"],[0.8888888888888888,\"#fdca26\"],[1.0,\"#f0f921\"]],\"type\":\"contour\"}],\"heatmapgl\":[{\"colorbar\":{\"outlinewidth\":0,\"ticks\":\"\"},\"colorscale\":[[0.0,\"#0d0887\"],[0.1111111111111111,\"#46039f\"],[0.2222222222222222,\"#7201a8\"],[0.3333333333333333,\"#9c179e\"],[0.4444444444444444,\"#bd3786\"],[0.5555555555555556,\"#d8576b\"],[0.6666666666666666,\"#ed7953\"],[0.7777777777777778,\"#fb9f3a\"],[0.8888888888888888,\"#fdca26\"],[1.0,\"#f0f921\"]],\"type\":\"heatmapgl\"}],\"heatmap\":[{\"colorbar\":{\"outlinewidth\":0,\"ticks\":\"\"},\"colorscale\":[[0.0,\"#0d0887\"],[0.1111111111111111,\"#46039f\"],[0.2222222222222222,\"#7201a8\"],[0.3333333333333333,\"#9c179e\"],[0.4444444444444444,\"#bd3786\"],[0.5555555555555556,\"#d8576b\"],[0.6666666666666666,\"#ed7953\"],[0.7777777777777778,\"#fb9f3a\"],[0.8888888888888888,\"#fdca26\"],[1.0,\"#f0f921\"]],\"type\":\"heatmap\"}],\"histogram2dcontour\":[{\"colorbar\":{\"outlinewidth\":0,\"ticks\":\"\"},\"colorscale\":[[0.0,\"#0d0887\"],[0.1111111111111111,\"#46039f\"],[0.2222222222222222,\"#7201a8\"],[0.3333333333333333,\"#9c179e\"],[0.4444444444444444,\"#bd3786\"],[0.5555555555555556,\"#d8576b\"],[0.6666666666666666,\"#ed7953\"],[0.7777777777777778,\"#fb9f3a\"],[0.8888888888888888,\"#fdca26\"],[1.0,\"#f0f921\"]],\"type\":\"histogram2dcontour\"}],\"histogram2d\":[{\"colorbar\":{\"outlinewidth\":0,\"ticks\":\"\"},\"colorscale\":[[0.0,\"#0d0887\"],[0.1111111111111111,\"#46039f\"],[0.2222222222222222,\"#7201a8\"],[0.3333333333333333,\"#9c179e\"],[0.4444444444444444,\"#bd3786\"],[0.5555555555555556,\"#d8576b\"],[0.6666666666666666,\"#ed7953\"],[0.7777777777777778,\"#fb9f3a\"],[0.8888888888888888,\"#fdca26\"],[1.0,\"#f0f921\"]],\"type\":\"histogram2d\"}],\"histogram\":[{\"marker\":{\"pattern\":{\"fillmode\":\"overlay\",\"size\":10,\"solidity\":0.2}},\"type\":\"histogram\"}],\"mesh3d\":[{\"colorbar\":{\"outlinewidth\":0,\"ticks\":\"\"},\"type\":\"mesh3d\"}],\"parcoords\":[{\"line\":{\"colorbar\":{\"outlinewidth\":0,\"ticks\":\"\"}},\"type\":\"parcoords\"}],\"pie\":[{\"automargin\":true,\"type\":\"pie\"}],\"scatter3d\":[{\"line\":{\"colorbar\":{\"outlinewidth\":0,\"ticks\":\"\"}},\"marker\":{\"colorbar\":{\"outlinewidth\":0,\"ticks\":\"\"}},\"type\":\"scatter3d\"}],\"scattercarpet\":[{\"marker\":{\"colorbar\":{\"outlinewidth\":0,\"ticks\":\"\"}},\"type\":\"scattercarpet\"}],\"scattergeo\":[{\"marker\":{\"colorbar\":{\"outlinewidth\":0,\"ticks\":\"\"}},\"type\":\"scattergeo\"}],\"scattergl\":[{\"marker\":{\"colorbar\":{\"outlinewidth\":0,\"ticks\":\"\"}},\"type\":\"scattergl\"}],\"scattermapbox\":[{\"marker\":{\"colorbar\":{\"outlinewidth\":0,\"ticks\":\"\"}},\"type\":\"scattermapbox\"}],\"scatterpolargl\":[{\"marker\":{\"colorbar\":{\"outlinewidth\":0,\"ticks\":\"\"}},\"type\":\"scatterpolargl\"}],\"scatterpolar\":[{\"marker\":{\"colorbar\":{\"outlinewidth\":0,\"ticks\":\"\"}},\"type\":\"scatterpolar\"}],\"scatter\":[{\"fillpattern\":{\"fillmode\":\"overlay\",\"size\":10,\"solidity\":0.2},\"type\":\"scatter\"}],\"scatterternary\":[{\"marker\":{\"colorbar\":{\"outlinewidth\":0,\"ticks\":\"\"}},\"type\":\"scatterternary\"}],\"surface\":[{\"colorbar\":{\"outlinewidth\":0,\"ticks\":\"\"},\"colorscale\":[[0.0,\"#0d0887\"],[0.1111111111111111,\"#46039f\"],[0.2222222222222222,\"#7201a8\"],[0.3333333333333333,\"#9c179e\"],[0.4444444444444444,\"#bd3786\"],[0.5555555555555556,\"#d8576b\"],[0.6666666666666666,\"#ed7953\"],[0.7777777777777778,\"#fb9f3a\"],[0.8888888888888888,\"#fdca26\"],[1.0,\"#f0f921\"]],\"type\":\"surface\"}],\"table\":[{\"cells\":{\"fill\":{\"color\":\"#EBF0F8\"},\"line\":{\"color\":\"white\"}},\"header\":{\"fill\":{\"color\":\"#C8D4E3\"},\"line\":{\"color\":\"white\"}},\"type\":\"table\"}]},\"layout\":{\"annotationdefaults\":{\"arrowcolor\":\"#2a3f5f\",\"arrowhead\":0,\"arrowwidth\":1},\"autotypenumbers\":\"strict\",\"coloraxis\":{\"colorbar\":{\"outlinewidth\":0,\"ticks\":\"\"}},\"colorscale\":{\"diverging\":[[0,\"#8e0152\"],[0.1,\"#c51b7d\"],[0.2,\"#de77ae\"],[0.3,\"#f1b6da\"],[0.4,\"#fde0ef\"],[0.5,\"#f7f7f7\"],[0.6,\"#e6f5d0\"],[0.7,\"#b8e186\"],[0.8,\"#7fbc41\"],[0.9,\"#4d9221\"],[1,\"#276419\"]],\"sequential\":[[0.0,\"#0d0887\"],[0.1111111111111111,\"#46039f\"],[0.2222222222222222,\"#7201a8\"],[0.3333333333333333,\"#9c179e\"],[0.4444444444444444,\"#bd3786\"],[0.5555555555555556,\"#d8576b\"],[0.6666666666666666,\"#ed7953\"],[0.7777777777777778,\"#fb9f3a\"],[0.8888888888888888,\"#fdca26\"],[1.0,\"#f0f921\"]],\"sequentialminus\":[[0.0,\"#0d0887\"],[0.1111111111111111,\"#46039f\"],[0.2222222222222222,\"#7201a8\"],[0.3333333333333333,\"#9c179e\"],[0.4444444444444444,\"#bd3786\"],[0.5555555555555556,\"#d8576b\"],[0.6666666666666666,\"#ed7953\"],[0.7777777777777778,\"#fb9f3a\"],[0.8888888888888888,\"#fdca26\"],[1.0,\"#f0f921\"]]},\"colorway\":[\"#636efa\",\"#EF553B\",\"#00cc96\",\"#ab63fa\",\"#FFA15A\",\"#19d3f3\",\"#FF6692\",\"#B6E880\",\"#FF97FF\",\"#FECB52\"],\"font\":{\"color\":\"#2a3f5f\"},\"geo\":{\"bgcolor\":\"white\",\"lakecolor\":\"white\",\"landcolor\":\"#E5ECF6\",\"showlakes\":true,\"showland\":true,\"subunitcolor\":\"white\"},\"hoverlabel\":{\"align\":\"left\"},\"hovermode\":\"closest\",\"mapbox\":{\"style\":\"light\"},\"paper_bgcolor\":\"white\",\"plot_bgcolor\":\"#E5ECF6\",\"polar\":{\"angularaxis\":{\"gridcolor\":\"white\",\"linecolor\":\"white\",\"ticks\":\"\"},\"bgcolor\":\"#E5ECF6\",\"radialaxis\":{\"gridcolor\":\"white\",\"linecolor\":\"white\",\"ticks\":\"\"}},\"scene\":{\"xaxis\":{\"backgroundcolor\":\"#E5ECF6\",\"gridcolor\":\"white\",\"gridwidth\":2,\"linecolor\":\"white\",\"showbackground\":true,\"ticks\":\"\",\"zerolinecolor\":\"white\"},\"yaxis\":{\"backgroundcolor\":\"#E5ECF6\",\"gridcolor\":\"white\",\"gridwidth\":2,\"linecolor\":\"white\",\"showbackground\":true,\"ticks\":\"\",\"zerolinecolor\":\"white\"},\"zaxis\":{\"backgroundcolor\":\"#E5ECF6\",\"gridcolor\":\"white\",\"gridwidth\":2,\"linecolor\":\"white\",\"showbackground\":true,\"ticks\":\"\",\"zerolinecolor\":\"white\"}},\"shapedefaults\":{\"line\":{\"color\":\"#2a3f5f\"}},\"ternary\":{\"aaxis\":{\"gridcolor\":\"white\",\"linecolor\":\"white\",\"ticks\":\"\"},\"baxis\":{\"gridcolor\":\"white\",\"linecolor\":\"white\",\"ticks\":\"\"},\"bgcolor\":\"#E5ECF6\",\"caxis\":{\"gridcolor\":\"white\",\"linecolor\":\"white\",\"ticks\":\"\"}},\"title\":{\"x\":0.05},\"xaxis\":{\"automargin\":true,\"gridcolor\":\"white\",\"linecolor\":\"white\",\"ticks\":\"\",\"title\":{\"standoff\":15},\"zerolinecolor\":\"white\",\"zerolinewidth\":2},\"yaxis\":{\"automargin\":true,\"gridcolor\":\"white\",\"linecolor\":\"white\",\"ticks\":\"\",\"title\":{\"standoff\":15},\"zerolinecolor\":\"white\",\"zerolinewidth\":2}}},\"xaxis\":{\"anchor\":\"y\",\"domain\":[0.0,0.45],\"title\":{\"text\":\"Epoch\"}},\"yaxis\":{\"anchor\":\"x\",\"domain\":[0.0,1.0],\"range\":[0,1],\"title\":{\"text\":\"Accuracy\"}},\"xaxis2\":{\"anchor\":\"y2\",\"domain\":[0.55,1.0],\"title\":{\"text\":\"Epoch\"}},\"yaxis2\":{\"anchor\":\"x2\",\"domain\":[0.0,1.0],\"range\":[0,1],\"title\":{\"text\":\"Loss\"}}},                        {\"responsive\": true}                    ).then(function(){\n",
              "                            \n",
              "var gd = document.getElementById('91c91916-5fe2-4aac-ab20-ef545ce5c708');\n",
              "var x = new MutationObserver(function (mutations, observer) {{\n",
              "        var display = window.getComputedStyle(gd).display;\n",
              "        if (!display || display === 'none') {{\n",
              "            console.log([gd, 'removed!']);\n",
              "            Plotly.purge(gd);\n",
              "            observer.disconnect();\n",
              "        }}\n",
              "}});\n",
              "\n",
              "// Listen for the removal of the full notebook cells\n",
              "var notebookContainer = gd.closest('#notebook-container');\n",
              "if (notebookContainer) {{\n",
              "    x.observe(notebookContainer, {childList: true});\n",
              "}}\n",
              "\n",
              "// Listen for the clearing of the current output cell\n",
              "var outputEl = gd.closest('.output');\n",
              "if (outputEl) {{\n",
              "    x.observe(outputEl, {childList: true});\n",
              "}}\n",
              "\n",
              "                        })                };                            </script>        </div>\n",
              "</body>\n",
              "</html>"
            ]
          },
          "metadata": {}
        }
      ],
      "source": [
        "\n",
        "def create_trace(x,y,ylabel,color):\n",
        "        trace = go.Scatter(\n",
        "            x = x,y = y,\n",
        "            name=ylabel,\n",
        "            marker=dict(color=color),\n",
        "            mode = \"markers+lines\",\n",
        "            text=x\n",
        "        )\n",
        "        return trace\n",
        "\n",
        "def plot_accuracy_and_loss(train_model):\n",
        "    hist = train_model.history\n",
        "    acc = hist['accuracy']\n",
        "    val_acc = hist['val_accuracy']\n",
        "    loss = hist['loss']\n",
        "    val_loss = hist['val_loss']\n",
        "    epochs = list(range(1,len(acc)+1))\n",
        "\n",
        "    trace_ta = create_trace(epochs,acc,\"Training accuracy\", \"Green\")\n",
        "    trace_va = create_trace(epochs,val_acc,\"Validation accuracy\", \"Red\")\n",
        "    trace_tl = create_trace(epochs,loss,\"Training loss\", \"Blue\")\n",
        "    trace_vl = create_trace(epochs,val_loss,\"Validation loss\", \"Magenta\")\n",
        "\n",
        "    fig = tools.make_subplots(rows=1,cols=2, subplot_titles=('Training and validation accuracy',\n",
        "                                                             'Training and validation loss'))\n",
        "    fig.append_trace(trace_ta,1,1)\n",
        "    fig.append_trace(trace_va,1,1)\n",
        "    fig.append_trace(trace_tl,1,2)\n",
        "    fig.append_trace(trace_vl,1,2)\n",
        "    fig['layout']['xaxis'].update(title = 'Epoch')\n",
        "    fig['layout']['xaxis2'].update(title = 'Epoch')\n",
        "    fig['layout']['yaxis'].update(title = 'Accuracy', range=[0,1])\n",
        "    fig['layout']['yaxis2'].update(title = 'Loss', range=[0,1])\n",
        "\n",
        "\n",
        "    iplot(fig, filename='accuracy-loss')\n",
        "\n",
        "plot_accuracy_and_loss(train_model)"
      ]
    },
    {
      "cell_type": "markdown",
      "metadata": {
        "id": "9hc6k2taT0_n"
      },
      "source": [
        "# SECTION 2: Optimization and Regularization implementation\n",
        "At this point you should now create a model that is more optimized in order to see better perfomance.\n",
        "As done before make sure to plot out the loss curve and the accuracy and loss in verbose"
      ]
    },
    {
      "cell_type": "code",
      "execution_count": 37,
      "metadata": {
        "id": "nr6HuVEtXvoP"
      },
      "outputs": [],
      "source": [
        "#TODO:\n",
        "# Model\n",
        "dropout_model = Sequential()\n",
        "# Add convolution 2D\n",
        "dropout_model.add(Conv2D(32, kernel_size=(3, 3),\n",
        "                 activation='relu',\n",
        "                 kernel_initializer='he_normal',\n",
        "                 input_shape=(IMG_ROWS, IMG_COLS, 1)))\n",
        "dropout_model.add(MaxPooling2D((2, 2)))\n",
        "# Add dropouts to the model\n",
        "dropout_model.add(Dropout(0.25))\n",
        "dropout_model.add(Conv2D(64,\n",
        "                 kernel_size=(3, 3),\n",
        "                 activation='relu'))\n",
        "dropout_model.add(MaxPooling2D(pool_size=(2, 2)))\n",
        "# Add dropouts to the model\n",
        "dropout_model.add(Dropout(0.25))\n",
        "dropout_model.add(Conv2D(128, (3, 3), activation='relu'))\n",
        "# Add dropouts to the model\n",
        "dropout_model.add(Dropout(0.4))\n",
        "dropout_model.add(Flatten())\n",
        "dropout_model.add(Dense(128, activation='relu'))\n",
        "# Add dropouts to the model\n",
        "dropout_model.add(Dropout(0.3))\n",
        "dropout_model.add(Dense(NUM_CLASSES, activation='softmax'))\n",
        "\n",
        "\n",
        "dropout_model.compile(loss=categorical_crossentropy,\n",
        "              optimizer=Adam(),\n",
        "              metrics=['accuracy'])\n",
        "\n",
        "\n",
        "# Define the model with L1 regularization\n",
        "model_l1 = Sequential([\n",
        "    Conv2D(32, kernel_size=(3, 3), activation='relu',\n",
        "           kernel_initializer='he_normal',\n",
        "           input_shape=(28, 28, 1),\n",
        "           kernel_regularizer=l1(0.01)),\n",
        "    MaxPooling2D((2, 2)),\n",
        "    Conv2D(64, (3, 3), activation='relu',\n",
        "           kernel_regularizer=l1(0.01)),\n",
        "    MaxPooling2D(pool_size=(2, 2)),\n",
        "    Flatten(),\n",
        "    Dense(128, activation='relu', kernel_regularizer=l1(0.01)),\n",
        "    Dense(10, activation='softmax')\n",
        "])\n",
        "\n",
        "\n",
        "# Define the model with L2 regularization\n",
        "model_l2 = Sequential([\n",
        "    Conv2D(32, kernel_size=(3, 3), activation='relu',\n",
        "           kernel_initializer='he_normal',\n",
        "           input_shape=(28, 28, 1), kernel_regularizer=l2(0.01)),\n",
        "    MaxPooling2D((2, 2)),\n",
        "    Conv2D(64, (3, 3), activation='relu', kernel_regularizer=l2(0.01)),\n",
        "    MaxPooling2D(pool_size=(2, 2)),\n",
        "    Flatten(),\n",
        "    Dense(128, activation='relu', kernel_regularizer=l2(0.01)),\n",
        "    Dense(10, activation='softmax')\n",
        "])\n",
        "\n",
        "\n",
        "# Compile the models\n",
        "model_l1.compile(optimizer='adam', loss='categorical_crossentropy', metrics=['accuracy'])\n",
        "model_l2.compile(optimizer='adam', loss='categorical_crossentropy', metrics=['accuracy'])\n"
      ]
    },
    {
      "cell_type": "code",
      "execution_count": null,
      "metadata": {
        "colab": {
          "base_uri": "https://localhost:8080/"
        },
        "id": "UygzqjB-Xvgo",
        "outputId": "7c5ed34d-ec54-4891-c637-29fa75c6a0d5"
      },
      "outputs": [
        {
          "output_type": "stream",
          "name": "stdout",
          "text": [
            "Epoch 1/50\n",
            "375/375 [==============================] - 47s 125ms/step - loss: 0.5954 - accuracy: 0.7754 - val_loss: 0.4329 - val_accuracy: 0.8377\n",
            "Epoch 2/50\n",
            "375/375 [==============================] - 51s 136ms/step - loss: 0.4550 - accuracy: 0.8301 - val_loss: 0.3611 - val_accuracy: 0.8717\n",
            "Epoch 3/50\n",
            "375/375 [==============================] - 46s 123ms/step - loss: 0.3942 - accuracy: 0.8545 - val_loss: 0.3172 - val_accuracy: 0.8857\n",
            "Epoch 4/50\n",
            "375/375 [==============================] - 49s 129ms/step - loss: 0.3610 - accuracy: 0.8688 - val_loss: 0.3051 - val_accuracy: 0.8912\n",
            "Epoch 5/50\n",
            "375/375 [==============================] - 46s 123ms/step - loss: 0.3346 - accuracy: 0.8754 - val_loss: 0.2826 - val_accuracy: 0.8968\n",
            "Epoch 6/50\n",
            "375/375 [==============================] - 48s 128ms/step - loss: 0.3158 - accuracy: 0.8834 - val_loss: 0.2693 - val_accuracy: 0.9024\n",
            "Epoch 7/50\n",
            "375/375 [==============================] - 48s 127ms/step - loss: 0.3081 - accuracy: 0.8864 - val_loss: 0.2728 - val_accuracy: 0.9013\n",
            "Epoch 8/50\n",
            "375/375 [==============================] - 46s 122ms/step - loss: 0.2906 - accuracy: 0.8928 - val_loss: 0.2561 - val_accuracy: 0.9097\n",
            "Epoch 9/50\n",
            "375/375 [==============================] - 46s 122ms/step - loss: 0.2870 - accuracy: 0.8931 - val_loss: 0.2560 - val_accuracy: 0.9062\n",
            "Epoch 10/50\n",
            "375/375 [==============================] - 48s 129ms/step - loss: 0.2763 - accuracy: 0.8982 - val_loss: 0.2509 - val_accuracy: 0.9104\n",
            "Epoch 11/50\n",
            "375/375 [==============================] - 47s 124ms/step - loss: 0.2680 - accuracy: 0.8998 - val_loss: 0.2604 - val_accuracy: 0.9016\n",
            "Epoch 12/50\n",
            "375/375 [==============================] - 46s 123ms/step - loss: 0.2652 - accuracy: 0.9007 - val_loss: 0.2401 - val_accuracy: 0.9109\n",
            "Epoch 13/50\n",
            "375/375 [==============================] - 49s 130ms/step - loss: 0.2577 - accuracy: 0.9039 - val_loss: 0.2447 - val_accuracy: 0.9100\n",
            "Epoch 14/50\n",
            "375/375 [==============================] - 46s 123ms/step - loss: 0.2565 - accuracy: 0.9045 - val_loss: 0.2435 - val_accuracy: 0.9093\n",
            "Epoch 15/50\n",
            "375/375 [==============================] - 46s 123ms/step - loss: 0.2482 - accuracy: 0.9081 - val_loss: 0.2419 - val_accuracy: 0.9105\n",
            "Epoch 16/50\n",
            "375/375 [==============================] - 49s 130ms/step - loss: 0.2414 - accuracy: 0.9097 - val_loss: 0.2474 - val_accuracy: 0.9089\n",
            "Epoch 17/50\n",
            "375/375 [==============================] - 48s 127ms/step - loss: 0.2369 - accuracy: 0.9117 - val_loss: 0.2333 - val_accuracy: 0.9137\n",
            "Epoch 18/50\n",
            "375/375 [==============================] - 46s 123ms/step - loss: 0.2382 - accuracy: 0.9110 - val_loss: 0.2302 - val_accuracy: 0.9172\n",
            "Epoch 19/50\n",
            "375/375 [==============================] - 50s 132ms/step - loss: 0.2357 - accuracy: 0.9110 - val_loss: 0.2287 - val_accuracy: 0.9177\n",
            "Epoch 20/50\n",
            "375/375 [==============================] - 47s 127ms/step - loss: 0.2304 - accuracy: 0.9139 - val_loss: 0.2286 - val_accuracy: 0.9164\n",
            "Epoch 21/50\n",
            "375/375 [==============================] - 47s 127ms/step - loss: 0.2277 - accuracy: 0.9137 - val_loss: 0.2371 - val_accuracy: 0.9112\n",
            "Epoch 22/50\n",
            "375/375 [==============================] - 46s 122ms/step - loss: 0.2253 - accuracy: 0.9135 - val_loss: 0.2311 - val_accuracy: 0.9177\n",
            "Epoch 23/50\n",
            "375/375 [==============================] - 46s 123ms/step - loss: 0.2241 - accuracy: 0.9168 - val_loss: 0.2216 - val_accuracy: 0.9209\n",
            "Epoch 24/50\n",
            "375/375 [==============================] - 49s 130ms/step - loss: 0.2211 - accuracy: 0.9170 - val_loss: 0.2237 - val_accuracy: 0.9207\n",
            "Epoch 25/50\n",
            "375/375 [==============================] - 47s 124ms/step - loss: 0.2167 - accuracy: 0.9180 - val_loss: 0.2217 - val_accuracy: 0.9189\n",
            "Epoch 26/50\n",
            "375/375 [==============================] - 46s 122ms/step - loss: 0.2206 - accuracy: 0.9175 - val_loss: 0.2256 - val_accuracy: 0.9199\n",
            "Epoch 27/50\n",
            "375/375 [==============================] - 48s 129ms/step - loss: 0.2135 - accuracy: 0.9198 - val_loss: 0.2204 - val_accuracy: 0.9217\n",
            "Epoch 28/50\n",
            "375/375 [==============================] - 47s 126ms/step - loss: 0.2145 - accuracy: 0.9189 - val_loss: 0.2233 - val_accuracy: 0.9183\n",
            "Epoch 29/50\n",
            "375/375 [==============================] - 46s 123ms/step - loss: 0.2111 - accuracy: 0.9196 - val_loss: 0.2219 - val_accuracy: 0.9196\n",
            "Epoch 30/50\n",
            "375/375 [==============================] - 47s 126ms/step - loss: 0.2085 - accuracy: 0.9203 - val_loss: 0.2217 - val_accuracy: 0.9212\n",
            "Epoch 31/50\n",
            "375/375 [==============================] - 48s 128ms/step - loss: 0.2088 - accuracy: 0.9220 - val_loss: 0.2211 - val_accuracy: 0.9209\n",
            "Epoch 32/50\n",
            "375/375 [==============================] - 47s 126ms/step - loss: 0.2043 - accuracy: 0.9227 - val_loss: 0.2224 - val_accuracy: 0.9205\n",
            "Epoch 33/50\n",
            "375/375 [==============================] - 48s 129ms/step - loss: 0.1993 - accuracy: 0.9245 - val_loss: 0.2188 - val_accuracy: 0.9206\n",
            "Epoch 34/50\n",
            "354/375 [===========================>..] - ETA: 2s - loss: 0.2014 - accuracy: 0.9233"
          ]
        }
      ],
      "source": [
        "#TODO:\n",
        "dropout_train_model = dropout_model.fit(X_train, y_train,\n",
        "                  batch_size=BATCH_SIZE,\n",
        "                  epochs=NO_EPOCHS,\n",
        "                  verbose=1,\n",
        "                  validation_data=(X_val, y_val))\n",
        "dropout_train_model.save('trained_dropout_model_mnist.h5')\n",
        "dropout_model.save('trained_1_dropout_model_mnist.h5')\n",
        "\n"
      ]
    },
    {
      "cell_type": "code",
      "execution_count": null,
      "metadata": {
        "colab": {
          "background_save": true,
          "base_uri": "https://localhost:8080/"
        },
        "id": "rqBX2T5qpQdW",
        "outputId": "31848efc-c8a6-4e59-8c7b-12d98262d51c"
      },
      "outputs": [
        {
          "name": "stdout",
          "output_type": "stream",
          "text": [
            "Epoch 1/50\n",
            "375/375 [==============================] - 40s 103ms/step - loss: 6.7792 - accuracy: 0.6189 - val_loss: 1.9544 - val_accuracy: 0.6713\n",
            "Epoch 2/50\n",
            "375/375 [==============================] - 41s 110ms/step - loss: 1.6795 - accuracy: 0.6831 - val_loss: 1.4780 - val_accuracy: 0.7037\n",
            "Epoch 3/50\n",
            "375/375 [==============================] - 39s 105ms/step - loss: 1.4001 - accuracy: 0.6978 - val_loss: 1.3184 - val_accuracy: 0.7144\n",
            "Epoch 4/50\n",
            "375/375 [==============================] - 40s 108ms/step - loss: 1.3143 - accuracy: 0.7029 - val_loss: 1.2900 - val_accuracy: 0.7057\n",
            "Epoch 5/50\n",
            "375/375 [==============================] - 42s 113ms/step - loss: 1.2720 - accuracy: 0.7066 - val_loss: 1.2962 - val_accuracy: 0.7034\n",
            "Epoch 6/50\n",
            "375/375 [==============================] - 43s 114ms/step - loss: 1.2519 - accuracy: 0.7113 - val_loss: 1.2808 - val_accuracy: 0.6984\n",
            "Epoch 7/50\n",
            "375/375 [==============================] - 38s 101ms/step - loss: 1.2363 - accuracy: 0.7175 - val_loss: 1.2197 - val_accuracy: 0.7190\n",
            "Epoch 8/50\n",
            "375/375 [==============================] - 40s 107ms/step - loss: 1.2359 - accuracy: 0.7161 - val_loss: 1.2473 - val_accuracy: 0.7013\n",
            "Epoch 9/50\n",
            "375/375 [==============================] - 40s 107ms/step - loss: 1.2204 - accuracy: 0.7230 - val_loss: 1.1921 - val_accuracy: 0.7287\n",
            "Epoch 10/50\n",
            "375/375 [==============================] - 40s 106ms/step - loss: 1.2137 - accuracy: 0.7220 - val_loss: 1.2190 - val_accuracy: 0.7142\n",
            "Epoch 11/50\n",
            "375/375 [==============================] - 39s 104ms/step - loss: 1.2076 - accuracy: 0.7275 - val_loss: 1.1869 - val_accuracy: 0.7318\n",
            "Epoch 12/50\n",
            "375/375 [==============================] - 39s 103ms/step - loss: 1.2005 - accuracy: 0.7277 - val_loss: 1.1981 - val_accuracy: 0.7321\n",
            "Epoch 13/50\n",
            "375/375 [==============================] - 39s 105ms/step - loss: 1.1908 - accuracy: 0.7303 - val_loss: 1.1812 - val_accuracy: 0.7303\n",
            "Epoch 14/50\n",
            "375/375 [==============================] - 39s 105ms/step - loss: 1.1819 - accuracy: 0.7338 - val_loss: 1.1759 - val_accuracy: 0.7303\n",
            "Epoch 15/50\n",
            "375/375 [==============================] - 39s 105ms/step - loss: 1.1782 - accuracy: 0.7352 - val_loss: 1.1685 - val_accuracy: 0.7307\n",
            "Epoch 16/50\n",
            "375/375 [==============================] - 40s 106ms/step - loss: 1.1754 - accuracy: 0.7340 - val_loss: 1.1696 - val_accuracy: 0.7325\n",
            "Epoch 17/50\n",
            "375/375 [==============================] - 38s 101ms/step - loss: 1.1687 - accuracy: 0.7359 - val_loss: 1.1593 - val_accuracy: 0.7399\n",
            "Epoch 18/50\n",
            "375/375 [==============================] - 39s 104ms/step - loss: 1.1620 - accuracy: 0.7387 - val_loss: 1.1420 - val_accuracy: 0.7422\n",
            "Epoch 19/50\n",
            "375/375 [==============================] - 38s 102ms/step - loss: 1.1594 - accuracy: 0.7389 - val_loss: 1.1664 - val_accuracy: 0.7331\n",
            "Epoch 20/50\n",
            "375/375 [==============================] - 38s 100ms/step - loss: 1.1526 - accuracy: 0.7403 - val_loss: 1.1787 - val_accuracy: 0.7376\n",
            "Epoch 21/50\n",
            "375/375 [==============================] - 36s 95ms/step - loss: 1.1477 - accuracy: 0.7413 - val_loss: 1.1623 - val_accuracy: 0.7229\n",
            "Epoch 22/50\n",
            "375/375 [==============================] - 38s 101ms/step - loss: 1.1496 - accuracy: 0.7414 - val_loss: 1.1485 - val_accuracy: 0.7363\n",
            "Epoch 23/50\n",
            "375/375 [==============================] - 40s 106ms/step - loss: 1.1432 - accuracy: 0.7446 - val_loss: 1.1614 - val_accuracy: 0.7330\n",
            "Epoch 24/50\n",
            "375/375 [==============================] - 39s 104ms/step - loss: 1.1334 - accuracy: 0.7454 - val_loss: 1.1529 - val_accuracy: 0.7325\n",
            "Epoch 25/50\n",
            "375/375 [==============================] - 37s 97ms/step - loss: 1.1382 - accuracy: 0.7432 - val_loss: 1.1614 - val_accuracy: 0.7347\n",
            "Epoch 26/50\n",
            "375/375 [==============================] - 37s 98ms/step - loss: 1.1331 - accuracy: 0.7448 - val_loss: 1.1325 - val_accuracy: 0.7468\n",
            "Epoch 27/50\n",
            "375/375 [==============================] - 37s 99ms/step - loss: 1.1312 - accuracy: 0.7451 - val_loss: 1.1522 - val_accuracy: 0.7400\n",
            "Epoch 28/50\n",
            "375/375 [==============================] - 38s 103ms/step - loss: 1.1264 - accuracy: 0.7455 - val_loss: 1.1233 - val_accuracy: 0.7432\n",
            "Epoch 29/50\n",
            "375/375 [==============================] - 36s 96ms/step - loss: 1.1200 - accuracy: 0.7498 - val_loss: 1.1232 - val_accuracy: 0.7460\n",
            "Epoch 30/50\n",
            "375/375 [==============================] - 37s 100ms/step - loss: 1.1215 - accuracy: 0.7490 - val_loss: 1.1362 - val_accuracy: 0.7379\n",
            "Epoch 31/50\n",
            "375/375 [==============================] - 40s 106ms/step - loss: 1.1146 - accuracy: 0.7501 - val_loss: 1.0920 - val_accuracy: 0.7536\n",
            "Epoch 32/50\n",
            "375/375 [==============================] - 37s 99ms/step - loss: 1.1118 - accuracy: 0.7505 - val_loss: 1.0963 - val_accuracy: 0.7538\n",
            "Epoch 33/50\n",
            "375/375 [==============================] - 36s 95ms/step - loss: 1.1121 - accuracy: 0.7500 - val_loss: 1.1073 - val_accuracy: 0.7558\n",
            "Epoch 34/50\n",
            "375/375 [==============================] - 37s 100ms/step - loss: 1.1062 - accuracy: 0.7513 - val_loss: 1.1121 - val_accuracy: 0.7561\n",
            "Epoch 35/50\n",
            "375/375 [==============================] - 39s 103ms/step - loss: 1.1052 - accuracy: 0.7541 - val_loss: 1.1048 - val_accuracy: 0.7547\n",
            "Epoch 36/50\n",
            "375/375 [==============================] - 36s 96ms/step - loss: 1.1000 - accuracy: 0.7555 - val_loss: 1.0960 - val_accuracy: 0.7533\n",
            "Epoch 37/50\n",
            "375/375 [==============================] - 37s 99ms/step - loss: 1.1009 - accuracy: 0.7537 - val_loss: 1.0928 - val_accuracy: 0.7518\n",
            "Epoch 38/50\n",
            "375/375 [==============================] - 37s 99ms/step - loss: 1.1003 - accuracy: 0.7536 - val_loss: 1.1175 - val_accuracy: 0.7456\n",
            "Epoch 39/50\n",
            "375/375 [==============================] - 36s 96ms/step - loss: 1.0974 - accuracy: 0.7567 - val_loss: 1.1216 - val_accuracy: 0.7500\n",
            "Epoch 40/50\n",
            "375/375 [==============================] - 37s 97ms/step - loss: 1.0961 - accuracy: 0.7551 - val_loss: 1.0918 - val_accuracy: 0.7569\n",
            "Epoch 41/50\n",
            "375/375 [==============================] - 37s 100ms/step - loss: 1.0951 - accuracy: 0.7540 - val_loss: 1.0805 - val_accuracy: 0.7589\n",
            "Epoch 42/50\n",
            "375/375 [==============================] - 38s 102ms/step - loss: 1.0868 - accuracy: 0.7597 - val_loss: 1.1096 - val_accuracy: 0.7548\n",
            "Epoch 43/50\n",
            "375/375 [==============================] - 36s 96ms/step - loss: 1.0952 - accuracy: 0.7572 - val_loss: 1.0966 - val_accuracy: 0.7589\n",
            "Epoch 44/50\n",
            "375/375 [==============================] - 38s 100ms/step - loss: 1.0911 - accuracy: 0.7583 - val_loss: 1.0861 - val_accuracy: 0.7585\n",
            "Epoch 45/50\n",
            "375/375 [==============================] - 37s 99ms/step - loss: 1.0876 - accuracy: 0.7585 - val_loss: 1.1001 - val_accuracy: 0.7570\n",
            "Epoch 46/50\n",
            "375/375 [==============================] - 36s 95ms/step - loss: 1.0898 - accuracy: 0.7583 - val_loss: 1.0818 - val_accuracy: 0.7619\n",
            "Epoch 47/50\n",
            "375/375 [==============================] - 37s 100ms/step - loss: 1.0827 - accuracy: 0.7610 - val_loss: 1.0803 - val_accuracy: 0.7601\n",
            "Epoch 48/50\n",
            "375/375 [==============================] - 39s 105ms/step - loss: 1.0854 - accuracy: 0.7593 - val_loss: 1.0873 - val_accuracy: 0.7607\n",
            "Epoch 49/50\n",
            "375/375 [==============================] - 39s 103ms/step - loss: 1.0815 - accuracy: 0.7602 - val_loss: 1.0819 - val_accuracy: 0.7533\n",
            "Epoch 50/50\n",
            "375/375 [==============================] - 36s 96ms/step - loss: 1.0811 - accuracy: 0.7591 - val_loss: 1.0853 - val_accuracy: 0.7636\n"
          ]
        }
      ],
      "source": [
        "train_model_l1 = model_l1.fit(X_train, y_train,\n",
        "                  batch_size=BATCH_SIZE,\n",
        "                  epochs=NO_EPOCHS,\n",
        "                  verbose=1,\n",
        "                  validation_data=(X_val, y_val))\n",
        "model.save('l2_model_mnist.h5')"
      ]
    },
    {
      "cell_type": "code",
      "execution_count": null,
      "metadata": {
        "colab": {
          "base_uri": "https://localhost:8080/"
        },
        "id": "3cRy2OxspU4Z",
        "outputId": "e0b40ea5-e3cd-4a48-8ca7-473beac9706d"
      },
      "outputs": [
        {
          "name": "stdout",
          "output_type": "stream",
          "text": [
            "Epoch 1/50\n",
            "375/375 [==============================] - 47s 122ms/step - loss: 1.6260 - accuracy: 0.7954 - val_loss: 1.0967 - val_accuracy: 0.7753\n",
            "Epoch 2/50\n",
            "375/375 [==============================] - 38s 102ms/step - loss: 0.8435 - accuracy: 0.8307 - val_loss: 0.7283 - val_accuracy: 0.8456\n",
            "Epoch 3/50\n",
            "375/375 [==============================] - 39s 105ms/step - loss: 0.7171 - accuracy: 0.8332 - val_loss: 0.6890 - val_accuracy: 0.8318\n",
            "Epoch 4/50\n",
            "375/375 [==============================] - 39s 105ms/step - loss: 0.6685 - accuracy: 0.8367 - val_loss: 0.6588 - val_accuracy: 0.8360\n",
            "Epoch 5/50\n",
            "375/375 [==============================] - 39s 104ms/step - loss: 0.6462 - accuracy: 0.8372 - val_loss: 0.6384 - val_accuracy: 0.8367\n",
            "Epoch 6/50\n",
            "375/375 [==============================] - 37s 99ms/step - loss: 0.6283 - accuracy: 0.8420 - val_loss: 0.6414 - val_accuracy: 0.8289\n",
            "Epoch 7/50\n",
            "375/375 [==============================] - 39s 103ms/step - loss: 0.6203 - accuracy: 0.8401 - val_loss: 0.6037 - val_accuracy: 0.8449\n",
            "Epoch 8/50\n",
            "375/375 [==============================] - 39s 104ms/step - loss: 0.6044 - accuracy: 0.8435 - val_loss: 0.6092 - val_accuracy: 0.8358\n",
            "Epoch 9/50\n",
            "375/375 [==============================] - 40s 107ms/step - loss: 0.5976 - accuracy: 0.8447 - val_loss: 0.5973 - val_accuracy: 0.8467\n",
            "Epoch 10/50\n",
            "375/375 [==============================] - 37s 99ms/step - loss: 0.5836 - accuracy: 0.8498 - val_loss: 0.5742 - val_accuracy: 0.8537\n",
            "Epoch 11/50\n",
            "375/375 [==============================] - 39s 103ms/step - loss: 0.5787 - accuracy: 0.8485 - val_loss: 0.6022 - val_accuracy: 0.8313\n",
            "Epoch 12/50\n",
            "375/375 [==============================] - 38s 102ms/step - loss: 0.5729 - accuracy: 0.8509 - val_loss: 0.5635 - val_accuracy: 0.8521\n",
            "Epoch 13/50\n",
            "375/375 [==============================] - 37s 99ms/step - loss: 0.5636 - accuracy: 0.8515 - val_loss: 0.5705 - val_accuracy: 0.8482\n",
            "Epoch 14/50\n",
            "375/375 [==============================] - 55s 146ms/step - loss: 0.5569 - accuracy: 0.8547 - val_loss: 0.5675 - val_accuracy: 0.8492\n",
            "Epoch 15/50\n",
            "375/375 [==============================] - 38s 102ms/step - loss: 0.5560 - accuracy: 0.8534 - val_loss: 0.5552 - val_accuracy: 0.8512\n",
            "Epoch 16/50\n",
            "375/375 [==============================] - 40s 106ms/step - loss: 0.5487 - accuracy: 0.8551 - val_loss: 0.5570 - val_accuracy: 0.8513\n",
            "Epoch 17/50\n",
            "375/375 [==============================] - 37s 99ms/step - loss: 0.5460 - accuracy: 0.8554 - val_loss: 0.5451 - val_accuracy: 0.8598\n",
            "Epoch 18/50\n",
            "375/375 [==============================] - 39s 104ms/step - loss: 0.5375 - accuracy: 0.8575 - val_loss: 0.5443 - val_accuracy: 0.8571\n",
            "Epoch 19/50\n",
            "375/375 [==============================] - 39s 104ms/step - loss: 0.5342 - accuracy: 0.8580 - val_loss: 0.5699 - val_accuracy: 0.8492\n",
            "Epoch 20/50\n",
            "375/375 [==============================] - 40s 106ms/step - loss: 0.5330 - accuracy: 0.8583 - val_loss: 0.5391 - val_accuracy: 0.8516\n",
            "Epoch 21/50\n",
            "375/375 [==============================] - 37s 97ms/step - loss: 0.5332 - accuracy: 0.8579 - val_loss: 0.5216 - val_accuracy: 0.8606\n",
            "Epoch 22/50\n",
            "375/375 [==============================] - 38s 102ms/step - loss: 0.5268 - accuracy: 0.8585 - val_loss: 0.5649 - val_accuracy: 0.8457\n",
            "Epoch 23/50\n",
            "375/375 [==============================] - 38s 101ms/step - loss: 0.5221 - accuracy: 0.8601 - val_loss: 0.5099 - val_accuracy: 0.8677\n",
            "Epoch 24/50\n",
            "375/375 [==============================] - 36s 96ms/step - loss: 0.5186 - accuracy: 0.8613 - val_loss: 0.5120 - val_accuracy: 0.8658\n",
            "Epoch 25/50\n",
            "375/375 [==============================] - 38s 101ms/step - loss: 0.5201 - accuracy: 0.8597 - val_loss: 0.5249 - val_accuracy: 0.8562\n",
            "Epoch 26/50\n",
            "375/375 [==============================] - 39s 104ms/step - loss: 0.5163 - accuracy: 0.8608 - val_loss: 0.5321 - val_accuracy: 0.8563\n",
            "Epoch 27/50\n",
            "375/375 [==============================] - 36s 97ms/step - loss: 0.5125 - accuracy: 0.8633 - val_loss: 0.5096 - val_accuracy: 0.8652\n",
            "Epoch 28/50\n",
            "375/375 [==============================] - 38s 101ms/step - loss: 0.5079 - accuracy: 0.8625 - val_loss: 0.5165 - val_accuracy: 0.8619\n",
            "Epoch 29/50\n",
            "375/375 [==============================] - 38s 101ms/step - loss: 0.5064 - accuracy: 0.8644 - val_loss: 0.5130 - val_accuracy: 0.8611\n",
            "Epoch 30/50\n",
            "375/375 [==============================] - 36s 97ms/step - loss: 0.5038 - accuracy: 0.8639 - val_loss: 0.5132 - val_accuracy: 0.8614\n",
            "Epoch 31/50\n",
            "375/375 [==============================] - 38s 102ms/step - loss: 0.4982 - accuracy: 0.8666 - val_loss: 0.4943 - val_accuracy: 0.8697\n",
            "Epoch 32/50\n",
            "375/375 [==============================] - 39s 105ms/step - loss: 0.5023 - accuracy: 0.8645 - val_loss: 0.5075 - val_accuracy: 0.8633\n",
            "Epoch 33/50\n",
            "375/375 [==============================] - 37s 97ms/step - loss: 0.4972 - accuracy: 0.8668 - val_loss: 0.4853 - val_accuracy: 0.8712\n",
            "Epoch 34/50\n",
            "375/375 [==============================] - 38s 102ms/step - loss: 0.4958 - accuracy: 0.8650 - val_loss: 0.5319 - val_accuracy: 0.8525\n",
            "Epoch 35/50\n",
            "375/375 [==============================] - 39s 105ms/step - loss: 0.4921 - accuracy: 0.8669 - val_loss: 0.5083 - val_accuracy: 0.8591\n",
            "Epoch 36/50\n",
            "375/375 [==============================] - 37s 98ms/step - loss: 0.4923 - accuracy: 0.8666 - val_loss: 0.5052 - val_accuracy: 0.8648\n",
            "Epoch 37/50\n",
            "375/375 [==============================] - 39s 103ms/step - loss: 0.4908 - accuracy: 0.8672 - val_loss: 0.5130 - val_accuracy: 0.8556\n",
            "Epoch 38/50\n",
            "375/375 [==============================] - 38s 101ms/step - loss: 0.4892 - accuracy: 0.8685 - val_loss: 0.5175 - val_accuracy: 0.8593\n",
            "Epoch 39/50\n",
            "375/375 [==============================] - 36s 97ms/step - loss: 0.4872 - accuracy: 0.8664 - val_loss: 0.4880 - val_accuracy: 0.8700\n",
            "Epoch 40/50\n",
            "375/375 [==============================] - 38s 102ms/step - loss: 0.4857 - accuracy: 0.8678 - val_loss: 0.4826 - val_accuracy: 0.8710\n",
            "Epoch 41/50\n",
            "375/375 [==============================] - 38s 101ms/step - loss: 0.4805 - accuracy: 0.8706 - val_loss: 0.4905 - val_accuracy: 0.8673\n",
            "Epoch 42/50\n",
            "375/375 [==============================] - 37s 98ms/step - loss: 0.4795 - accuracy: 0.8701 - val_loss: 0.4985 - val_accuracy: 0.8609\n",
            "Epoch 43/50\n",
            "375/375 [==============================] - 38s 102ms/step - loss: 0.4813 - accuracy: 0.8684 - val_loss: 0.5089 - val_accuracy: 0.8557\n",
            "Epoch 44/50\n",
            "375/375 [==============================] - 37s 98ms/step - loss: 0.4765 - accuracy: 0.8698 - val_loss: 0.4849 - val_accuracy: 0.8687\n",
            "Epoch 45/50\n",
            "375/375 [==============================] - 37s 99ms/step - loss: 0.4754 - accuracy: 0.8703 - val_loss: 0.4839 - val_accuracy: 0.8687\n",
            "Epoch 46/50\n",
            "375/375 [==============================] - 38s 101ms/step - loss: 0.4723 - accuracy: 0.8717 - val_loss: 0.4744 - val_accuracy: 0.8726\n",
            "Epoch 47/50\n",
            "375/375 [==============================] - 36s 97ms/step - loss: 0.4732 - accuracy: 0.8712 - val_loss: 0.4909 - val_accuracy: 0.8633\n",
            "Epoch 48/50\n",
            "375/375 [==============================] - 38s 102ms/step - loss: 0.4699 - accuracy: 0.8722 - val_loss: 0.4728 - val_accuracy: 0.8723\n",
            "Epoch 49/50\n",
            "375/375 [==============================] - 38s 101ms/step - loss: 0.4727 - accuracy: 0.8701 - val_loss: 0.4936 - val_accuracy: 0.8662\n",
            "Epoch 50/50\n",
            "375/375 [==============================] - 36s 96ms/step - loss: 0.4685 - accuracy: 0.8721 - val_loss: 0.4844 - val_accuracy: 0.8681\n"
          ]
        }
      ],
      "source": [
        "train_model_l2 = model_l2.fit(X_train, y_train,\n",
        "                  batch_size=BATCH_SIZE,\n",
        "                  epochs=NO_EPOCHS,\n",
        "                  verbose=1,\n",
        "                  validation_data=(X_val, y_val))"
      ]
    },
    {
      "cell_type": "code",
      "execution_count": null,
      "metadata": {
        "colab": {
          "base_uri": "https://localhost:8080/",
          "height": 577
        },
        "id": "9NEtnjqxXvXm",
        "outputId": "45af554f-b2b1-4029-9c62-23b31d13bee3"
      },
      "outputs": [
        {
          "data": {
            "text/html": [
              "<html>\n",
              "<head><meta charset=\"utf-8\" /></head>\n",
              "<body>\n",
              "    <div>            <script src=\"https://cdnjs.cloudflare.com/ajax/libs/mathjax/2.7.5/MathJax.js?config=TeX-AMS-MML_SVG\"></script><script type=\"text/javascript\">if (window.MathJax && window.MathJax.Hub && window.MathJax.Hub.Config) {window.MathJax.Hub.Config({SVG: {font: \"STIX-Web\"}});}</script>                <script type=\"text/javascript\">window.PlotlyConfig = {MathJaxConfig: 'local'};</script>\n",
              "        <script charset=\"utf-8\" src=\"https://cdn.plot.ly/plotly-2.24.1.min.js\"></script>                <div id=\"233bbcd5-e913-47d2-9e26-d1d1ef03976a\" class=\"plotly-graph-div\" style=\"height:525px; width:100%;\"></div>            <script type=\"text/javascript\">                                    window.PLOTLYENV=window.PLOTLYENV || {};                                    if (document.getElementById(\"233bbcd5-e913-47d2-9e26-d1d1ef03976a\")) {                    Plotly.newPlot(                        \"233bbcd5-e913-47d2-9e26-d1d1ef03976a\",                        [{\"marker\":{\"color\":\"Green\"},\"mode\":\"markers+lines\",\"name\":\"Training accuracy\",\"text\":[\"1\",\"2\",\"3\",\"4\",\"5\",\"6\",\"7\",\"8\",\"9\",\"10\",\"11\",\"12\",\"13\",\"14\",\"15\",\"16\",\"17\",\"18\",\"19\",\"20\",\"21\",\"22\",\"23\",\"24\",\"25\",\"26\",\"27\",\"28\",\"29\",\"30\"],\"x\":[1,2,3,4,5,6,7,8,9,10,11,12,13,14,15,16,17,18,19,20,21,22,23,24,25,26,27,28,29,30],\"xaxis\":\"x\",\"y\":[0.9203749895095825,0.9229999780654907,0.9249374866485596,0.9244791865348816,0.9242500066757202,0.9256041646003723,0.9247083067893982,0.9247499704360962,0.9263749718666077,0.9260625243186951,0.9268749952316284,0.9271666407585144,0.9268958568572998,0.9288541674613953,0.9296875,0.9308750033378601,0.9306041598320007,0.9311458468437195,0.9304999709129333,0.9302916526794434,0.9310208559036255,0.9310833215713501,0.9306666851043701,0.9319791793823242,0.9325624704360962,0.9324791431427002,0.932604193687439,0.9346250295639038,0.9315416812896729,0.9316874742507935],\"yaxis\":\"y\",\"type\":\"scatter\"},{\"marker\":{\"color\":\"Red\"},\"mode\":\"markers+lines\",\"name\":\"Validation accuracy\",\"text\":[\"1\",\"2\",\"3\",\"4\",\"5\",\"6\",\"7\",\"8\",\"9\",\"10\",\"11\",\"12\",\"13\",\"14\",\"15\",\"16\",\"17\",\"18\",\"19\",\"20\",\"21\",\"22\",\"23\",\"24\",\"25\",\"26\",\"27\",\"28\",\"29\",\"30\"],\"x\":[1,2,3,4,5,6,7,8,9,10,11,12,13,14,15,16,17,18,19,20,21,22,23,24,25,26,27,28,29,30],\"xaxis\":\"x\",\"y\":[0.9193333387374878,0.9227499961853027,0.9195833206176758,0.9228333234786987,0.9203333258628845,0.9237499833106995,0.9201666712760925,0.9192500114440918,0.9236666560173035,0.9205833077430725,0.92208331823349,0.9210000038146973,0.922249972820282,0.9239166378974915,0.9226666688919067,0.9244999885559082,0.921500027179718,0.921500027179718,0.9256666898727417,0.9240000247955322,0.9246666431427002,0.9228333234786987,0.9235833287239075,0.921500027179718,0.9246666431427002,0.9227499961853027,0.9259166717529297,0.9224166870117188,0.9258333444595337,0.9233333468437195],\"yaxis\":\"y\",\"type\":\"scatter\"},{\"marker\":{\"color\":\"Blue\"},\"mode\":\"markers+lines\",\"name\":\"Training loss\",\"text\":[\"1\",\"2\",\"3\",\"4\",\"5\",\"6\",\"7\",\"8\",\"9\",\"10\",\"11\",\"12\",\"13\",\"14\",\"15\",\"16\",\"17\",\"18\",\"19\",\"20\",\"21\",\"22\",\"23\",\"24\",\"25\",\"26\",\"27\",\"28\",\"29\",\"30\"],\"x\":[1,2,3,4,5,6,7,8,9,10,11,12,13,14,15,16,17,18,19,20,21,22,23,24,25,26,27,28,29,30],\"xaxis\":\"x2\",\"y\":[0.206854447722435,0.204549178481102,0.2003568708896637,0.20069636404514313,0.20180173218250275,0.1966460645198822,0.19522389769554138,0.20020484924316406,0.19444440305233002,0.19476456940174103,0.19130875170230865,0.19162367284297943,0.19074389338493347,0.18712860345840454,0.18726615607738495,0.1848582625389099,0.18361341953277588,0.18395045399665833,0.18085725605487823,0.1843244582414627,0.1804986149072647,0.18164217472076416,0.18220265209674835,0.17992816865444183,0.1773306429386139,0.17886851727962494,0.17727120220661163,0.17397195100784302,0.1782674342393875,0.1778455674648285],\"yaxis\":\"y2\",\"type\":\"scatter\"},{\"marker\":{\"color\":\"Magenta\"},\"mode\":\"markers+lines\",\"name\":\"Validation loss\",\"text\":[\"1\",\"2\",\"3\",\"4\",\"5\",\"6\",\"7\",\"8\",\"9\",\"10\",\"11\",\"12\",\"13\",\"14\",\"15\",\"16\",\"17\",\"18\",\"19\",\"20\",\"21\",\"22\",\"23\",\"24\",\"25\",\"26\",\"27\",\"28\",\"29\",\"30\"],\"x\":[1,2,3,4,5,6,7,8,9,10,11,12,13,14,15,16,17,18,19,20,21,22,23,24,25,26,27,28,29,30],\"xaxis\":\"x2\",\"y\":[0.22531767189502716,0.21803788840770721,0.22131900489330292,0.21796727180480957,0.23347246646881104,0.2145373672246933,0.2169101983308792,0.2204696089029312,0.2140907645225525,0.21915937960147858,0.2241944819688797,0.2206995189189911,0.21841800212860107,0.2148696333169937,0.21607623994350433,0.21476973593235016,0.22385789453983307,0.21707987785339355,0.21221134066581726,0.2203546166419983,0.22481141984462738,0.21482853591442108,0.219487726688385,0.21939727663993835,0.21965955197811127,0.22276538610458374,0.2132832258939743,0.223249614238739,0.21528078615665436,0.22162984311580658],\"yaxis\":\"y2\",\"type\":\"scatter\"}],                        {\"annotations\":[{\"font\":{\"size\":16},\"showarrow\":false,\"text\":\"Training and validation accuracy\",\"x\":0.225,\"xanchor\":\"center\",\"xref\":\"paper\",\"y\":1.0,\"yanchor\":\"bottom\",\"yref\":\"paper\"},{\"font\":{\"size\":16},\"showarrow\":false,\"text\":\"Training and validation loss\",\"x\":0.775,\"xanchor\":\"center\",\"xref\":\"paper\",\"y\":1.0,\"yanchor\":\"bottom\",\"yref\":\"paper\"}],\"template\":{\"data\":{\"barpolar\":[{\"marker\":{\"line\":{\"color\":\"#E5ECF6\",\"width\":0.5},\"pattern\":{\"fillmode\":\"overlay\",\"size\":10,\"solidity\":0.2}},\"type\":\"barpolar\"}],\"bar\":[{\"error_x\":{\"color\":\"#2a3f5f\"},\"error_y\":{\"color\":\"#2a3f5f\"},\"marker\":{\"line\":{\"color\":\"#E5ECF6\",\"width\":0.5},\"pattern\":{\"fillmode\":\"overlay\",\"size\":10,\"solidity\":0.2}},\"type\":\"bar\"}],\"carpet\":[{\"aaxis\":{\"endlinecolor\":\"#2a3f5f\",\"gridcolor\":\"white\",\"linecolor\":\"white\",\"minorgridcolor\":\"white\",\"startlinecolor\":\"#2a3f5f\"},\"baxis\":{\"endlinecolor\":\"#2a3f5f\",\"gridcolor\":\"white\",\"linecolor\":\"white\",\"minorgridcolor\":\"white\",\"startlinecolor\":\"#2a3f5f\"},\"type\":\"carpet\"}],\"choropleth\":[{\"colorbar\":{\"outlinewidth\":0,\"ticks\":\"\"},\"type\":\"choropleth\"}],\"contourcarpet\":[{\"colorbar\":{\"outlinewidth\":0,\"ticks\":\"\"},\"type\":\"contourcarpet\"}],\"contour\":[{\"colorbar\":{\"outlinewidth\":0,\"ticks\":\"\"},\"colorscale\":[[0.0,\"#0d0887\"],[0.1111111111111111,\"#46039f\"],[0.2222222222222222,\"#7201a8\"],[0.3333333333333333,\"#9c179e\"],[0.4444444444444444,\"#bd3786\"],[0.5555555555555556,\"#d8576b\"],[0.6666666666666666,\"#ed7953\"],[0.7777777777777778,\"#fb9f3a\"],[0.8888888888888888,\"#fdca26\"],[1.0,\"#f0f921\"]],\"type\":\"contour\"}],\"heatmapgl\":[{\"colorbar\":{\"outlinewidth\":0,\"ticks\":\"\"},\"colorscale\":[[0.0,\"#0d0887\"],[0.1111111111111111,\"#46039f\"],[0.2222222222222222,\"#7201a8\"],[0.3333333333333333,\"#9c179e\"],[0.4444444444444444,\"#bd3786\"],[0.5555555555555556,\"#d8576b\"],[0.6666666666666666,\"#ed7953\"],[0.7777777777777778,\"#fb9f3a\"],[0.8888888888888888,\"#fdca26\"],[1.0,\"#f0f921\"]],\"type\":\"heatmapgl\"}],\"heatmap\":[{\"colorbar\":{\"outlinewidth\":0,\"ticks\":\"\"},\"colorscale\":[[0.0,\"#0d0887\"],[0.1111111111111111,\"#46039f\"],[0.2222222222222222,\"#7201a8\"],[0.3333333333333333,\"#9c179e\"],[0.4444444444444444,\"#bd3786\"],[0.5555555555555556,\"#d8576b\"],[0.6666666666666666,\"#ed7953\"],[0.7777777777777778,\"#fb9f3a\"],[0.8888888888888888,\"#fdca26\"],[1.0,\"#f0f921\"]],\"type\":\"heatmap\"}],\"histogram2dcontour\":[{\"colorbar\":{\"outlinewidth\":0,\"ticks\":\"\"},\"colorscale\":[[0.0,\"#0d0887\"],[0.1111111111111111,\"#46039f\"],[0.2222222222222222,\"#7201a8\"],[0.3333333333333333,\"#9c179e\"],[0.4444444444444444,\"#bd3786\"],[0.5555555555555556,\"#d8576b\"],[0.6666666666666666,\"#ed7953\"],[0.7777777777777778,\"#fb9f3a\"],[0.8888888888888888,\"#fdca26\"],[1.0,\"#f0f921\"]],\"type\":\"histogram2dcontour\"}],\"histogram2d\":[{\"colorbar\":{\"outlinewidth\":0,\"ticks\":\"\"},\"colorscale\":[[0.0,\"#0d0887\"],[0.1111111111111111,\"#46039f\"],[0.2222222222222222,\"#7201a8\"],[0.3333333333333333,\"#9c179e\"],[0.4444444444444444,\"#bd3786\"],[0.5555555555555556,\"#d8576b\"],[0.6666666666666666,\"#ed7953\"],[0.7777777777777778,\"#fb9f3a\"],[0.8888888888888888,\"#fdca26\"],[1.0,\"#f0f921\"]],\"type\":\"histogram2d\"}],\"histogram\":[{\"marker\":{\"pattern\":{\"fillmode\":\"overlay\",\"size\":10,\"solidity\":0.2}},\"type\":\"histogram\"}],\"mesh3d\":[{\"colorbar\":{\"outlinewidth\":0,\"ticks\":\"\"},\"type\":\"mesh3d\"}],\"parcoords\":[{\"line\":{\"colorbar\":{\"outlinewidth\":0,\"ticks\":\"\"}},\"type\":\"parcoords\"}],\"pie\":[{\"automargin\":true,\"type\":\"pie\"}],\"scatter3d\":[{\"line\":{\"colorbar\":{\"outlinewidth\":0,\"ticks\":\"\"}},\"marker\":{\"colorbar\":{\"outlinewidth\":0,\"ticks\":\"\"}},\"type\":\"scatter3d\"}],\"scattercarpet\":[{\"marker\":{\"colorbar\":{\"outlinewidth\":0,\"ticks\":\"\"}},\"type\":\"scattercarpet\"}],\"scattergeo\":[{\"marker\":{\"colorbar\":{\"outlinewidth\":0,\"ticks\":\"\"}},\"type\":\"scattergeo\"}],\"scattergl\":[{\"marker\":{\"colorbar\":{\"outlinewidth\":0,\"ticks\":\"\"}},\"type\":\"scattergl\"}],\"scattermapbox\":[{\"marker\":{\"colorbar\":{\"outlinewidth\":0,\"ticks\":\"\"}},\"type\":\"scattermapbox\"}],\"scatterpolargl\":[{\"marker\":{\"colorbar\":{\"outlinewidth\":0,\"ticks\":\"\"}},\"type\":\"scatterpolargl\"}],\"scatterpolar\":[{\"marker\":{\"colorbar\":{\"outlinewidth\":0,\"ticks\":\"\"}},\"type\":\"scatterpolar\"}],\"scatter\":[{\"fillpattern\":{\"fillmode\":\"overlay\",\"size\":10,\"solidity\":0.2},\"type\":\"scatter\"}],\"scatterternary\":[{\"marker\":{\"colorbar\":{\"outlinewidth\":0,\"ticks\":\"\"}},\"type\":\"scatterternary\"}],\"surface\":[{\"colorbar\":{\"outlinewidth\":0,\"ticks\":\"\"},\"colorscale\":[[0.0,\"#0d0887\"],[0.1111111111111111,\"#46039f\"],[0.2222222222222222,\"#7201a8\"],[0.3333333333333333,\"#9c179e\"],[0.4444444444444444,\"#bd3786\"],[0.5555555555555556,\"#d8576b\"],[0.6666666666666666,\"#ed7953\"],[0.7777777777777778,\"#fb9f3a\"],[0.8888888888888888,\"#fdca26\"],[1.0,\"#f0f921\"]],\"type\":\"surface\"}],\"table\":[{\"cells\":{\"fill\":{\"color\":\"#EBF0F8\"},\"line\":{\"color\":\"white\"}},\"header\":{\"fill\":{\"color\":\"#C8D4E3\"},\"line\":{\"color\":\"white\"}},\"type\":\"table\"}]},\"layout\":{\"annotationdefaults\":{\"arrowcolor\":\"#2a3f5f\",\"arrowhead\":0,\"arrowwidth\":1},\"autotypenumbers\":\"strict\",\"coloraxis\":{\"colorbar\":{\"outlinewidth\":0,\"ticks\":\"\"}},\"colorscale\":{\"diverging\":[[0,\"#8e0152\"],[0.1,\"#c51b7d\"],[0.2,\"#de77ae\"],[0.3,\"#f1b6da\"],[0.4,\"#fde0ef\"],[0.5,\"#f7f7f7\"],[0.6,\"#e6f5d0\"],[0.7,\"#b8e186\"],[0.8,\"#7fbc41\"],[0.9,\"#4d9221\"],[1,\"#276419\"]],\"sequential\":[[0.0,\"#0d0887\"],[0.1111111111111111,\"#46039f\"],[0.2222222222222222,\"#7201a8\"],[0.3333333333333333,\"#9c179e\"],[0.4444444444444444,\"#bd3786\"],[0.5555555555555556,\"#d8576b\"],[0.6666666666666666,\"#ed7953\"],[0.7777777777777778,\"#fb9f3a\"],[0.8888888888888888,\"#fdca26\"],[1.0,\"#f0f921\"]],\"sequentialminus\":[[0.0,\"#0d0887\"],[0.1111111111111111,\"#46039f\"],[0.2222222222222222,\"#7201a8\"],[0.3333333333333333,\"#9c179e\"],[0.4444444444444444,\"#bd3786\"],[0.5555555555555556,\"#d8576b\"],[0.6666666666666666,\"#ed7953\"],[0.7777777777777778,\"#fb9f3a\"],[0.8888888888888888,\"#fdca26\"],[1.0,\"#f0f921\"]]},\"colorway\":[\"#636efa\",\"#EF553B\",\"#00cc96\",\"#ab63fa\",\"#FFA15A\",\"#19d3f3\",\"#FF6692\",\"#B6E880\",\"#FF97FF\",\"#FECB52\"],\"font\":{\"color\":\"#2a3f5f\"},\"geo\":{\"bgcolor\":\"white\",\"lakecolor\":\"white\",\"landcolor\":\"#E5ECF6\",\"showlakes\":true,\"showland\":true,\"subunitcolor\":\"white\"},\"hoverlabel\":{\"align\":\"left\"},\"hovermode\":\"closest\",\"mapbox\":{\"style\":\"light\"},\"paper_bgcolor\":\"white\",\"plot_bgcolor\":\"#E5ECF6\",\"polar\":{\"angularaxis\":{\"gridcolor\":\"white\",\"linecolor\":\"white\",\"ticks\":\"\"},\"bgcolor\":\"#E5ECF6\",\"radialaxis\":{\"gridcolor\":\"white\",\"linecolor\":\"white\",\"ticks\":\"\"}},\"scene\":{\"xaxis\":{\"backgroundcolor\":\"#E5ECF6\",\"gridcolor\":\"white\",\"gridwidth\":2,\"linecolor\":\"white\",\"showbackground\":true,\"ticks\":\"\",\"zerolinecolor\":\"white\"},\"yaxis\":{\"backgroundcolor\":\"#E5ECF6\",\"gridcolor\":\"white\",\"gridwidth\":2,\"linecolor\":\"white\",\"showbackground\":true,\"ticks\":\"\",\"zerolinecolor\":\"white\"},\"zaxis\":{\"backgroundcolor\":\"#E5ECF6\",\"gridcolor\":\"white\",\"gridwidth\":2,\"linecolor\":\"white\",\"showbackground\":true,\"ticks\":\"\",\"zerolinecolor\":\"white\"}},\"shapedefaults\":{\"line\":{\"color\":\"#2a3f5f\"}},\"ternary\":{\"aaxis\":{\"gridcolor\":\"white\",\"linecolor\":\"white\",\"ticks\":\"\"},\"baxis\":{\"gridcolor\":\"white\",\"linecolor\":\"white\",\"ticks\":\"\"},\"bgcolor\":\"#E5ECF6\",\"caxis\":{\"gridcolor\":\"white\",\"linecolor\":\"white\",\"ticks\":\"\"}},\"title\":{\"x\":0.05},\"xaxis\":{\"automargin\":true,\"gridcolor\":\"white\",\"linecolor\":\"white\",\"ticks\":\"\",\"title\":{\"standoff\":15},\"zerolinecolor\":\"white\",\"zerolinewidth\":2},\"yaxis\":{\"automargin\":true,\"gridcolor\":\"white\",\"linecolor\":\"white\",\"ticks\":\"\",\"title\":{\"standoff\":15},\"zerolinecolor\":\"white\",\"zerolinewidth\":2}}},\"xaxis\":{\"anchor\":\"y\",\"domain\":[0.0,0.45],\"title\":{\"text\":\"Epoch\"}},\"yaxis\":{\"anchor\":\"x\",\"domain\":[0.0,1.0],\"range\":[0,1],\"title\":{\"text\":\"Accuracy\"}},\"xaxis2\":{\"anchor\":\"y2\",\"domain\":[0.55,1.0],\"title\":{\"text\":\"Epoch\"}},\"yaxis2\":{\"anchor\":\"x2\",\"domain\":[0.0,1.0],\"range\":[0,1],\"title\":{\"text\":\"Loss\"}}},                        {\"responsive\": true}                    ).then(function(){\n",
              "                            \n",
              "var gd = document.getElementById('233bbcd5-e913-47d2-9e26-d1d1ef03976a');\n",
              "var x = new MutationObserver(function (mutations, observer) {{\n",
              "        var display = window.getComputedStyle(gd).display;\n",
              "        if (!display || display === 'none') {{\n",
              "            console.log([gd, 'removed!']);\n",
              "            Plotly.purge(gd);\n",
              "            observer.disconnect();\n",
              "        }}\n",
              "}});\n",
              "\n",
              "// Listen for the removal of the full notebook cells\n",
              "var notebookContainer = gd.closest('#notebook-container');\n",
              "if (notebookContainer) {{\n",
              "    x.observe(notebookContainer, {childList: true});\n",
              "}}\n",
              "\n",
              "// Listen for the clearing of the current output cell\n",
              "var outputEl = gd.closest('.output');\n",
              "if (outputEl) {{\n",
              "    x.observe(outputEl, {childList: true});\n",
              "}}\n",
              "\n",
              "                        })                };                            </script>        </div>\n",
              "</body>\n",
              "</html>"
            ]
          },
          "metadata": {},
          "output_type": "display_data"
        },
        {
          "name": "stdout",
          "output_type": "stream",
          "text": [
            "Test loss: 0.20481596887111664\n",
            "Test accuracy: 0.9304999709129333\n"
          ]
        }
      ],
      "source": [
        "#TODO:\n",
        "plot_accuracy_and_loss(train_model)\n",
        "\n",
        "\n",
        "score = model.evaluate(X_test, y_test, verbose=0)\n",
        "print('Test loss:', score[0])\n",
        "print('Test accuracy:', score[1])"
      ]
    },
    {
      "cell_type": "code",
      "execution_count": null,
      "metadata": {
        "colab": {
          "background_save": true
        },
        "id": "_9lY8ROwpesv",
        "outputId": "4ae4c52d-85f5-403a-ce1e-ede547cc4c88"
      },
      "outputs": [
        {
          "name": "stderr",
          "output_type": "stream",
          "text": [
            "/usr/local/lib/python3.10/dist-packages/plotly/tools.py:460: DeprecationWarning:\n",
            "\n",
            "plotly.tools.make_subplots is deprecated, please use plotly.subplots.make_subplots instead\n",
            "\n"
          ]
        },
        {
          "data": {
            "text/html": [
              "<html>\n",
              "<head><meta charset=\"utf-8\" /></head>\n",
              "<body>\n",
              "    <div>            <script src=\"https://cdnjs.cloudflare.com/ajax/libs/mathjax/2.7.5/MathJax.js?config=TeX-AMS-MML_SVG\"></script><script type=\"text/javascript\">if (window.MathJax && window.MathJax.Hub && window.MathJax.Hub.Config) {window.MathJax.Hub.Config({SVG: {font: \"STIX-Web\"}});}</script>                <script type=\"text/javascript\">window.PlotlyConfig = {MathJaxConfig: 'local'};</script>\n",
              "        <script charset=\"utf-8\" src=\"https://cdn.plot.ly/plotly-2.24.1.min.js\"></script>                <div id=\"8eed6323-d2ac-442e-af29-a4a8e1bd824b\" class=\"plotly-graph-div\" style=\"height:525px; width:100%;\"></div>            <script type=\"text/javascript\">                                    window.PLOTLYENV=window.PLOTLYENV || {};                                    if (document.getElementById(\"8eed6323-d2ac-442e-af29-a4a8e1bd824b\")) {                    Plotly.newPlot(                        \"8eed6323-d2ac-442e-af29-a4a8e1bd824b\",                        [{\"marker\":{\"color\":\"Green\"},\"mode\":\"markers+lines\",\"name\":\"Training accuracy\",\"text\":[\"1\",\"2\",\"3\",\"4\",\"5\",\"6\",\"7\",\"8\",\"9\",\"10\",\"11\",\"12\",\"13\",\"14\",\"15\",\"16\",\"17\",\"18\",\"19\",\"20\",\"21\",\"22\",\"23\",\"24\",\"25\",\"26\",\"27\",\"28\",\"29\",\"30\",\"31\",\"32\",\"33\",\"34\",\"35\",\"36\",\"37\",\"38\",\"39\",\"40\",\"41\",\"42\",\"43\",\"44\",\"45\",\"46\",\"47\",\"48\",\"49\",\"50\"],\"x\":[1,2,3,4,5,6,7,8,9,10,11,12,13,14,15,16,17,18,19,20,21,22,23,24,25,26,27,28,29,30,31,32,33,34,35,36,37,38,39,40,41,42,43,44,45,46,47,48,49,50],\"xaxis\":\"x\",\"y\":[0.6189374923706055,0.6830833554267883,0.6978333592414856,0.702875018119812,0.7065833210945129,0.7113333344459534,0.7174791693687439,0.7160624861717224,0.7230416536331177,0.7219791412353516,0.7275416851043701,0.7276874780654907,0.7303333282470703,0.7338333129882812,0.7352083325386047,0.7339583039283752,0.7359166741371155,0.7386666536331177,0.7389166951179504,0.7402916550636292,0.7412916421890259,0.7414166927337646,0.7445833086967468,0.7453749775886536,0.7431666851043701,0.7447708249092102,0.745145857334137,0.7455000281333923,0.749750018119812,0.7489791512489319,0.750124990940094,0.7505000233650208,0.7500208616256714,0.7513333559036255,0.7540624737739563,0.7555208206176758,0.7537083625793457,0.7536458373069763,0.7567499876022339,0.7550833225250244,0.7539583444595337,0.7597083449363708,0.7571666836738586,0.7582916617393494,0.7585208415985107,0.7582708597183228,0.761020839214325,0.7593333125114441,0.7601666450500488,0.7591041922569275],\"yaxis\":\"y\",\"type\":\"scatter\"},{\"marker\":{\"color\":\"Red\"},\"mode\":\"markers+lines\",\"name\":\"Validation accuracy\",\"text\":[\"1\",\"2\",\"3\",\"4\",\"5\",\"6\",\"7\",\"8\",\"9\",\"10\",\"11\",\"12\",\"13\",\"14\",\"15\",\"16\",\"17\",\"18\",\"19\",\"20\",\"21\",\"22\",\"23\",\"24\",\"25\",\"26\",\"27\",\"28\",\"29\",\"30\",\"31\",\"32\",\"33\",\"34\",\"35\",\"36\",\"37\",\"38\",\"39\",\"40\",\"41\",\"42\",\"43\",\"44\",\"45\",\"46\",\"47\",\"48\",\"49\",\"50\"],\"x\":[1,2,3,4,5,6,7,8,9,10,11,12,13,14,15,16,17,18,19,20,21,22,23,24,25,26,27,28,29,30,31,32,33,34,35,36,37,38,39,40,41,42,43,44,45,46,47,48,49,50],\"xaxis\":\"x\",\"y\":[0.6713333129882812,0.7036666870117188,0.7144166827201843,0.7057499885559082,0.703416645526886,0.6984166502952576,0.718999981880188,0.7013333439826965,0.7287499904632568,0.7141666412353516,0.7317500114440918,0.7320833206176758,0.7302500009536743,0.7302500009536743,0.7306666374206543,0.7325000166893005,0.7399166822433472,0.7421666383743286,0.7330833077430725,0.737583339214325,0.7229166626930237,0.7363333106040955,0.7329999804496765,0.7325000166893005,0.734749972820282,0.746833324432373,0.7400000095367432,0.7431666851043701,0.7459999918937683,0.7379166483879089,0.7535833120346069,0.7537500262260437,0.7558333277702332,0.7560833096504211,0.7546666860580444,0.753250002861023,0.7518333196640015,0.7455833554267883,0.75,0.7569166421890259,0.7589166760444641,0.7548333406448364,0.7589166760444641,0.7584999799728394,0.7570000290870667,0.7619166374206543,0.7600833177566528,0.7607499957084656,0.753333330154419,0.7635833621025085],\"yaxis\":\"y\",\"type\":\"scatter\"},{\"marker\":{\"color\":\"Blue\"},\"mode\":\"markers+lines\",\"name\":\"Training loss\",\"text\":[\"1\",\"2\",\"3\",\"4\",\"5\",\"6\",\"7\",\"8\",\"9\",\"10\",\"11\",\"12\",\"13\",\"14\",\"15\",\"16\",\"17\",\"18\",\"19\",\"20\",\"21\",\"22\",\"23\",\"24\",\"25\",\"26\",\"27\",\"28\",\"29\",\"30\",\"31\",\"32\",\"33\",\"34\",\"35\",\"36\",\"37\",\"38\",\"39\",\"40\",\"41\",\"42\",\"43\",\"44\",\"45\",\"46\",\"47\",\"48\",\"49\",\"50\"],\"x\":[1,2,3,4,5,6,7,8,9,10,11,12,13,14,15,16,17,18,19,20,21,22,23,24,25,26,27,28,29,30,31,32,33,34,35,36,37,38,39,40,41,42,43,44,45,46,47,48,49,50],\"xaxis\":\"x2\",\"y\":[6.779195785522461,1.679539680480957,1.4001116752624512,1.3143160343170166,1.271968126296997,1.251922845840454,1.236346960067749,1.2358670234680176,1.2203571796417236,1.21365225315094,1.207558035850525,1.2005236148834229,1.1908100843429565,1.1819261312484741,1.1782046556472778,1.1753950119018555,1.1686502695083618,1.162038803100586,1.1594290733337402,1.1526213884353638,1.1477383375167847,1.1496449708938599,1.1431670188903809,1.1333982944488525,1.1382070779800415,1.1331150531768799,1.1312345266342163,1.1263700723648071,1.1199582815170288,1.1214919090270996,1.114595890045166,1.1118336915969849,1.112068772315979,1.1061886548995972,1.105236530303955,1.1000244617462158,1.100948452949524,1.100321650505066,1.0974125862121582,1.0960763692855835,1.0950517654418945,1.0868033170700073,1.0951621532440186,1.0910919904708862,1.087641954421997,1.0897505283355713,1.0827081203460693,1.0853513479232788,1.0814763307571411,1.0811008214950562],\"yaxis\":\"y2\",\"type\":\"scatter\"},{\"marker\":{\"color\":\"Magenta\"},\"mode\":\"markers+lines\",\"name\":\"Validation loss\",\"text\":[\"1\",\"2\",\"3\",\"4\",\"5\",\"6\",\"7\",\"8\",\"9\",\"10\",\"11\",\"12\",\"13\",\"14\",\"15\",\"16\",\"17\",\"18\",\"19\",\"20\",\"21\",\"22\",\"23\",\"24\",\"25\",\"26\",\"27\",\"28\",\"29\",\"30\",\"31\",\"32\",\"33\",\"34\",\"35\",\"36\",\"37\",\"38\",\"39\",\"40\",\"41\",\"42\",\"43\",\"44\",\"45\",\"46\",\"47\",\"48\",\"49\",\"50\"],\"x\":[1,2,3,4,5,6,7,8,9,10,11,12,13,14,15,16,17,18,19,20,21,22,23,24,25,26,27,28,29,30,31,32,33,34,35,36,37,38,39,40,41,42,43,44,45,46,47,48,49,50],\"xaxis\":\"x2\",\"y\":[1.9543722867965698,1.4779506921768188,1.3184105157852173,1.2899951934814453,1.2962175607681274,1.2808268070220947,1.219683051109314,1.2473056316375732,1.1920661926269531,1.2190160751342773,1.1868597269058228,1.198123812675476,1.1811745166778564,1.1758837699890137,1.168513298034668,1.1695668697357178,1.1592833995819092,1.1420137882232666,1.1664366722106934,1.1787461042404175,1.1623075008392334,1.1484558582305908,1.1614376306533813,1.152862787246704,1.1614024639129639,1.132454514503479,1.1521599292755127,1.1232719421386719,1.1232491731643677,1.1361579895019531,1.0920352935791016,1.0962680578231812,1.1073024272918701,1.1121429204940796,1.1047818660736084,1.095958948135376,1.0927584171295166,1.1174941062927246,1.121550440788269,1.0917705297470093,1.0805346965789795,1.1096361875534058,1.0965576171875,1.0860872268676758,1.1000919342041016,1.0818277597427368,1.080281138420105,1.087283968925476,1.0819181203842163,1.0853052139282227],\"yaxis\":\"y2\",\"type\":\"scatter\"}],                        {\"annotations\":[{\"font\":{\"size\":16},\"showarrow\":false,\"text\":\"Training and validation accuracy\",\"x\":0.225,\"xanchor\":\"center\",\"xref\":\"paper\",\"y\":1.0,\"yanchor\":\"bottom\",\"yref\":\"paper\"},{\"font\":{\"size\":16},\"showarrow\":false,\"text\":\"Training and validation loss\",\"x\":0.775,\"xanchor\":\"center\",\"xref\":\"paper\",\"y\":1.0,\"yanchor\":\"bottom\",\"yref\":\"paper\"}],\"template\":{\"data\":{\"barpolar\":[{\"marker\":{\"line\":{\"color\":\"#E5ECF6\",\"width\":0.5},\"pattern\":{\"fillmode\":\"overlay\",\"size\":10,\"solidity\":0.2}},\"type\":\"barpolar\"}],\"bar\":[{\"error_x\":{\"color\":\"#2a3f5f\"},\"error_y\":{\"color\":\"#2a3f5f\"},\"marker\":{\"line\":{\"color\":\"#E5ECF6\",\"width\":0.5},\"pattern\":{\"fillmode\":\"overlay\",\"size\":10,\"solidity\":0.2}},\"type\":\"bar\"}],\"carpet\":[{\"aaxis\":{\"endlinecolor\":\"#2a3f5f\",\"gridcolor\":\"white\",\"linecolor\":\"white\",\"minorgridcolor\":\"white\",\"startlinecolor\":\"#2a3f5f\"},\"baxis\":{\"endlinecolor\":\"#2a3f5f\",\"gridcolor\":\"white\",\"linecolor\":\"white\",\"minorgridcolor\":\"white\",\"startlinecolor\":\"#2a3f5f\"},\"type\":\"carpet\"}],\"choropleth\":[{\"colorbar\":{\"outlinewidth\":0,\"ticks\":\"\"},\"type\":\"choropleth\"}],\"contourcarpet\":[{\"colorbar\":{\"outlinewidth\":0,\"ticks\":\"\"},\"type\":\"contourcarpet\"}],\"contour\":[{\"colorbar\":{\"outlinewidth\":0,\"ticks\":\"\"},\"colorscale\":[[0.0,\"#0d0887\"],[0.1111111111111111,\"#46039f\"],[0.2222222222222222,\"#7201a8\"],[0.3333333333333333,\"#9c179e\"],[0.4444444444444444,\"#bd3786\"],[0.5555555555555556,\"#d8576b\"],[0.6666666666666666,\"#ed7953\"],[0.7777777777777778,\"#fb9f3a\"],[0.8888888888888888,\"#fdca26\"],[1.0,\"#f0f921\"]],\"type\":\"contour\"}],\"heatmapgl\":[{\"colorbar\":{\"outlinewidth\":0,\"ticks\":\"\"},\"colorscale\":[[0.0,\"#0d0887\"],[0.1111111111111111,\"#46039f\"],[0.2222222222222222,\"#7201a8\"],[0.3333333333333333,\"#9c179e\"],[0.4444444444444444,\"#bd3786\"],[0.5555555555555556,\"#d8576b\"],[0.6666666666666666,\"#ed7953\"],[0.7777777777777778,\"#fb9f3a\"],[0.8888888888888888,\"#fdca26\"],[1.0,\"#f0f921\"]],\"type\":\"heatmapgl\"}],\"heatmap\":[{\"colorbar\":{\"outlinewidth\":0,\"ticks\":\"\"},\"colorscale\":[[0.0,\"#0d0887\"],[0.1111111111111111,\"#46039f\"],[0.2222222222222222,\"#7201a8\"],[0.3333333333333333,\"#9c179e\"],[0.4444444444444444,\"#bd3786\"],[0.5555555555555556,\"#d8576b\"],[0.6666666666666666,\"#ed7953\"],[0.7777777777777778,\"#fb9f3a\"],[0.8888888888888888,\"#fdca26\"],[1.0,\"#f0f921\"]],\"type\":\"heatmap\"}],\"histogram2dcontour\":[{\"colorbar\":{\"outlinewidth\":0,\"ticks\":\"\"},\"colorscale\":[[0.0,\"#0d0887\"],[0.1111111111111111,\"#46039f\"],[0.2222222222222222,\"#7201a8\"],[0.3333333333333333,\"#9c179e\"],[0.4444444444444444,\"#bd3786\"],[0.5555555555555556,\"#d8576b\"],[0.6666666666666666,\"#ed7953\"],[0.7777777777777778,\"#fb9f3a\"],[0.8888888888888888,\"#fdca26\"],[1.0,\"#f0f921\"]],\"type\":\"histogram2dcontour\"}],\"histogram2d\":[{\"colorbar\":{\"outlinewidth\":0,\"ticks\":\"\"},\"colorscale\":[[0.0,\"#0d0887\"],[0.1111111111111111,\"#46039f\"],[0.2222222222222222,\"#7201a8\"],[0.3333333333333333,\"#9c179e\"],[0.4444444444444444,\"#bd3786\"],[0.5555555555555556,\"#d8576b\"],[0.6666666666666666,\"#ed7953\"],[0.7777777777777778,\"#fb9f3a\"],[0.8888888888888888,\"#fdca26\"],[1.0,\"#f0f921\"]],\"type\":\"histogram2d\"}],\"histogram\":[{\"marker\":{\"pattern\":{\"fillmode\":\"overlay\",\"size\":10,\"solidity\":0.2}},\"type\":\"histogram\"}],\"mesh3d\":[{\"colorbar\":{\"outlinewidth\":0,\"ticks\":\"\"},\"type\":\"mesh3d\"}],\"parcoords\":[{\"line\":{\"colorbar\":{\"outlinewidth\":0,\"ticks\":\"\"}},\"type\":\"parcoords\"}],\"pie\":[{\"automargin\":true,\"type\":\"pie\"}],\"scatter3d\":[{\"line\":{\"colorbar\":{\"outlinewidth\":0,\"ticks\":\"\"}},\"marker\":{\"colorbar\":{\"outlinewidth\":0,\"ticks\":\"\"}},\"type\":\"scatter3d\"}],\"scattercarpet\":[{\"marker\":{\"colorbar\":{\"outlinewidth\":0,\"ticks\":\"\"}},\"type\":\"scattercarpet\"}],\"scattergeo\":[{\"marker\":{\"colorbar\":{\"outlinewidth\":0,\"ticks\":\"\"}},\"type\":\"scattergeo\"}],\"scattergl\":[{\"marker\":{\"colorbar\":{\"outlinewidth\":0,\"ticks\":\"\"}},\"type\":\"scattergl\"}],\"scattermapbox\":[{\"marker\":{\"colorbar\":{\"outlinewidth\":0,\"ticks\":\"\"}},\"type\":\"scattermapbox\"}],\"scatterpolargl\":[{\"marker\":{\"colorbar\":{\"outlinewidth\":0,\"ticks\":\"\"}},\"type\":\"scatterpolargl\"}],\"scatterpolar\":[{\"marker\":{\"colorbar\":{\"outlinewidth\":0,\"ticks\":\"\"}},\"type\":\"scatterpolar\"}],\"scatter\":[{\"fillpattern\":{\"fillmode\":\"overlay\",\"size\":10,\"solidity\":0.2},\"type\":\"scatter\"}],\"scatterternary\":[{\"marker\":{\"colorbar\":{\"outlinewidth\":0,\"ticks\":\"\"}},\"type\":\"scatterternary\"}],\"surface\":[{\"colorbar\":{\"outlinewidth\":0,\"ticks\":\"\"},\"colorscale\":[[0.0,\"#0d0887\"],[0.1111111111111111,\"#46039f\"],[0.2222222222222222,\"#7201a8\"],[0.3333333333333333,\"#9c179e\"],[0.4444444444444444,\"#bd3786\"],[0.5555555555555556,\"#d8576b\"],[0.6666666666666666,\"#ed7953\"],[0.7777777777777778,\"#fb9f3a\"],[0.8888888888888888,\"#fdca26\"],[1.0,\"#f0f921\"]],\"type\":\"surface\"}],\"table\":[{\"cells\":{\"fill\":{\"color\":\"#EBF0F8\"},\"line\":{\"color\":\"white\"}},\"header\":{\"fill\":{\"color\":\"#C8D4E3\"},\"line\":{\"color\":\"white\"}},\"type\":\"table\"}]},\"layout\":{\"annotationdefaults\":{\"arrowcolor\":\"#2a3f5f\",\"arrowhead\":0,\"arrowwidth\":1},\"autotypenumbers\":\"strict\",\"coloraxis\":{\"colorbar\":{\"outlinewidth\":0,\"ticks\":\"\"}},\"colorscale\":{\"diverging\":[[0,\"#8e0152\"],[0.1,\"#c51b7d\"],[0.2,\"#de77ae\"],[0.3,\"#f1b6da\"],[0.4,\"#fde0ef\"],[0.5,\"#f7f7f7\"],[0.6,\"#e6f5d0\"],[0.7,\"#b8e186\"],[0.8,\"#7fbc41\"],[0.9,\"#4d9221\"],[1,\"#276419\"]],\"sequential\":[[0.0,\"#0d0887\"],[0.1111111111111111,\"#46039f\"],[0.2222222222222222,\"#7201a8\"],[0.3333333333333333,\"#9c179e\"],[0.4444444444444444,\"#bd3786\"],[0.5555555555555556,\"#d8576b\"],[0.6666666666666666,\"#ed7953\"],[0.7777777777777778,\"#fb9f3a\"],[0.8888888888888888,\"#fdca26\"],[1.0,\"#f0f921\"]],\"sequentialminus\":[[0.0,\"#0d0887\"],[0.1111111111111111,\"#46039f\"],[0.2222222222222222,\"#7201a8\"],[0.3333333333333333,\"#9c179e\"],[0.4444444444444444,\"#bd3786\"],[0.5555555555555556,\"#d8576b\"],[0.6666666666666666,\"#ed7953\"],[0.7777777777777778,\"#fb9f3a\"],[0.8888888888888888,\"#fdca26\"],[1.0,\"#f0f921\"]]},\"colorway\":[\"#636efa\",\"#EF553B\",\"#00cc96\",\"#ab63fa\",\"#FFA15A\",\"#19d3f3\",\"#FF6692\",\"#B6E880\",\"#FF97FF\",\"#FECB52\"],\"font\":{\"color\":\"#2a3f5f\"},\"geo\":{\"bgcolor\":\"white\",\"lakecolor\":\"white\",\"landcolor\":\"#E5ECF6\",\"showlakes\":true,\"showland\":true,\"subunitcolor\":\"white\"},\"hoverlabel\":{\"align\":\"left\"},\"hovermode\":\"closest\",\"mapbox\":{\"style\":\"light\"},\"paper_bgcolor\":\"white\",\"plot_bgcolor\":\"#E5ECF6\",\"polar\":{\"angularaxis\":{\"gridcolor\":\"white\",\"linecolor\":\"white\",\"ticks\":\"\"},\"bgcolor\":\"#E5ECF6\",\"radialaxis\":{\"gridcolor\":\"white\",\"linecolor\":\"white\",\"ticks\":\"\"}},\"scene\":{\"xaxis\":{\"backgroundcolor\":\"#E5ECF6\",\"gridcolor\":\"white\",\"gridwidth\":2,\"linecolor\":\"white\",\"showbackground\":true,\"ticks\":\"\",\"zerolinecolor\":\"white\"},\"yaxis\":{\"backgroundcolor\":\"#E5ECF6\",\"gridcolor\":\"white\",\"gridwidth\":2,\"linecolor\":\"white\",\"showbackground\":true,\"ticks\":\"\",\"zerolinecolor\":\"white\"},\"zaxis\":{\"backgroundcolor\":\"#E5ECF6\",\"gridcolor\":\"white\",\"gridwidth\":2,\"linecolor\":\"white\",\"showbackground\":true,\"ticks\":\"\",\"zerolinecolor\":\"white\"}},\"shapedefaults\":{\"line\":{\"color\":\"#2a3f5f\"}},\"ternary\":{\"aaxis\":{\"gridcolor\":\"white\",\"linecolor\":\"white\",\"ticks\":\"\"},\"baxis\":{\"gridcolor\":\"white\",\"linecolor\":\"white\",\"ticks\":\"\"},\"bgcolor\":\"#E5ECF6\",\"caxis\":{\"gridcolor\":\"white\",\"linecolor\":\"white\",\"ticks\":\"\"}},\"title\":{\"x\":0.05},\"xaxis\":{\"automargin\":true,\"gridcolor\":\"white\",\"linecolor\":\"white\",\"ticks\":\"\",\"title\":{\"standoff\":15},\"zerolinecolor\":\"white\",\"zerolinewidth\":2},\"yaxis\":{\"automargin\":true,\"gridcolor\":\"white\",\"linecolor\":\"white\",\"ticks\":\"\",\"title\":{\"standoff\":15},\"zerolinecolor\":\"white\",\"zerolinewidth\":2}}},\"xaxis\":{\"anchor\":\"y\",\"domain\":[0.0,0.45],\"title\":{\"text\":\"Epoch\"}},\"yaxis\":{\"anchor\":\"x\",\"domain\":[0.0,1.0],\"range\":[0,1],\"title\":{\"text\":\"Accuracy\"}},\"xaxis2\":{\"anchor\":\"y2\",\"domain\":[0.55,1.0],\"title\":{\"text\":\"Epoch\"}},\"yaxis2\":{\"anchor\":\"x2\",\"domain\":[0.0,1.0],\"range\":[0,1],\"title\":{\"text\":\"Loss\"}}},                        {\"responsive\": true}                    ).then(function(){\n",
              "                            \n",
              "var gd = document.getElementById('8eed6323-d2ac-442e-af29-a4a8e1bd824b');\n",
              "var x = new MutationObserver(function (mutations, observer) {{\n",
              "        var display = window.getComputedStyle(gd).display;\n",
              "        if (!display || display === 'none') {{\n",
              "            console.log([gd, 'removed!']);\n",
              "            Plotly.purge(gd);\n",
              "            observer.disconnect();\n",
              "        }}\n",
              "}});\n",
              "\n",
              "// Listen for the removal of the full notebook cells\n",
              "var notebookContainer = gd.closest('#notebook-container');\n",
              "if (notebookContainer) {{\n",
              "    x.observe(notebookContainer, {childList: true});\n",
              "}}\n",
              "\n",
              "// Listen for the clearing of the current output cell\n",
              "var outputEl = gd.closest('.output');\n",
              "if (outputEl) {{\n",
              "    x.observe(outputEl, {childList: true});\n",
              "}}\n",
              "\n",
              "                        })                };                            </script>        </div>\n",
              "</body>\n",
              "</html>"
            ]
          },
          "metadata": {},
          "output_type": "display_data"
        },
        {
          "name": "stdout",
          "output_type": "stream",
          "text": [
            "Test loss: 1.0837584733963013\n",
            "Test accuracy: 0.7577999830245972\n"
          ]
        }
      ],
      "source": [
        "plot_accuracy_and_loss(train_model_l1)\n",
        "\n",
        "score = model_l1.evaluate(X_test, y_test, verbose=0)\n",
        "print('Test loss:', score[0])\n",
        "print('Test accuracy:', score[1])\n"
      ]
    },
    {
      "cell_type": "code",
      "execution_count": null,
      "metadata": {
        "colab": {
          "background_save": true
        },
        "id": "c-PPUqe7pvTh",
        "outputId": "1abf4b9c-9fa6-4611-8d8c-e7434473d72d"
      },
      "outputs": [
        {
          "data": {
            "text/html": [
              "<html>\n",
              "<head><meta charset=\"utf-8\" /></head>\n",
              "<body>\n",
              "    <div>            <script src=\"https://cdnjs.cloudflare.com/ajax/libs/mathjax/2.7.5/MathJax.js?config=TeX-AMS-MML_SVG\"></script><script type=\"text/javascript\">if (window.MathJax && window.MathJax.Hub && window.MathJax.Hub.Config) {window.MathJax.Hub.Config({SVG: {font: \"STIX-Web\"}});}</script>                <script type=\"text/javascript\">window.PlotlyConfig = {MathJaxConfig: 'local'};</script>\n",
              "        <script charset=\"utf-8\" src=\"https://cdn.plot.ly/plotly-2.24.1.min.js\"></script>                <div id=\"e1feced2-17bf-47f0-bb98-de5c11a500b2\" class=\"plotly-graph-div\" style=\"height:525px; width:100%;\"></div>            <script type=\"text/javascript\">                                    window.PLOTLYENV=window.PLOTLYENV || {};                                    if (document.getElementById(\"e1feced2-17bf-47f0-bb98-de5c11a500b2\")) {                    Plotly.newPlot(                        \"e1feced2-17bf-47f0-bb98-de5c11a500b2\",                        [{\"marker\":{\"color\":\"Green\"},\"mode\":\"markers+lines\",\"name\":\"Training accuracy\",\"text\":[\"1\",\"2\",\"3\",\"4\",\"5\",\"6\",\"7\",\"8\",\"9\",\"10\",\"11\",\"12\",\"13\",\"14\",\"15\",\"16\",\"17\",\"18\",\"19\",\"20\",\"21\",\"22\",\"23\",\"24\",\"25\",\"26\",\"27\",\"28\",\"29\",\"30\",\"31\",\"32\",\"33\",\"34\",\"35\",\"36\",\"37\",\"38\",\"39\",\"40\",\"41\",\"42\",\"43\",\"44\",\"45\",\"46\",\"47\",\"48\",\"49\",\"50\"],\"x\":[1,2,3,4,5,6,7,8,9,10,11,12,13,14,15,16,17,18,19,20,21,22,23,24,25,26,27,28,29,30,31,32,33,34,35,36,37,38,39,40,41,42,43,44,45,46,47,48,49,50],\"xaxis\":\"x\",\"y\":[0.7954166531562805,0.8307499885559082,0.8332291841506958,0.8367499709129333,0.8372291922569275,0.8419583439826965,0.8400624990463257,0.843500018119812,0.8447499871253967,0.8497708439826965,0.848520815372467,0.8508750200271606,0.8514583110809326,0.854729175567627,0.8533541560173035,0.8551250100135803,0.8554166555404663,0.8575208187103271,0.8579583168029785,0.8583124876022339,0.8578749895095825,0.8585208058357239,0.8600833415985107,0.8613125085830688,0.859749972820282,0.8607708215713501,0.8633124828338623,0.862541675567627,0.8643749952316284,0.8638749718666077,0.8666250109672546,0.8644791841506958,0.8667500019073486,0.8650416731834412,0.8668749928474426,0.8666458129882812,0.8672083616256714,0.8684791922569275,0.8663541674613953,0.8678125143051147,0.8706041574478149,0.870145857334137,0.8684166669845581,0.8697916865348816,0.8702916502952576,0.871749997138977,0.8712291717529297,0.8722291588783264,0.8700624704360962,0.8721458315849304],\"yaxis\":\"y\",\"type\":\"scatter\"},{\"marker\":{\"color\":\"Red\"},\"mode\":\"markers+lines\",\"name\":\"Validation accuracy\",\"text\":[\"1\",\"2\",\"3\",\"4\",\"5\",\"6\",\"7\",\"8\",\"9\",\"10\",\"11\",\"12\",\"13\",\"14\",\"15\",\"16\",\"17\",\"18\",\"19\",\"20\",\"21\",\"22\",\"23\",\"24\",\"25\",\"26\",\"27\",\"28\",\"29\",\"30\",\"31\",\"32\",\"33\",\"34\",\"35\",\"36\",\"37\",\"38\",\"39\",\"40\",\"41\",\"42\",\"43\",\"44\",\"45\",\"46\",\"47\",\"48\",\"49\",\"50\"],\"x\":[1,2,3,4,5,6,7,8,9,10,11,12,13,14,15,16,17,18,19,20,21,22,23,24,25,26,27,28,29,30,31,32,33,34,35,36,37,38,39,40,41,42,43,44,45,46,47,48,49,50],\"xaxis\":\"x\",\"y\":[0.7752500176429749,0.8455833196640015,0.8318333625793457,0.8360000252723694,0.8367499709129333,0.8289166688919067,0.8449166417121887,0.8358333110809326,0.846666693687439,0.8536666631698608,0.831250011920929,0.8520833253860474,0.8481666445732117,0.8491666913032532,0.8512499928474426,0.8513333201408386,0.8598333597183228,0.8570833206176758,0.8491666913032532,0.8515833616256714,0.8605833053588867,0.8456666469573975,0.8677499890327454,0.8657500147819519,0.856249988079071,0.856333315372467,0.8651666641235352,0.8619166612625122,0.8610833287239075,0.8614166378974915,0.8696666955947876,0.8632500171661377,0.8712499737739563,0.8525000214576721,0.859083354473114,0.8647500276565552,0.8555833101272583,0.859333336353302,0.8700000047683716,0.8709999918937683,0.8673333525657654,0.8609166741371155,0.8556666374206543,0.8686666488647461,0.8687499761581421,0.8725833296775818,0.8633333444595337,0.8722500205039978,0.8661666512489319,0.8680833578109741],\"yaxis\":\"y\",\"type\":\"scatter\"},{\"marker\":{\"color\":\"Blue\"},\"mode\":\"markers+lines\",\"name\":\"Training loss\",\"text\":[\"1\",\"2\",\"3\",\"4\",\"5\",\"6\",\"7\",\"8\",\"9\",\"10\",\"11\",\"12\",\"13\",\"14\",\"15\",\"16\",\"17\",\"18\",\"19\",\"20\",\"21\",\"22\",\"23\",\"24\",\"25\",\"26\",\"27\",\"28\",\"29\",\"30\",\"31\",\"32\",\"33\",\"34\",\"35\",\"36\",\"37\",\"38\",\"39\",\"40\",\"41\",\"42\",\"43\",\"44\",\"45\",\"46\",\"47\",\"48\",\"49\",\"50\"],\"x\":[1,2,3,4,5,6,7,8,9,10,11,12,13,14,15,16,17,18,19,20,21,22,23,24,25,26,27,28,29,30,31,32,33,34,35,36,37,38,39,40,41,42,43,44,45,46,47,48,49,50],\"xaxis\":\"x2\",\"y\":[1.6260344982147217,0.8435198664665222,0.7170515656471252,0.6685361862182617,0.6462015509605408,0.6283290386199951,0.6203212738037109,0.6044186353683472,0.5975697040557861,0.5836292505264282,0.5787297487258911,0.5729275941848755,0.5635772943496704,0.5569339394569397,0.5560374855995178,0.5486979484558105,0.546022891998291,0.5375013947486877,0.534177303314209,0.5329504609107971,0.5332203507423401,0.5268256664276123,0.5220633745193481,0.5185775756835938,0.5201002359390259,0.5163483619689941,0.5124715566635132,0.5079085826873779,0.5063813924789429,0.5037916898727417,0.49822986125946045,0.5022532343864441,0.49719491600990295,0.4958164095878601,0.4921344518661499,0.4923478662967682,0.490764319896698,0.4891599118709564,0.48720771074295044,0.4856569766998291,0.48049503564834595,0.4794885218143463,0.4813041090965271,0.4765365421772003,0.47540172934532166,0.4722837209701538,0.4731602072715759,0.4699360728263855,0.47273018956184387,0.4684906005859375],\"yaxis\":\"y2\",\"type\":\"scatter\"},{\"marker\":{\"color\":\"Magenta\"},\"mode\":\"markers+lines\",\"name\":\"Validation loss\",\"text\":[\"1\",\"2\",\"3\",\"4\",\"5\",\"6\",\"7\",\"8\",\"9\",\"10\",\"11\",\"12\",\"13\",\"14\",\"15\",\"16\",\"17\",\"18\",\"19\",\"20\",\"21\",\"22\",\"23\",\"24\",\"25\",\"26\",\"27\",\"28\",\"29\",\"30\",\"31\",\"32\",\"33\",\"34\",\"35\",\"36\",\"37\",\"38\",\"39\",\"40\",\"41\",\"42\",\"43\",\"44\",\"45\",\"46\",\"47\",\"48\",\"49\",\"50\"],\"x\":[1,2,3,4,5,6,7,8,9,10,11,12,13,14,15,16,17,18,19,20,21,22,23,24,25,26,27,28,29,30,31,32,33,34,35,36,37,38,39,40,41,42,43,44,45,46,47,48,49,50],\"xaxis\":\"x2\",\"y\":[1.0967425107955933,0.7282975912094116,0.6890056729316711,0.658833920955658,0.6383864879608154,0.64136803150177,0.6037358045578003,0.6092485785484314,0.5973379611968994,0.5742053389549255,0.6021941900253296,0.5634992718696594,0.5704805850982666,0.5674574971199036,0.5551686882972717,0.5570218563079834,0.5451009273529053,0.5443477034568787,0.5698731541633606,0.5390549898147583,0.521593451499939,0.5648689270019531,0.5099250674247742,0.5119578838348389,0.5249425768852234,0.5321200489997864,0.5095876455307007,0.5165333151817322,0.5129672288894653,0.5132032632827759,0.4942513704299927,0.5075013041496277,0.4852648079395294,0.531874418258667,0.5082980990409851,0.505205512046814,0.5130298733711243,0.5175439715385437,0.48801541328430176,0.4825829267501831,0.4905149042606354,0.49853095412254333,0.508930504322052,0.484885573387146,0.483934611082077,0.47438281774520874,0.49091288447380066,0.47282299399375916,0.4935612082481384,0.48441624641418457],\"yaxis\":\"y2\",\"type\":\"scatter\"}],                        {\"annotations\":[{\"font\":{\"size\":16},\"showarrow\":false,\"text\":\"Training and validation accuracy\",\"x\":0.225,\"xanchor\":\"center\",\"xref\":\"paper\",\"y\":1.0,\"yanchor\":\"bottom\",\"yref\":\"paper\"},{\"font\":{\"size\":16},\"showarrow\":false,\"text\":\"Training and validation loss\",\"x\":0.775,\"xanchor\":\"center\",\"xref\":\"paper\",\"y\":1.0,\"yanchor\":\"bottom\",\"yref\":\"paper\"}],\"template\":{\"data\":{\"barpolar\":[{\"marker\":{\"line\":{\"color\":\"#E5ECF6\",\"width\":0.5},\"pattern\":{\"fillmode\":\"overlay\",\"size\":10,\"solidity\":0.2}},\"type\":\"barpolar\"}],\"bar\":[{\"error_x\":{\"color\":\"#2a3f5f\"},\"error_y\":{\"color\":\"#2a3f5f\"},\"marker\":{\"line\":{\"color\":\"#E5ECF6\",\"width\":0.5},\"pattern\":{\"fillmode\":\"overlay\",\"size\":10,\"solidity\":0.2}},\"type\":\"bar\"}],\"carpet\":[{\"aaxis\":{\"endlinecolor\":\"#2a3f5f\",\"gridcolor\":\"white\",\"linecolor\":\"white\",\"minorgridcolor\":\"white\",\"startlinecolor\":\"#2a3f5f\"},\"baxis\":{\"endlinecolor\":\"#2a3f5f\",\"gridcolor\":\"white\",\"linecolor\":\"white\",\"minorgridcolor\":\"white\",\"startlinecolor\":\"#2a3f5f\"},\"type\":\"carpet\"}],\"choropleth\":[{\"colorbar\":{\"outlinewidth\":0,\"ticks\":\"\"},\"type\":\"choropleth\"}],\"contourcarpet\":[{\"colorbar\":{\"outlinewidth\":0,\"ticks\":\"\"},\"type\":\"contourcarpet\"}],\"contour\":[{\"colorbar\":{\"outlinewidth\":0,\"ticks\":\"\"},\"colorscale\":[[0.0,\"#0d0887\"],[0.1111111111111111,\"#46039f\"],[0.2222222222222222,\"#7201a8\"],[0.3333333333333333,\"#9c179e\"],[0.4444444444444444,\"#bd3786\"],[0.5555555555555556,\"#d8576b\"],[0.6666666666666666,\"#ed7953\"],[0.7777777777777778,\"#fb9f3a\"],[0.8888888888888888,\"#fdca26\"],[1.0,\"#f0f921\"]],\"type\":\"contour\"}],\"heatmapgl\":[{\"colorbar\":{\"outlinewidth\":0,\"ticks\":\"\"},\"colorscale\":[[0.0,\"#0d0887\"],[0.1111111111111111,\"#46039f\"],[0.2222222222222222,\"#7201a8\"],[0.3333333333333333,\"#9c179e\"],[0.4444444444444444,\"#bd3786\"],[0.5555555555555556,\"#d8576b\"],[0.6666666666666666,\"#ed7953\"],[0.7777777777777778,\"#fb9f3a\"],[0.8888888888888888,\"#fdca26\"],[1.0,\"#f0f921\"]],\"type\":\"heatmapgl\"}],\"heatmap\":[{\"colorbar\":{\"outlinewidth\":0,\"ticks\":\"\"},\"colorscale\":[[0.0,\"#0d0887\"],[0.1111111111111111,\"#46039f\"],[0.2222222222222222,\"#7201a8\"],[0.3333333333333333,\"#9c179e\"],[0.4444444444444444,\"#bd3786\"],[0.5555555555555556,\"#d8576b\"],[0.6666666666666666,\"#ed7953\"],[0.7777777777777778,\"#fb9f3a\"],[0.8888888888888888,\"#fdca26\"],[1.0,\"#f0f921\"]],\"type\":\"heatmap\"}],\"histogram2dcontour\":[{\"colorbar\":{\"outlinewidth\":0,\"ticks\":\"\"},\"colorscale\":[[0.0,\"#0d0887\"],[0.1111111111111111,\"#46039f\"],[0.2222222222222222,\"#7201a8\"],[0.3333333333333333,\"#9c179e\"],[0.4444444444444444,\"#bd3786\"],[0.5555555555555556,\"#d8576b\"],[0.6666666666666666,\"#ed7953\"],[0.7777777777777778,\"#fb9f3a\"],[0.8888888888888888,\"#fdca26\"],[1.0,\"#f0f921\"]],\"type\":\"histogram2dcontour\"}],\"histogram2d\":[{\"colorbar\":{\"outlinewidth\":0,\"ticks\":\"\"},\"colorscale\":[[0.0,\"#0d0887\"],[0.1111111111111111,\"#46039f\"],[0.2222222222222222,\"#7201a8\"],[0.3333333333333333,\"#9c179e\"],[0.4444444444444444,\"#bd3786\"],[0.5555555555555556,\"#d8576b\"],[0.6666666666666666,\"#ed7953\"],[0.7777777777777778,\"#fb9f3a\"],[0.8888888888888888,\"#fdca26\"],[1.0,\"#f0f921\"]],\"type\":\"histogram2d\"}],\"histogram\":[{\"marker\":{\"pattern\":{\"fillmode\":\"overlay\",\"size\":10,\"solidity\":0.2}},\"type\":\"histogram\"}],\"mesh3d\":[{\"colorbar\":{\"outlinewidth\":0,\"ticks\":\"\"},\"type\":\"mesh3d\"}],\"parcoords\":[{\"line\":{\"colorbar\":{\"outlinewidth\":0,\"ticks\":\"\"}},\"type\":\"parcoords\"}],\"pie\":[{\"automargin\":true,\"type\":\"pie\"}],\"scatter3d\":[{\"line\":{\"colorbar\":{\"outlinewidth\":0,\"ticks\":\"\"}},\"marker\":{\"colorbar\":{\"outlinewidth\":0,\"ticks\":\"\"}},\"type\":\"scatter3d\"}],\"scattercarpet\":[{\"marker\":{\"colorbar\":{\"outlinewidth\":0,\"ticks\":\"\"}},\"type\":\"scattercarpet\"}],\"scattergeo\":[{\"marker\":{\"colorbar\":{\"outlinewidth\":0,\"ticks\":\"\"}},\"type\":\"scattergeo\"}],\"scattergl\":[{\"marker\":{\"colorbar\":{\"outlinewidth\":0,\"ticks\":\"\"}},\"type\":\"scattergl\"}],\"scattermapbox\":[{\"marker\":{\"colorbar\":{\"outlinewidth\":0,\"ticks\":\"\"}},\"type\":\"scattermapbox\"}],\"scatterpolargl\":[{\"marker\":{\"colorbar\":{\"outlinewidth\":0,\"ticks\":\"\"}},\"type\":\"scatterpolargl\"}],\"scatterpolar\":[{\"marker\":{\"colorbar\":{\"outlinewidth\":0,\"ticks\":\"\"}},\"type\":\"scatterpolar\"}],\"scatter\":[{\"fillpattern\":{\"fillmode\":\"overlay\",\"size\":10,\"solidity\":0.2},\"type\":\"scatter\"}],\"scatterternary\":[{\"marker\":{\"colorbar\":{\"outlinewidth\":0,\"ticks\":\"\"}},\"type\":\"scatterternary\"}],\"surface\":[{\"colorbar\":{\"outlinewidth\":0,\"ticks\":\"\"},\"colorscale\":[[0.0,\"#0d0887\"],[0.1111111111111111,\"#46039f\"],[0.2222222222222222,\"#7201a8\"],[0.3333333333333333,\"#9c179e\"],[0.4444444444444444,\"#bd3786\"],[0.5555555555555556,\"#d8576b\"],[0.6666666666666666,\"#ed7953\"],[0.7777777777777778,\"#fb9f3a\"],[0.8888888888888888,\"#fdca26\"],[1.0,\"#f0f921\"]],\"type\":\"surface\"}],\"table\":[{\"cells\":{\"fill\":{\"color\":\"#EBF0F8\"},\"line\":{\"color\":\"white\"}},\"header\":{\"fill\":{\"color\":\"#C8D4E3\"},\"line\":{\"color\":\"white\"}},\"type\":\"table\"}]},\"layout\":{\"annotationdefaults\":{\"arrowcolor\":\"#2a3f5f\",\"arrowhead\":0,\"arrowwidth\":1},\"autotypenumbers\":\"strict\",\"coloraxis\":{\"colorbar\":{\"outlinewidth\":0,\"ticks\":\"\"}},\"colorscale\":{\"diverging\":[[0,\"#8e0152\"],[0.1,\"#c51b7d\"],[0.2,\"#de77ae\"],[0.3,\"#f1b6da\"],[0.4,\"#fde0ef\"],[0.5,\"#f7f7f7\"],[0.6,\"#e6f5d0\"],[0.7,\"#b8e186\"],[0.8,\"#7fbc41\"],[0.9,\"#4d9221\"],[1,\"#276419\"]],\"sequential\":[[0.0,\"#0d0887\"],[0.1111111111111111,\"#46039f\"],[0.2222222222222222,\"#7201a8\"],[0.3333333333333333,\"#9c179e\"],[0.4444444444444444,\"#bd3786\"],[0.5555555555555556,\"#d8576b\"],[0.6666666666666666,\"#ed7953\"],[0.7777777777777778,\"#fb9f3a\"],[0.8888888888888888,\"#fdca26\"],[1.0,\"#f0f921\"]],\"sequentialminus\":[[0.0,\"#0d0887\"],[0.1111111111111111,\"#46039f\"],[0.2222222222222222,\"#7201a8\"],[0.3333333333333333,\"#9c179e\"],[0.4444444444444444,\"#bd3786\"],[0.5555555555555556,\"#d8576b\"],[0.6666666666666666,\"#ed7953\"],[0.7777777777777778,\"#fb9f3a\"],[0.8888888888888888,\"#fdca26\"],[1.0,\"#f0f921\"]]},\"colorway\":[\"#636efa\",\"#EF553B\",\"#00cc96\",\"#ab63fa\",\"#FFA15A\",\"#19d3f3\",\"#FF6692\",\"#B6E880\",\"#FF97FF\",\"#FECB52\"],\"font\":{\"color\":\"#2a3f5f\"},\"geo\":{\"bgcolor\":\"white\",\"lakecolor\":\"white\",\"landcolor\":\"#E5ECF6\",\"showlakes\":true,\"showland\":true,\"subunitcolor\":\"white\"},\"hoverlabel\":{\"align\":\"left\"},\"hovermode\":\"closest\",\"mapbox\":{\"style\":\"light\"},\"paper_bgcolor\":\"white\",\"plot_bgcolor\":\"#E5ECF6\",\"polar\":{\"angularaxis\":{\"gridcolor\":\"white\",\"linecolor\":\"white\",\"ticks\":\"\"},\"bgcolor\":\"#E5ECF6\",\"radialaxis\":{\"gridcolor\":\"white\",\"linecolor\":\"white\",\"ticks\":\"\"}},\"scene\":{\"xaxis\":{\"backgroundcolor\":\"#E5ECF6\",\"gridcolor\":\"white\",\"gridwidth\":2,\"linecolor\":\"white\",\"showbackground\":true,\"ticks\":\"\",\"zerolinecolor\":\"white\"},\"yaxis\":{\"backgroundcolor\":\"#E5ECF6\",\"gridcolor\":\"white\",\"gridwidth\":2,\"linecolor\":\"white\",\"showbackground\":true,\"ticks\":\"\",\"zerolinecolor\":\"white\"},\"zaxis\":{\"backgroundcolor\":\"#E5ECF6\",\"gridcolor\":\"white\",\"gridwidth\":2,\"linecolor\":\"white\",\"showbackground\":true,\"ticks\":\"\",\"zerolinecolor\":\"white\"}},\"shapedefaults\":{\"line\":{\"color\":\"#2a3f5f\"}},\"ternary\":{\"aaxis\":{\"gridcolor\":\"white\",\"linecolor\":\"white\",\"ticks\":\"\"},\"baxis\":{\"gridcolor\":\"white\",\"linecolor\":\"white\",\"ticks\":\"\"},\"bgcolor\":\"#E5ECF6\",\"caxis\":{\"gridcolor\":\"white\",\"linecolor\":\"white\",\"ticks\":\"\"}},\"title\":{\"x\":0.05},\"xaxis\":{\"automargin\":true,\"gridcolor\":\"white\",\"linecolor\":\"white\",\"ticks\":\"\",\"title\":{\"standoff\":15},\"zerolinecolor\":\"white\",\"zerolinewidth\":2},\"yaxis\":{\"automargin\":true,\"gridcolor\":\"white\",\"linecolor\":\"white\",\"ticks\":\"\",\"title\":{\"standoff\":15},\"zerolinecolor\":\"white\",\"zerolinewidth\":2}}},\"xaxis\":{\"anchor\":\"y\",\"domain\":[0.0,0.45],\"title\":{\"text\":\"Epoch\"}},\"yaxis\":{\"anchor\":\"x\",\"domain\":[0.0,1.0],\"range\":[0,1],\"title\":{\"text\":\"Accuracy\"}},\"xaxis2\":{\"anchor\":\"y2\",\"domain\":[0.55,1.0],\"title\":{\"text\":\"Epoch\"}},\"yaxis2\":{\"anchor\":\"x2\",\"domain\":[0.0,1.0],\"range\":[0,1],\"title\":{\"text\":\"Loss\"}}},                        {\"responsive\": true}                    ).then(function(){\n",
              "                            \n",
              "var gd = document.getElementById('e1feced2-17bf-47f0-bb98-de5c11a500b2');\n",
              "var x = new MutationObserver(function (mutations, observer) {{\n",
              "        var display = window.getComputedStyle(gd).display;\n",
              "        if (!display || display === 'none') {{\n",
              "            console.log([gd, 'removed!']);\n",
              "            Plotly.purge(gd);\n",
              "            observer.disconnect();\n",
              "        }}\n",
              "}});\n",
              "\n",
              "// Listen for the removal of the full notebook cells\n",
              "var notebookContainer = gd.closest('#notebook-container');\n",
              "if (notebookContainer) {{\n",
              "    x.observe(notebookContainer, {childList: true});\n",
              "}}\n",
              "\n",
              "// Listen for the clearing of the current output cell\n",
              "var outputEl = gd.closest('.output');\n",
              "if (outputEl) {{\n",
              "    x.observe(outputEl, {childList: true});\n",
              "}}\n",
              "\n",
              "                        })                };                            </script>        </div>\n",
              "</body>\n",
              "</html>"
            ]
          },
          "metadata": {},
          "output_type": "display_data"
        },
        {
          "name": "stdout",
          "output_type": "stream",
          "text": [
            "Test loss: 0.47663232684135437\n",
            "Test accuracy: 0.8654999732971191\n"
          ]
        }
      ],
      "source": [
        "plot_accuracy_and_loss(train_model_l2)\n",
        "\n",
        "score = model_l2.evaluate(X_test, y_test, verbose=0)\n",
        "print('Test loss:', score[0])\n",
        "print('Test accuracy:', score[1])"
      ]
    },
    {
      "cell_type": "markdown",
      "metadata": {
        "id": "3aZLEriYOXI1"
      },
      "source": [
        "#Task: Make Predictions using the best saved model\n"
      ]
    },
    {
      "cell_type": "markdown",
      "metadata": {
        "id": "LnBLwqTJX3p0"
      },
      "source": [
        "Create a confusion Matrix and F1 score for both Models. Ensure outputs for the cells are visible"
      ]
    },
    {
      "cell_type": "markdown",
      "metadata": {
        "id": "bO79SOsZYG-M"
      },
      "source": [
        "Finally, Make predictions using the best model. By the time you get to this cell you may realise at some point you needed to save the model so that you cal load it later"
      ]
    },
    {
      "cell_type": "code",
      "execution_count": 10,
      "metadata": {
        "id": "Nqqe2PasUIAG"
      },
      "outputs": [],
      "source": [
        "def make_predictions(model_path):\n",
        "\n",
        "    # Load the model\n",
        "    models = load_model(model_path)\n",
        "\n",
        "    # Make predictions\n",
        "    predictions = models.predict(X_test)\n",
        "    # Convert probabilities to binary labels (0 or 1)\n",
        "    # Convert predictions and true labels from one-hot encoded vectors to class labels\n",
        "    predictions_labels = np.argmax(predictions, axis=1)\n",
        "    true_labels = np.argmax(y_test, axis=1)\n",
        "\n",
        "    # # Calculate the confusion matrix\n",
        "    # conf_matrix = confusion_matrix(true_labels, predictions_labels)\n",
        "    # print(\"Confusion Matrix:\\n\", conf_matrix)\n",
        "\n",
        "    # Calculate classification report\n",
        "    report = classification_report(true_labels, predictions_labels)\n",
        "    print(\"Classification Report:\\n\", report)\n",
        "\n",
        "    return predictions\n",
        "\n",
        "#Modify the code appropriately"
      ]
    },
    {
      "cell_type": "code",
      "execution_count": 31,
      "metadata": {
        "colab": {
          "base_uri": "https://localhost:8080/"
        },
        "id": "IQxN2irdvkhP",
        "outputId": "3e028e41-ddb6-4461-faa4-dd9467e4e557"
      },
      "outputs": [
        {
          "output_type": "stream",
          "name": "stdout",
          "text": [
            "313/313 [==============================] - 4s 14ms/step\n",
            "Classification Report:\n",
            "               precision    recall  f1-score   support\n",
            "\n",
            "           0       0.86      0.87      0.86      1000\n",
            "           1       0.98      0.98      0.98      1000\n",
            "           2       0.84      0.86      0.85      1000\n",
            "           3       0.91      0.94      0.93      1000\n",
            "           4       0.90      0.84      0.87      1000\n",
            "           5       0.98      0.98      0.98      1000\n",
            "           6       0.78      0.74      0.76      1000\n",
            "           7       0.96      0.95      0.96      1000\n",
            "           8       0.97      0.99      0.98      1000\n",
            "           9       0.96      0.97      0.97      1000\n",
            "\n",
            "    accuracy                           0.91     10000\n",
            "   macro avg       0.91      0.91      0.91     10000\n",
            "weighted avg       0.91      0.91      0.91     10000\n",
            "\n"
          ]
        },
        {
          "output_type": "execute_result",
          "data": {
            "text/plain": [
              "array([[9.9999994e-01, 2.5709281e-23, 6.3139736e-16, ..., 1.2868894e-22,\n",
              "        1.6753586e-19, 2.7417830e-25],\n",
              "       [1.9393618e-34, 9.9999994e-01, 9.1482159e-36, ..., 0.0000000e+00,\n",
              "        8.6146601e-37, 0.0000000e+00],\n",
              "       [3.3328795e-10, 1.2306851e-18, 9.9999958e-01, ..., 3.5493992e-19,\n",
              "        4.2810282e-14, 2.0265456e-15],\n",
              "       ...,\n",
              "       [0.0000000e+00, 8.6352366e-34, 3.5726749e-24, ..., 1.2583132e-27,\n",
              "        9.9999994e-01, 3.3905233e-32],\n",
              "       [2.9977609e-12, 6.8602861e-18, 6.9598821e-15, ..., 1.7534457e-18,\n",
              "        9.9999994e-01, 7.9537389e-16],\n",
              "       [1.0667843e-09, 9.9999613e-01, 2.3726776e-12, ..., 5.2544741e-16,\n",
              "        1.2962157e-11, 2.0201382e-17]], dtype=float32)"
            ]
          },
          "metadata": {},
          "execution_count": 31
        }
      ],
      "source": [
        "model_path = '/content/trained_model_mnist.h5'\n",
        "make_predictions(model_path)"
      ]
    },
    {
      "cell_type": "code",
      "execution_count": null,
      "metadata": {
        "colab": {
          "background_save": true
        },
        "id": "O_jwbvaAUMj4",
        "outputId": "b02318a3-1519-4487-f87c-14e50c9beabd"
      },
      "outputs": [
        {
          "name": "stdout",
          "output_type": "stream",
          "text": [
            "313/313 [==============================] - 3s 9ms/step\n",
            "Classification Report:\n",
            "               precision    recall  f1-score   support\n",
            "\n",
            "           0       0.00      0.00      0.00      1000\n",
            "           1       0.00      0.00      0.00      1000\n",
            "           2       0.00      0.00      0.00      1000\n",
            "           3       0.11      0.91      0.20      1000\n",
            "           4       0.15      0.04      0.07      1000\n",
            "           5       0.86      0.01      0.02      1000\n",
            "           6       0.08      0.06      0.07      1000\n",
            "           7       0.00      0.00      0.00      1000\n",
            "           8       0.08      0.00      0.00      1000\n",
            "           9       0.50      0.30      0.38      1000\n",
            "\n",
            "    accuracy                           0.13     10000\n",
            "   macro avg       0.18      0.13      0.07     10000\n",
            "weighted avg       0.18      0.13      0.07     10000\n",
            "\n"
          ]
        },
        {
          "name": "stderr",
          "output_type": "stream",
          "text": [
            "/usr/local/lib/python3.10/dist-packages/sklearn/metrics/_classification.py:1344: UndefinedMetricWarning:\n",
            "\n",
            "Precision and F-score are ill-defined and being set to 0.0 in labels with no predicted samples. Use `zero_division` parameter to control this behavior.\n",
            "\n",
            "/usr/local/lib/python3.10/dist-packages/sklearn/metrics/_classification.py:1344: UndefinedMetricWarning:\n",
            "\n",
            "Precision and F-score are ill-defined and being set to 0.0 in labels with no predicted samples. Use `zero_division` parameter to control this behavior.\n",
            "\n",
            "/usr/local/lib/python3.10/dist-packages/sklearn/metrics/_classification.py:1344: UndefinedMetricWarning:\n",
            "\n",
            "Precision and F-score are ill-defined and being set to 0.0 in labels with no predicted samples. Use `zero_division` parameter to control this behavior.\n",
            "\n"
          ]
        },
        {
          "data": {
            "text/plain": [
              "array([[0.07362837, 0.09156024, 0.08239517, ..., 0.0667501 , 0.09182319,\n",
              "        0.11882837],\n",
              "       [0.08834454, 0.08209725, 0.08142437, ..., 0.07863964, 0.09751773,\n",
              "        0.13325527],\n",
              "       [0.06705162, 0.11093619, 0.10056836, ..., 0.08103807, 0.09266897,\n",
              "        0.11266448],\n",
              "       ...,\n",
              "       [0.07775301, 0.09607517, 0.08121207, ..., 0.06581341, 0.11043696,\n",
              "        0.10271201],\n",
              "       [0.07596722, 0.12429588, 0.09038989, ..., 0.07700291, 0.09630448,\n",
              "        0.10581914],\n",
              "       [0.06532263, 0.11078779, 0.07827851, ..., 0.07326484, 0.09781136,\n",
              "        0.11061362]], dtype=float32)"
            ]
          },
          "execution_count": 43,
          "metadata": {},
          "output_type": "execute_result"
        }
      ],
      "source": [
        "model_path = '/content/dropout_model_mnist.h5'\n",
        "make_predictions(model_path)"
      ]
    },
    {
      "cell_type": "code",
      "execution_count": 45,
      "metadata": {
        "colab": {
          "base_uri": "https://localhost:8080/"
        },
        "id": "uZFR-orEp1qO",
        "outputId": "ad12d3eb-34cd-4cff-9f09-1b5a47e11870"
      },
      "outputs": [
        {
          "output_type": "stream",
          "name": "stdout",
          "text": [
            "313/313 [==============================] - 4s 14ms/step\n",
            "Classification Report:\n",
            "               precision    recall  f1-score   support\n",
            "\n",
            "           0       0.00      0.00      0.00      1000\n",
            "           1       0.00      0.00      0.00      1000\n",
            "           2       0.00      0.00      0.00      1000\n",
            "           3       0.11      0.91      0.20      1000\n",
            "           4       0.15      0.04      0.07      1000\n",
            "           5       0.86      0.01      0.02      1000\n",
            "           6       0.08      0.06      0.07      1000\n",
            "           7       0.00      0.00      0.00      1000\n",
            "           8       0.08      0.00      0.00      1000\n",
            "           9       0.50      0.30      0.38      1000\n",
            "\n",
            "    accuracy                           0.13     10000\n",
            "   macro avg       0.18      0.13      0.07     10000\n",
            "weighted avg       0.18      0.13      0.07     10000\n",
            "\n"
          ]
        },
        {
          "output_type": "stream",
          "name": "stderr",
          "text": [
            "/usr/local/lib/python3.10/dist-packages/sklearn/metrics/_classification.py:1344: UndefinedMetricWarning:\n",
            "\n",
            "Precision and F-score are ill-defined and being set to 0.0 in labels with no predicted samples. Use `zero_division` parameter to control this behavior.\n",
            "\n",
            "/usr/local/lib/python3.10/dist-packages/sklearn/metrics/_classification.py:1344: UndefinedMetricWarning:\n",
            "\n",
            "Precision and F-score are ill-defined and being set to 0.0 in labels with no predicted samples. Use `zero_division` parameter to control this behavior.\n",
            "\n",
            "/usr/local/lib/python3.10/dist-packages/sklearn/metrics/_classification.py:1344: UndefinedMetricWarning:\n",
            "\n",
            "Precision and F-score are ill-defined and being set to 0.0 in labels with no predicted samples. Use `zero_division` parameter to control this behavior.\n",
            "\n"
          ]
        },
        {
          "output_type": "execute_result",
          "data": {
            "text/plain": [
              "array([[0.07362837, 0.09156024, 0.08239517, ..., 0.0667501 , 0.09182319,\n",
              "        0.11882837],\n",
              "       [0.08834454, 0.08209725, 0.08142437, ..., 0.07863964, 0.09751773,\n",
              "        0.13325527],\n",
              "       [0.06705162, 0.11093619, 0.10056836, ..., 0.08103807, 0.09266897,\n",
              "        0.11266448],\n",
              "       ...,\n",
              "       [0.07775301, 0.09607517, 0.08121207, ..., 0.06581341, 0.11043696,\n",
              "        0.10271201],\n",
              "       [0.07596722, 0.12429588, 0.09038989, ..., 0.07700291, 0.09630448,\n",
              "        0.10581914],\n",
              "       [0.06532263, 0.11078779, 0.07827851, ..., 0.07326484, 0.09781136,\n",
              "        0.11061362]], dtype=float32)"
            ]
          },
          "metadata": {},
          "execution_count": 45
        }
      ],
      "source": [
        "model_path = '/content/l1_model_mnist.h5'\n",
        "make_predictions(model_path)"
      ]
    },
    {
      "cell_type": "code",
      "execution_count": null,
      "metadata": {
        "colab": {
          "base_uri": "https://localhost:8080/"
        },
        "id": "riuxEHTnHu5C",
        "outputId": "5dcab155-5e81-4638-f477-2314c6a12f79"
      },
      "outputs": [
        {
          "name": "stdout",
          "output_type": "stream",
          "text": [
            "313/313 [==============================] - 3s 9ms/step\n",
            "Classification Report:\n",
            "               precision    recall  f1-score   support\n",
            "\n",
            "           0       0.00      0.00      0.00      1000\n",
            "           1       0.00      0.00      0.00      1000\n",
            "           2       0.00      0.00      0.00      1000\n",
            "           3       0.00      0.00      0.00      1000\n",
            "           4       0.00      0.00      0.00      1000\n",
            "           5       0.00      0.00      0.00      1000\n",
            "           6       0.00      0.00      0.00      1000\n",
            "           7       0.14      0.49      0.21      1000\n",
            "           8       0.00      0.00      0.00      1000\n",
            "           9       0.10      0.58      0.18      1000\n",
            "\n",
            "    accuracy                           0.11     10000\n",
            "   macro avg       0.02      0.11      0.04     10000\n",
            "weighted avg       0.02      0.11      0.04     10000\n",
            "\n"
          ]
        },
        {
          "name": "stderr",
          "output_type": "stream",
          "text": [
            "/usr/local/lib/python3.10/dist-packages/sklearn/metrics/_classification.py:1344: UndefinedMetricWarning:\n",
            "\n",
            "Precision and F-score are ill-defined and being set to 0.0 in labels with no predicted samples. Use `zero_division` parameter to control this behavior.\n",
            "\n",
            "/usr/local/lib/python3.10/dist-packages/sklearn/metrics/_classification.py:1344: UndefinedMetricWarning:\n",
            "\n",
            "Precision and F-score are ill-defined and being set to 0.0 in labels with no predicted samples. Use `zero_division` parameter to control this behavior.\n",
            "\n",
            "/usr/local/lib/python3.10/dist-packages/sklearn/metrics/_classification.py:1344: UndefinedMetricWarning:\n",
            "\n",
            "Precision and F-score are ill-defined and being set to 0.0 in labels with no predicted samples. Use `zero_division` parameter to control this behavior.\n",
            "\n"
          ]
        },
        {
          "data": {
            "text/plain": [
              "array([[0.08536579, 0.09263342, 0.10925919, ..., 0.13512342, 0.04781042,\n",
              "        0.13121715],\n",
              "       [0.08366983, 0.10801697, 0.09913884, ..., 0.14580789, 0.0553578 ,\n",
              "        0.1452684 ],\n",
              "       [0.08392812, 0.08931721, 0.0980919 , ..., 0.13323489, 0.06645351,\n",
              "        0.11866961],\n",
              "       ...,\n",
              "       [0.07566865, 0.09178872, 0.10833192, ..., 0.11830616, 0.06333589,\n",
              "        0.12797664],\n",
              "       [0.08496387, 0.10383705, 0.09763358, ..., 0.11864001, 0.05941631,\n",
              "        0.13456425],\n",
              "       [0.08184461, 0.1002682 , 0.09957038, ..., 0.12318286, 0.0572315 ,\n",
              "        0.131776  ]], dtype=float32)"
            ]
          },
          "execution_count": 71,
          "metadata": {},
          "output_type": "execute_result"
        }
      ],
      "source": [
        "model_path = '/content/l2_model_mnist.h5'\n",
        "make_predictions(model_path)"
      ]
    },
    {
      "cell_type": "markdown",
      "metadata": {
        "id": "rfTHk2nZMzTH"
      },
      "source": [
        "Congratulations!!\n"
      ]
    }
  ],
  "metadata": {
    "colab": {
      "provenance": [],
      "include_colab_link": true
    },
    "kernelspec": {
      "display_name": "Python 3",
      "name": "python3"
    },
    "language_info": {
      "name": "python"
    }
  },
  "nbformat": 4,
  "nbformat_minor": 0
}
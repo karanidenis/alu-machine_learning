{
  "cells": [
    {
      "cell_type": "markdown",
      "metadata": {
        "id": "view-in-github",
        "colab_type": "text"
      },
      "source": [
        "<a href=\"https://colab.research.google.com/github/karanidenis/alu-machine_learning/blob/main/Intro_to_ml_group_2_assignment.ipynb\" target=\"_parent\"><img src=\"https://colab.research.google.com/assets/colab-badge.svg\" alt=\"Open In Colab\"/></a>"
      ]
    },
    {
      "cell_type": "markdown",
      "metadata": {
        "id": "ujuLMxSvoXbg"
      },
      "source": [
        "# Optimization Techniques in Machine Learning\n",
        "\n",
        "Objective: This assignment aims to explore implementation or Machine Learning Models with regularization, optimization and Error analysis  techniques used in machine learning to improve models' performance, convergence speed, and efficiency..\n",
        "\n",
        "\n",
        "\n",
        "\n",
        "**Instructions**\n",
        "\n",
        "1. Acquire a publicly available dataset suitable for **classification** tasks.\n",
        "2. Implement a simple machine learning model based on neural networks on the chosen dataset without any optimization techniques.\n",
        "3. Implement and compare the model's performance after applying regularization and optimization techniques.\n",
        "4. Compare and contrast L1 regularization (Lasso) and L2 regularization (Ridge). Discuss situations where each type of regularization might be preferred.\n",
        "5. Make predictions using test data (Make sure you have training, validation, and test datasets)\n",
        "6. Submit the code and a detailed explanation of the implementation, including libraries used, parameter settings, and observed results.\n"
      ]
    },
    {
      "cell_type": "markdown",
      "metadata": {
        "id": "P_C7TfFPv9qi"
      },
      "source": [
        "\n",
        "\n",
        "# **PRJECT NAME: SMART FASHION**\n",
        "\n",
        "---\n",
        "\n",
        "## Group Members and Roles:\n",
        "\n",
        "1. **Denis Waweru**\n",
        "   - Role: [Analyzer]\n",
        "   - Responsibilities:\n",
        "\n",
        "    *Implemented a prediction function for the models.\n",
        "\n",
        "    *Generated basic confusion matrices.\n",
        "\n",
        "    *Computed F1 scores for both models.\n",
        "\n",
        "    *Conducted simple error analysis.\n",
        "\n",
        "\n",
        "2. **Christian Makuochukwu Okeke**\n",
        "   - Role: [Evaluator]\n",
        "   - Responsibilities:\n",
        "   \n",
        "    *Trained models using appropriate techniques.\n",
        "\n",
        "    *Evaluated model performance using accuracy and loss metrics.\n",
        "\n",
        "    *Conducted basic analysis of results.\n",
        "\n",
        "    *Provided clear explanations of the model's components.\n",
        "\n",
        "\n",
        "3. **Praise Orly Atadja**\n",
        "   - Role: [Project Coordinator]\n",
        "   - Responsibilities:\n",
        "    \n",
        "    *Coordinated and scheduled team meetings.\n",
        "\n",
        "    *Ensured that project timelines were met.\n",
        "\n",
        "    *Facilitated communication among team members.\n",
        "\n",
        "    *Developed the model structure and documentation.\n",
        "\n",
        "  \n",
        "4. **Jean Robert Gatwaza**\n",
        "   - Role: [Role]\n",
        "   - Responsibilities:\n",
        "\n",
        "---\n"
      ]
    },
    {
      "cell_type": "markdown",
      "metadata": {
        "id": "o8VW_IzbI3od"
      },
      "source": [
        "\n",
        "# Case Study and Implementation\n",
        "\n",
        "\n"
      ]
    },
    {
      "cell_type": "markdown",
      "metadata": {
        "id": "Enpi8HPsgjDD"
      },
      "source": [
        "\n",
        "# Case Study and Implementation\n",
        "\n",
        "Case Study Summary: Fashion MNIST Classification\n",
        "\n",
        "- The case study centers on implementing a neural network model for Fashion MNIST classification, initially devoid of optimization techniques.\n",
        "- Key steps involve data handling through TensorFlow and Keras, encompassing loading, preprocessing, and splitting into training, validation, and test sets.\n",
        "- A basic neural network architecture is established, featuring a flattened input, hidden layers with suitable activation functions, and a softmax activation for classification.\n",
        "- To enhance model performance, regularization and optimization techniques are applied, including L1 and L2 regularization, dropout layers, batch normalization, and gradient clipping.\n",
        "- A comprehensive comparative analysis assesses the impact of these techniques, with a particular focus on scenarios favoring L1 or L2 regularization.\n",
        "- Evaluation involves making predictions using the test dataset, and the implementation code in Google Colabs is shared along with a README file detailing dataset sources, execution instructions, and a concise summary of observed results.\n",
        "\n",
        ">Link to README file:\n",
        "https://docs.google.com/document/d/1J0FS4AylwxgygREV6Rcu5F3ejN_IDSyMol1VitooHSY/edit?usp=sharing"
      ]
    },
    {
      "cell_type": "code",
      "execution_count": 1,
      "metadata": {
        "id": "wGCnpzs9M4Fd"
      },
      "outputs": [],
      "source": [
        "#Import Necessary Libraries\n",
        "import numpy as np\n",
        "import pandas as pd\n",
        "from sklearn.model_selection import train_test_split\n",
        "from sklearn.metrics import classification_report\n",
        "from tensorflow.keras.utils import to_categorical\n",
        "from tensorflow.keras.models import Sequential, load_model\n",
        "from tensorflow.keras.layers import Dense, Flatten, Conv2D, Dropout, MaxPooling2D\n",
        "from IPython.display import SVG\n",
        "from tensorflow.keras.utils import model_to_dot, plot_model\n",
        "from tensorflow.keras.optimizers import Adam\n",
        "from tensorflow.keras.losses import categorical_crossentropy\n",
        "from tensorflow.keras.regularizers import l1, l2\n",
        "import seaborn as sns\n",
        "import matplotlib.pyplot as plt\n",
        "%matplotlib inline\n",
        "import plotly.graph_objs as go\n",
        "import plotly.figure_factory as ff\n",
        "from plotly import tools\n",
        "from plotly.offline import download_plotlyjs, init_notebook_mode, plot, iplot\n",
        "from sklearn.metrics import confusion_matrix, classification_report"
      ]
    },
    {
      "cell_type": "markdown",
      "metadata": {
        "id": "M1FN7bFeIxfH"
      },
      "source": [
        "# The Dataset\n",
        "**Short Description of the Data:**\n",
        "\n",
        "The dataset comprises grayscale images of fashion items, each measuring 28x28 pixels for a total of 784 pixels. Each pixel has a single integer value between 0 and 255, representing its lightness or darkness. The dataset consists of 785 columns, with the first column containing class labels indicating the type of clothing, and the remaining columns containing pixel values. The task is to develop a model that can learn and generalize from this pixel data to accurately classify unseen fashion images into predefined categories.\n",
        "\n",
        "\n",
        "Link to Dataset Source :\n",
        "\n",
        "https://www.kaggle.com/datasets/zalando-research/fashionmnist\n"
      ]
    },
    {
      "cell_type": "code",
      "source": [
        "from google.colab import drive\n",
        "drive.mount('/content/drive')"
      ],
      "metadata": {
        "colab": {
          "base_uri": "https://localhost:8080/"
        },
        "id": "8u7y9fpPT1lM",
        "outputId": "219b6888-01da-4b97-d4ad-01911455ef54"
      },
      "execution_count": 2,
      "outputs": [
        {
          "output_type": "stream",
          "name": "stdout",
          "text": [
            "Mounted at /content/drive\n"
          ]
        }
      ]
    },
    {
      "cell_type": "code",
      "execution_count": 27,
      "metadata": {
        "colab": {
          "base_uri": "https://localhost:8080/"
        },
        "id": "nas-T7xwPIso",
        "outputId": "bc6acbff-e0ea-489e-9550-8b48f28b5deb"
      },
      "outputs": [
        {
          "output_type": "stream",
          "name": "stdout",
          "text": [
            "Fashion MNIST train -  rows: 60000  columns: 785\n",
            "Fashion MNIST test -  rows: 10000  columns: 785\n",
            "(10000, 785)\n"
          ]
        }
      ],
      "source": [
        "#TO DO: Load Data (Seprate into: Train, Validation and test sets)\n",
        "IMG_ROWS = 28\n",
        "IMG_COLS = 28\n",
        "NUM_CLASSES = 10\n",
        "TEST_SIZE = 0.2\n",
        "RANDOM_STATE = 2018\n",
        "NO_EPOCHS = 50\n",
        "BATCH_SIZE = 128\n",
        "\n",
        "train_file = \"/content/drive/MyDrive/Colab Notebooks/fashion-mnist_train.csv\"\n",
        "test_file = \"/content/drive/MyDrive/Colab Notebooks/fashion-mnist_test.csv\"\n",
        "\n",
        "train_data = pd.read_csv(train_file)\n",
        "test_data = pd.read_csv(test_file)\n",
        "\n",
        "print(\"Fashion MNIST train -  rows:\",train_data.shape[0],\" columns:\", train_data.shape[1])\n",
        "print(\"Fashion MNIST test -  rows:\",test_data.shape[0],\" columns:\", test_data.shape[1])\n",
        "print(test_data.shape)"
      ]
    },
    {
      "cell_type": "markdown",
      "metadata": {
        "id": "hE9oQm8OZSvO"
      },
      "source": [
        "# SECTION 1: Model Implementation"
      ]
    },
    {
      "cell_type": "markdown",
      "metadata": {
        "id": "ve4AiQmGMzIN"
      },
      "source": [
        "#Task: Model Architecture:\n",
        "\n",
        "\n",
        "\n",
        "```\n",
        "TODO: Insert an image with the Model architecture here.Replace the image Below\n",
        "```\n",
        "<!-- > <img src=\"https://miro.medium.com/v2/resize:fit:640/format:webp/1*v1ohAG82xmU6WGsG2hoE8g.png\" alt=\"?\" style=\"width:25px\"/> -->\n",
        "\n",
        "> <img src=\"https://miro.medium.com/v2/resize:fit:828/format:webp/1*2SHOuTUK51_Up3D9JMAplA.png\" alt=\"?\" style=\"width:25px\"/>\n",
        "\n",
        "\n",
        "# 1. without Regularization:\n",
        "##layers:\n",
        "      Conv2D layer with 32 filters\n",
        "      MaxPooling2D layer\n",
        "      Conv2D layer with 64 filters\n",
        "      MaxPooling2D layer\n",
        "      Conv2D layer with 128 filters\n",
        "      Flatten layer\n",
        "      Dense layer with 128 units\n",
        "      Dense output layer with a number of units equal to NUM_CLASSES\n",
        "\n",
        "# 2. With dropout Regularization:\n",
        "## layers:\n",
        "      Conv2D layer with 32 filters,\n",
        "      MaxPooling2D layer,\n",
        "      Dropout layer,\n",
        "      Conv2D layer with 64 filters,\n",
        "      MaxPooling2D layer,\n",
        "      Dropout layer,\n",
        "      Conv2D layer with 128 filters,\n",
        "      Dropout layer,\n",
        "      Flatten layer,\n",
        "      Dense layer with 128 units,\n",
        "      Dropout layer,\n",
        "      Dense output layer with a number of units equal to NUM_CLASSES.\n",
        "\n",
        "#3. With L1 Regularization:\n",
        "## layers:\n",
        "      Conv2D layer with 32 filters and L1 regularization\n",
        "      MaxPooling2D layer\n",
        "      Conv2D layer with 64 filters and L1 regularization\n",
        "      MaxPooling2D layer\n",
        "      Flatten layer\n",
        "      Dense layer with 128 units and L1 regularization\n",
        "      Dense output layer with 10 units (which corresponds to the number of classes)\n",
        "\n",
        "#4. With L2 Regularization:\n",
        "## layers:\n",
        "      Conv2D layer with 32 filters, L2 regularization, ReLU activation, and he_normal kernel initializer\n",
        "      MaxPooling2D layer with a 2x2 pool size\n",
        "      Conv2D layer with 64 filters and L2 regularization\n",
        "      MaxPooling2D layer with a 2x2 pool size\n",
        "      Flatten layer to convert the 2D feature maps into a 1D vector\n",
        "      Dense layer with 128 units, ReLU activation, and L2 regularization\n",
        "      Dense output layer with 10 units corresponding to the number of classes, with softmax activation for classification"
      ]
    },
    {
      "cell_type": "markdown",
      "metadata": {
        "id": "4qim1wVMxubJ"
      },
      "source": [
        "# Data Preprocessing"
      ]
    },
    {
      "cell_type": "code",
      "execution_count": 4,
      "metadata": {
        "colab": {
          "base_uri": "https://localhost:8080/"
        },
        "id": "40oDMT8-xtZi",
        "outputId": "92ccfe86-f70a-4599-c7a2-5a3cc316fc2b"
      },
      "outputs": [
        {
          "output_type": "stream",
          "name": "stdout",
          "text": [
            "Fashion MNIST train -  rows: 48000  columns: (28, 28, 1)\n",
            "Fashion MNIST valid -  rows: 12000  columns: (28, 28, 1)\n",
            "Fashion MNIST test -  rows: 10000  columns: (28, 28, 1)\n"
          ]
        }
      ],
      "source": [
        "def data_preprocessing(raw):\n",
        "    out_y = to_categorical(raw.label, NUM_CLASSES)\n",
        "    num_images = raw.shape[0]\n",
        "    x_as_array = raw.values[:,1:]\n",
        "    x_shaped_array = x_as_array.reshape(num_images, IMG_ROWS, IMG_COLS, 1)\n",
        "    out_x = x_shaped_array / 255\n",
        "    return out_x, out_y\n",
        "\n",
        "X, y = data_preprocessing(train_data)\n",
        "X_test, y_test = data_preprocessing(test_data)\n",
        "\n",
        "X_train, X_val, y_train, y_val = train_test_split(X, y, test_size=TEST_SIZE, random_state=RANDOM_STATE)\n",
        "\n",
        "print(\"Fashion MNIST train -  rows:\",X_train.shape[0],\" columns:\", X_train.shape[1:4])\n",
        "print(\"Fashion MNIST valid -  rows:\",X_val.shape[0],\" columns:\", X_val.shape[1:4])\n",
        "print(\"Fashion MNIST test -  rows:\",X_test.shape[0],\" columns:\", X_test.shape[1:4])"
      ]
    },
    {
      "cell_type": "markdown",
      "metadata": {
        "id": "QR4BNYoUMzMP"
      },
      "source": [
        "#Task: Create A Model Without any Optimization techniques\n"
      ]
    },
    {
      "cell_type": "code",
      "execution_count": 25,
      "metadata": {
        "id": "gGtPmYb_SDHy",
        "colab": {
          "base_uri": "https://localhost:8080/"
        },
        "outputId": "874c7073-e6bd-41c7-eac0-a4a37a9ee4da"
      },
      "outputs": [
        {
          "output_type": "stream",
          "name": "stderr",
          "text": [
            "/usr/local/lib/python3.10/dist-packages/keras/src/engine/training.py:3103: UserWarning:\n",
            "\n",
            "You are saving your model as an HDF5 file via `model.save()`. This file format is considered legacy. We recommend using instead the native Keras format, e.g. `model.save('my_model.keras')`.\n",
            "\n"
          ]
        }
      ],
      "source": [
        "\n",
        "model = Sequential()\n",
        "# Add convolution 2D\n",
        "model.add(Conv2D(32, kernel_size=(3, 3),\n",
        "                 activation='relu',\n",
        "                 kernel_initializer='he_normal',\n",
        "                 input_shape=(IMG_ROWS, IMG_COLS, 1)))\n",
        "model.add(MaxPooling2D((2, 2)))\n",
        "model.add(Conv2D(64,\n",
        "                 kernel_size=(3, 3),\n",
        "                 activation='relu'))\n",
        "model.add(MaxPooling2D(pool_size=(2, 2)))\n",
        "model.add(Conv2D(128, (3, 3), activation='relu'))\n",
        "model.add(Flatten())\n",
        "model.add(Dense(128, activation='relu'))\n",
        "model.add(Dense(NUM_CLASSES, activation='softmax'))\n",
        "\n",
        "model.compile(loss=categorical_crossentropy,\n",
        "              optimizer=Adam(),\n",
        "              metrics=['accuracy'])\n",
        "model.save('fashion_model_mnist.h5')"
      ]
    },
    {
      "cell_type": "code",
      "execution_count": 29,
      "metadata": {
        "colab": {
          "base_uri": "https://localhost:8080/"
        },
        "id": "kzcWeOk-Sy9x",
        "outputId": "7836a6da-d363-4f23-d657-d49a3dad1e3c"
      },
      "outputs": [
        {
          "output_type": "stream",
          "name": "stdout",
          "text": [
            "Model: \"sequential_13\"\n",
            "_________________________________________________________________\n",
            " Layer (type)                Output Shape              Param #   \n",
            "=================================================================\n",
            " conv2d_28 (Conv2D)          (None, 26, 26, 32)        320       \n",
            "                                                                 \n",
            " max_pooling2d_24 (MaxPooli  (None, 13, 13, 32)        0         \n",
            " ng2D)                                                           \n",
            "                                                                 \n",
            " conv2d_29 (Conv2D)          (None, 11, 11, 64)        18496     \n",
            "                                                                 \n",
            " max_pooling2d_25 (MaxPooli  (None, 5, 5, 64)          0         \n",
            " ng2D)                                                           \n",
            "                                                                 \n",
            " conv2d_30 (Conv2D)          (None, 3, 3, 128)         73856     \n",
            "                                                                 \n",
            " flatten_13 (Flatten)        (None, 1152)              0         \n",
            "                                                                 \n",
            " dense_27 (Dense)            (None, 128)               147584    \n",
            "                                                                 \n",
            " dense_28 (Dense)            (None, 10)                1290      \n",
            "                                                                 \n",
            "=================================================================\n",
            "Total params: 241546 (943.54 KB)\n",
            "Trainable params: 241546 (943.54 KB)\n",
            "Non-trainable params: 0 (0.00 Byte)\n",
            "_________________________________________________________________\n"
          ]
        }
      ],
      "source": [
        "model.summary()"
      ]
    },
    {
      "cell_type": "code",
      "execution_count": 28,
      "metadata": {
        "colab": {
          "base_uri": "https://localhost:8080/"
        },
        "id": "iHH84_wvybC9",
        "outputId": "a7fe33a2-7be3-4c54-9f5f-b0563cda3402"
      },
      "outputs": [
        {
          "output_type": "stream",
          "name": "stdout",
          "text": [
            "Epoch 1/50\n",
            "375/375 [==============================] - 40s 107ms/step - loss: 0.0497 - accuracy: 0.9813 - val_loss: 0.3989 - val_accuracy: 0.9101\n",
            "Epoch 2/50\n",
            "375/375 [==============================] - 40s 107ms/step - loss: 0.0444 - accuracy: 0.9837 - val_loss: 0.4381 - val_accuracy: 0.9068\n",
            "Epoch 3/50\n",
            "375/375 [==============================] - 40s 107ms/step - loss: 0.0422 - accuracy: 0.9842 - val_loss: 0.4156 - val_accuracy: 0.9099\n",
            "Epoch 4/50\n",
            "375/375 [==============================] - 42s 112ms/step - loss: 0.0344 - accuracy: 0.9875 - val_loss: 0.4401 - val_accuracy: 0.9103\n",
            "Epoch 5/50\n",
            "375/375 [==============================] - 40s 106ms/step - loss: 0.0380 - accuracy: 0.9855 - val_loss: 0.5075 - val_accuracy: 0.9053\n",
            "Epoch 6/50\n",
            "375/375 [==============================] - 41s 110ms/step - loss: 0.0385 - accuracy: 0.9860 - val_loss: 0.4936 - val_accuracy: 0.9087\n",
            "Epoch 7/50\n",
            "375/375 [==============================] - 40s 106ms/step - loss: 0.0300 - accuracy: 0.9892 - val_loss: 0.4923 - val_accuracy: 0.9091\n",
            "Epoch 8/50\n",
            "375/375 [==============================] - 39s 103ms/step - loss: 0.0242 - accuracy: 0.9918 - val_loss: 0.5428 - val_accuracy: 0.9071\n",
            "Epoch 9/50\n",
            "375/375 [==============================] - 39s 105ms/step - loss: 0.0235 - accuracy: 0.9911 - val_loss: 0.5531 - val_accuracy: 0.9115\n",
            "Epoch 10/50\n",
            "375/375 [==============================] - 39s 105ms/step - loss: 0.0284 - accuracy: 0.9899 - val_loss: 0.5555 - val_accuracy: 0.9082\n",
            "Epoch 11/50\n",
            "375/375 [==============================] - 40s 106ms/step - loss: 0.0335 - accuracy: 0.9881 - val_loss: 0.5528 - val_accuracy: 0.9047\n",
            "Epoch 12/50\n",
            "375/375 [==============================] - 40s 106ms/step - loss: 0.0267 - accuracy: 0.9902 - val_loss: 0.5826 - val_accuracy: 0.9079\n",
            "Epoch 13/50\n",
            "375/375 [==============================] - 39s 105ms/step - loss: 0.0195 - accuracy: 0.9933 - val_loss: 0.5599 - val_accuracy: 0.9084\n",
            "Epoch 14/50\n",
            "375/375 [==============================] - 39s 105ms/step - loss: 0.0235 - accuracy: 0.9918 - val_loss: 0.5866 - val_accuracy: 0.9095\n",
            "Epoch 15/50\n",
            "375/375 [==============================] - 41s 109ms/step - loss: 0.0244 - accuracy: 0.9918 - val_loss: 0.6137 - val_accuracy: 0.9045\n",
            "Epoch 16/50\n",
            "375/375 [==============================] - 41s 109ms/step - loss: 0.0154 - accuracy: 0.9944 - val_loss: 0.6532 - val_accuracy: 0.9079\n",
            "Epoch 17/50\n",
            "375/375 [==============================] - 41s 109ms/step - loss: 0.0168 - accuracy: 0.9942 - val_loss: 0.6456 - val_accuracy: 0.9103\n",
            "Epoch 18/50\n",
            "375/375 [==============================] - 39s 105ms/step - loss: 0.0231 - accuracy: 0.9919 - val_loss: 0.6010 - val_accuracy: 0.9078\n",
            "Epoch 19/50\n",
            "375/375 [==============================] - 39s 103ms/step - loss: 0.0221 - accuracy: 0.9922 - val_loss: 0.6643 - val_accuracy: 0.9105\n",
            "Epoch 20/50\n",
            "375/375 [==============================] - 39s 104ms/step - loss: 0.0184 - accuracy: 0.9937 - val_loss: 0.6462 - val_accuracy: 0.9073\n",
            "Epoch 21/50\n",
            "375/375 [==============================] - 40s 107ms/step - loss: 0.0172 - accuracy: 0.9939 - val_loss: 0.7019 - val_accuracy: 0.9093\n",
            "Epoch 22/50\n",
            "375/375 [==============================] - 40s 107ms/step - loss: 0.0186 - accuracy: 0.9938 - val_loss: 0.6723 - val_accuracy: 0.9086\n",
            "Epoch 23/50\n",
            "375/375 [==============================] - 40s 107ms/step - loss: 0.0138 - accuracy: 0.9955 - val_loss: 0.6926 - val_accuracy: 0.9089\n",
            "Epoch 24/50\n",
            "375/375 [==============================] - 40s 107ms/step - loss: 0.0210 - accuracy: 0.9927 - val_loss: 0.6983 - val_accuracy: 0.9059\n",
            "Epoch 25/50\n",
            "375/375 [==============================] - 39s 105ms/step - loss: 0.0255 - accuracy: 0.9908 - val_loss: 0.6435 - val_accuracy: 0.9102\n",
            "Epoch 26/50\n",
            "375/375 [==============================] - 41s 109ms/step - loss: 0.0127 - accuracy: 0.9954 - val_loss: 0.7067 - val_accuracy: 0.9110\n",
            "Epoch 27/50\n",
            "375/375 [==============================] - 41s 109ms/step - loss: 0.0126 - accuracy: 0.9960 - val_loss: 0.6816 - val_accuracy: 0.9051\n",
            "Epoch 28/50\n",
            "375/375 [==============================] - 39s 105ms/step - loss: 0.0204 - accuracy: 0.9934 - val_loss: 0.6876 - val_accuracy: 0.9041\n",
            "Epoch 29/50\n",
            "375/375 [==============================] - 38s 102ms/step - loss: 0.0124 - accuracy: 0.9956 - val_loss: 0.7571 - val_accuracy: 0.9050\n",
            "Epoch 30/50\n",
            "375/375 [==============================] - 40s 105ms/step - loss: 0.0138 - accuracy: 0.9953 - val_loss: 0.7919 - val_accuracy: 0.9038\n",
            "Epoch 31/50\n",
            "375/375 [==============================] - 39s 105ms/step - loss: 0.0187 - accuracy: 0.9937 - val_loss: 0.7311 - val_accuracy: 0.9074\n",
            "Epoch 32/50\n",
            "375/375 [==============================] - 40s 106ms/step - loss: 0.0181 - accuracy: 0.9939 - val_loss: 0.7165 - val_accuracy: 0.9001\n",
            "Epoch 33/50\n",
            "375/375 [==============================] - 40s 106ms/step - loss: 0.0151 - accuracy: 0.9946 - val_loss: 0.7296 - val_accuracy: 0.9056\n",
            "Epoch 34/50\n",
            "375/375 [==============================] - 39s 105ms/step - loss: 0.0097 - accuracy: 0.9967 - val_loss: 0.8445 - val_accuracy: 0.9028\n",
            "Epoch 35/50\n",
            "375/375 [==============================] - 39s 105ms/step - loss: 0.0143 - accuracy: 0.9953 - val_loss: 0.7439 - val_accuracy: 0.9100\n",
            "Epoch 36/50\n",
            "375/375 [==============================] - 39s 103ms/step - loss: 0.0193 - accuracy: 0.9930 - val_loss: 0.8034 - val_accuracy: 0.9065\n",
            "Epoch 37/50\n",
            "375/375 [==============================] - 39s 105ms/step - loss: 0.0176 - accuracy: 0.9938 - val_loss: 0.7288 - val_accuracy: 0.9068\n",
            "Epoch 38/50\n",
            "375/375 [==============================] - 40s 106ms/step - loss: 0.0152 - accuracy: 0.9951 - val_loss: 0.7452 - val_accuracy: 0.9063\n",
            "Epoch 39/50\n",
            "375/375 [==============================] - 40s 106ms/step - loss: 0.0071 - accuracy: 0.9974 - val_loss: 0.8063 - val_accuracy: 0.9086\n",
            "Epoch 40/50\n",
            "375/375 [==============================] - 40s 107ms/step - loss: 0.0114 - accuracy: 0.9963 - val_loss: 0.8473 - val_accuracy: 0.9038\n",
            "Epoch 41/50\n",
            "375/375 [==============================] - 40s 106ms/step - loss: 0.0121 - accuracy: 0.9962 - val_loss: 0.8147 - val_accuracy: 0.9091\n",
            "Epoch 42/50\n",
            "375/375 [==============================] - 40s 106ms/step - loss: 0.0136 - accuracy: 0.9959 - val_loss: 0.7843 - val_accuracy: 0.9117\n",
            "Epoch 43/50\n",
            "375/375 [==============================] - 41s 110ms/step - loss: 0.0148 - accuracy: 0.9953 - val_loss: 0.7765 - val_accuracy: 0.9095\n",
            "Epoch 44/50\n",
            "375/375 [==============================] - 39s 105ms/step - loss: 0.0151 - accuracy: 0.9946 - val_loss: 0.7531 - val_accuracy: 0.9076\n",
            "Epoch 45/50\n",
            "375/375 [==============================] - 39s 103ms/step - loss: 0.0110 - accuracy: 0.9964 - val_loss: 0.8002 - val_accuracy: 0.9053\n",
            "Epoch 46/50\n",
            "375/375 [==============================] - 39s 103ms/step - loss: 0.0057 - accuracy: 0.9981 - val_loss: 0.8533 - val_accuracy: 0.9079\n",
            "Epoch 47/50\n",
            "375/375 [==============================] - 40s 106ms/step - loss: 0.0123 - accuracy: 0.9959 - val_loss: 0.8177 - val_accuracy: 0.9088\n",
            "Epoch 48/50\n",
            "375/375 [==============================] - 40s 106ms/step - loss: 0.0229 - accuracy: 0.9930 - val_loss: 0.8288 - val_accuracy: 0.9072\n",
            "Epoch 49/50\n",
            "375/375 [==============================] - 40s 106ms/step - loss: 0.0083 - accuracy: 0.9970 - val_loss: 0.8836 - val_accuracy: 0.9082\n",
            "Epoch 50/50\n",
            "375/375 [==============================] - 40s 106ms/step - loss: 0.0191 - accuracy: 0.9942 - val_loss: 0.8826 - val_accuracy: 0.9041\n"
          ]
        }
      ],
      "source": [
        "# Run the model with convolutions\n",
        "train_model = model.fit(X_train, y_train,\n",
        "                  batch_size=BATCH_SIZE,\n",
        "                  epochs=NO_EPOCHS,\n",
        "                  verbose=1,\n",
        "                  validation_data=(X_val, y_val))"
      ]
    },
    {
      "cell_type": "code",
      "source": [
        "# without convolution\n",
        "model_2 = Sequential()\n",
        "\n",
        "# Flatten the input image to a 1D array before feeding into Dense layers\n",
        "model_2.add(Flatten(input_shape=(IMG_ROWS, IMG_COLS, 1)))\n",
        "model_2.add(Dense(256, activation='relu'))\n",
        "model_2.add(Dense(128, activation='relu'))\n",
        "model_2.add(Dense(64, activation='relu'))\n",
        "model_2.add(Dense(NUM_CLASSES, activation='softmax'))\n",
        "\n",
        "model_2.compile(loss=categorical_crossentropy,\n",
        "              optimizer=Adam(),\n",
        "              metrics=['accuracy'])\n",
        "\n",
        "model_2.save('fashion_model2_mnist.h5')"
      ],
      "metadata": {
        "id": "UKZLLiHyxuIp"
      },
      "execution_count": 34,
      "outputs": []
    },
    {
      "cell_type": "code",
      "source": [
        "model_2.summary()"
      ],
      "metadata": {
        "colab": {
          "base_uri": "https://localhost:8080/"
        },
        "id": "KRmx4SqZ4M1i",
        "outputId": "9b974824-4e6a-4e1e-a88c-3fc967210b80"
      },
      "execution_count": 35,
      "outputs": [
        {
          "output_type": "stream",
          "name": "stdout",
          "text": [
            "Model: \"sequential_16\"\n",
            "_________________________________________________________________\n",
            " Layer (type)                Output Shape              Param #   \n",
            "=================================================================\n",
            " flatten_16 (Flatten)        (None, 784)               0         \n",
            "                                                                 \n",
            " dense_36 (Dense)            (None, 256)               200960    \n",
            "                                                                 \n",
            " dense_37 (Dense)            (None, 128)               32896     \n",
            "                                                                 \n",
            " dense_38 (Dense)            (None, 64)                8256      \n",
            "                                                                 \n",
            " dense_39 (Dense)            (None, 10)                650       \n",
            "                                                                 \n",
            "=================================================================\n",
            "Total params: 242762 (948.29 KB)\n",
            "Trainable params: 242762 (948.29 KB)\n",
            "Non-trainable params: 0 (0.00 Byte)\n",
            "_________________________________________________________________\n"
          ]
        }
      ]
    },
    {
      "cell_type": "code",
      "source": [
        "# Without Convolutions\n",
        "train_model2 = model_2.fit(X_train, y_train,\n",
        "                  batch_size=BATCH_SIZE,\n",
        "                  epochs=NO_EPOCHS,\n",
        "                  verbose=1,\n",
        "                  validation_data=(X_val, y_val))"
      ],
      "metadata": {
        "colab": {
          "base_uri": "https://localhost:8080/"
        },
        "id": "iJfp6b7R4YlU",
        "outputId": "08b6d402-0067-4cc8-9df2-4f448ca992b7"
      },
      "execution_count": 36,
      "outputs": [
        {
          "output_type": "stream",
          "name": "stdout",
          "text": [
            "Epoch 1/50\n",
            "375/375 [==============================] - 5s 9ms/step - loss: 0.5448 - accuracy: 0.8076 - val_loss: 0.4107 - val_accuracy: 0.8529\n",
            "Epoch 2/50\n",
            "375/375 [==============================] - 3s 7ms/step - loss: 0.3856 - accuracy: 0.8618 - val_loss: 0.3782 - val_accuracy: 0.8573\n",
            "Epoch 3/50\n",
            "375/375 [==============================] - 3s 7ms/step - loss: 0.3503 - accuracy: 0.8733 - val_loss: 0.3401 - val_accuracy: 0.8779\n",
            "Epoch 4/50\n",
            "375/375 [==============================] - 3s 9ms/step - loss: 0.3192 - accuracy: 0.8824 - val_loss: 0.3348 - val_accuracy: 0.8799\n",
            "Epoch 5/50\n",
            "375/375 [==============================] - 4s 11ms/step - loss: 0.3002 - accuracy: 0.8895 - val_loss: 0.3291 - val_accuracy: 0.8798\n",
            "Epoch 6/50\n",
            "375/375 [==============================] - 4s 11ms/step - loss: 0.2843 - accuracy: 0.8941 - val_loss: 0.3357 - val_accuracy: 0.8777\n",
            "Epoch 7/50\n",
            "375/375 [==============================] - 4s 12ms/step - loss: 0.2738 - accuracy: 0.8987 - val_loss: 0.3194 - val_accuracy: 0.8846\n",
            "Epoch 8/50\n",
            "375/375 [==============================] - 7s 18ms/step - loss: 0.2583 - accuracy: 0.9028 - val_loss: 0.3325 - val_accuracy: 0.8810\n",
            "Epoch 9/50\n",
            "375/375 [==============================] - 4s 11ms/step - loss: 0.2494 - accuracy: 0.9070 - val_loss: 0.3086 - val_accuracy: 0.8938\n",
            "Epoch 10/50\n",
            "375/375 [==============================] - 5s 13ms/step - loss: 0.2367 - accuracy: 0.9117 - val_loss: 0.3019 - val_accuracy: 0.8919\n",
            "Epoch 11/50\n",
            "375/375 [==============================] - 5s 12ms/step - loss: 0.2272 - accuracy: 0.9146 - val_loss: 0.3214 - val_accuracy: 0.8881\n",
            "Epoch 12/50\n",
            "375/375 [==============================] - 3s 7ms/step - loss: 0.2193 - accuracy: 0.9170 - val_loss: 0.3028 - val_accuracy: 0.8933\n",
            "Epoch 13/50\n",
            "375/375 [==============================] - 3s 7ms/step - loss: 0.2119 - accuracy: 0.9203 - val_loss: 0.3137 - val_accuracy: 0.8921\n",
            "Epoch 14/50\n",
            "375/375 [==============================] - 3s 7ms/step - loss: 0.2066 - accuracy: 0.9225 - val_loss: 0.3285 - val_accuracy: 0.8883\n",
            "Epoch 15/50\n",
            "375/375 [==============================] - 4s 11ms/step - loss: 0.1981 - accuracy: 0.9243 - val_loss: 0.3209 - val_accuracy: 0.8895\n",
            "Epoch 16/50\n",
            "375/375 [==============================] - 3s 7ms/step - loss: 0.1896 - accuracy: 0.9275 - val_loss: 0.3253 - val_accuracy: 0.8920\n",
            "Epoch 17/50\n",
            "375/375 [==============================] - 3s 7ms/step - loss: 0.1826 - accuracy: 0.9304 - val_loss: 0.3204 - val_accuracy: 0.8950\n",
            "Epoch 18/50\n",
            "375/375 [==============================] - 3s 7ms/step - loss: 0.1769 - accuracy: 0.9326 - val_loss: 0.3356 - val_accuracy: 0.8881\n",
            "Epoch 19/50\n",
            "375/375 [==============================] - 5s 14ms/step - loss: 0.1717 - accuracy: 0.9346 - val_loss: 0.3280 - val_accuracy: 0.8958\n",
            "Epoch 20/50\n",
            "375/375 [==============================] - 3s 9ms/step - loss: 0.1697 - accuracy: 0.9352 - val_loss: 0.3398 - val_accuracy: 0.8939\n",
            "Epoch 21/50\n",
            "375/375 [==============================] - 3s 7ms/step - loss: 0.1604 - accuracy: 0.9386 - val_loss: 0.4008 - val_accuracy: 0.8907\n",
            "Epoch 22/50\n",
            "375/375 [==============================] - 3s 7ms/step - loss: 0.1581 - accuracy: 0.9399 - val_loss: 0.3361 - val_accuracy: 0.8970\n",
            "Epoch 23/50\n",
            "375/375 [==============================] - 4s 10ms/step - loss: 0.1482 - accuracy: 0.9424 - val_loss: 0.3545 - val_accuracy: 0.8949\n",
            "Epoch 24/50\n",
            "375/375 [==============================] - 3s 9ms/step - loss: 0.1482 - accuracy: 0.9433 - val_loss: 0.3471 - val_accuracy: 0.8956\n",
            "Epoch 25/50\n",
            "375/375 [==============================] - 3s 7ms/step - loss: 0.1377 - accuracy: 0.9477 - val_loss: 0.3854 - val_accuracy: 0.8891\n",
            "Epoch 26/50\n",
            "375/375 [==============================] - 3s 7ms/step - loss: 0.1390 - accuracy: 0.9460 - val_loss: 0.3486 - val_accuracy: 0.8978\n",
            "Epoch 27/50\n",
            "375/375 [==============================] - 3s 8ms/step - loss: 0.1327 - accuracy: 0.9495 - val_loss: 0.3673 - val_accuracy: 0.8953\n",
            "Epoch 28/50\n",
            "375/375 [==============================] - 4s 11ms/step - loss: 0.1275 - accuracy: 0.9514 - val_loss: 0.3684 - val_accuracy: 0.8977\n",
            "Epoch 29/50\n",
            "375/375 [==============================] - 3s 7ms/step - loss: 0.1312 - accuracy: 0.9500 - val_loss: 0.3993 - val_accuracy: 0.8907\n",
            "Epoch 30/50\n",
            "375/375 [==============================] - 3s 7ms/step - loss: 0.1196 - accuracy: 0.9539 - val_loss: 0.3943 - val_accuracy: 0.8989\n",
            "Epoch 31/50\n",
            "375/375 [==============================] - 3s 7ms/step - loss: 0.1200 - accuracy: 0.9533 - val_loss: 0.3817 - val_accuracy: 0.8973\n",
            "Epoch 32/50\n",
            "375/375 [==============================] - 4s 11ms/step - loss: 0.1140 - accuracy: 0.9565 - val_loss: 0.4217 - val_accuracy: 0.8982\n",
            "Epoch 33/50\n",
            "375/375 [==============================] - 3s 7ms/step - loss: 0.1098 - accuracy: 0.9583 - val_loss: 0.4225 - val_accuracy: 0.8962\n",
            "Epoch 34/50\n",
            "375/375 [==============================] - 3s 7ms/step - loss: 0.1090 - accuracy: 0.9588 - val_loss: 0.4105 - val_accuracy: 0.8928\n",
            "Epoch 35/50\n",
            "375/375 [==============================] - 3s 7ms/step - loss: 0.1068 - accuracy: 0.9594 - val_loss: 0.4083 - val_accuracy: 0.8979\n",
            "Epoch 36/50\n",
            "375/375 [==============================] - 4s 10ms/step - loss: 0.1023 - accuracy: 0.9614 - val_loss: 0.4367 - val_accuracy: 0.8968\n",
            "Epoch 37/50\n",
            "375/375 [==============================] - 3s 9ms/step - loss: 0.0964 - accuracy: 0.9635 - val_loss: 0.4259 - val_accuracy: 0.8952\n",
            "Epoch 38/50\n",
            "375/375 [==============================] - 3s 8ms/step - loss: 0.0975 - accuracy: 0.9624 - val_loss: 0.4275 - val_accuracy: 0.8963\n",
            "Epoch 39/50\n",
            "375/375 [==============================] - 3s 7ms/step - loss: 0.0937 - accuracy: 0.9654 - val_loss: 0.4687 - val_accuracy: 0.8890\n",
            "Epoch 40/50\n",
            "375/375 [==============================] - 3s 8ms/step - loss: 0.0919 - accuracy: 0.9645 - val_loss: 0.4658 - val_accuracy: 0.8903\n",
            "Epoch 41/50\n",
            "375/375 [==============================] - 4s 11ms/step - loss: 0.0859 - accuracy: 0.9666 - val_loss: 0.5094 - val_accuracy: 0.8923\n",
            "Epoch 42/50\n",
            "375/375 [==============================] - 3s 8ms/step - loss: 0.0898 - accuracy: 0.9652 - val_loss: 0.4777 - val_accuracy: 0.8953\n",
            "Epoch 43/50\n",
            "375/375 [==============================] - 3s 7ms/step - loss: 0.0855 - accuracy: 0.9668 - val_loss: 0.4929 - val_accuracy: 0.8987\n",
            "Epoch 44/50\n",
            "375/375 [==============================] - 3s 7ms/step - loss: 0.0791 - accuracy: 0.9700 - val_loss: 0.4687 - val_accuracy: 0.8947\n",
            "Epoch 45/50\n",
            "375/375 [==============================] - 4s 12ms/step - loss: 0.0848 - accuracy: 0.9682 - val_loss: 0.4824 - val_accuracy: 0.8967\n",
            "Epoch 46/50\n",
            "375/375 [==============================] - 3s 7ms/step - loss: 0.0791 - accuracy: 0.9702 - val_loss: 0.5134 - val_accuracy: 0.8967\n",
            "Epoch 47/50\n",
            "375/375 [==============================] - 3s 7ms/step - loss: 0.0737 - accuracy: 0.9715 - val_loss: 0.5121 - val_accuracy: 0.8973\n",
            "Epoch 48/50\n",
            "375/375 [==============================] - 3s 8ms/step - loss: 0.0770 - accuracy: 0.9709 - val_loss: 0.4905 - val_accuracy: 0.8961\n",
            "Epoch 49/50\n",
            "375/375 [==============================] - 4s 10ms/step - loss: 0.0731 - accuracy: 0.9727 - val_loss: 0.5128 - val_accuracy: 0.8972\n",
            "Epoch 50/50\n",
            "375/375 [==============================] - 3s 8ms/step - loss: 0.0684 - accuracy: 0.9728 - val_loss: 0.5485 - val_accuracy: 0.8966\n"
          ]
        }
      ]
    },
    {
      "cell_type": "markdown",
      "metadata": {
        "id": "KJ9OXp1TSaXn"
      },
      "source": [
        "# Task: Print out the Final Model Accuracy and plot the Loss curve"
      ]
    },
    {
      "cell_type": "markdown",
      "source": [
        "### Function to plot accuracy and loss"
      ],
      "metadata": {
        "id": "juEVcHbxtTCR"
      }
    },
    {
      "cell_type": "code",
      "execution_count": 41,
      "metadata": {
        "id": "fkihQBsaUxGh"
      },
      "outputs": [],
      "source": [
        "\n",
        "def create_trace(x,y,ylabel,color):\n",
        "        trace = go.Scatter(\n",
        "            x = x,y = y,\n",
        "            name=ylabel,\n",
        "            marker=dict(color=color),\n",
        "            mode = \"markers+lines\",\n",
        "            text=x\n",
        "        )\n",
        "        return trace\n",
        "\n",
        "def plot_accuracy_and_loss(train_model):\n",
        "    hist = train_model.history\n",
        "    acc = hist['accuracy']\n",
        "    val_acc = hist['val_accuracy']\n",
        "    loss = hist['loss']\n",
        "    val_loss = hist['val_loss']\n",
        "    epochs = list(range(1,len(acc)+1))\n",
        "\n",
        "    trace_ta = create_trace(epochs,acc,\"Training accuracy\", \"Green\")\n",
        "    trace_va = create_trace(epochs,val_acc,\"Validation accuracy\", \"Red\")\n",
        "    trace_tl = create_trace(epochs,loss,\"Training loss\", \"Blue\")\n",
        "    trace_vl = create_trace(epochs,val_loss,\"Validation loss\", \"Magenta\")\n",
        "\n",
        "    fig = tools.make_subplots(rows=1,cols=2, subplot_titles=('Training and validation accuracy',\n",
        "                                                             'Training and validation loss'))\n",
        "    fig.append_trace(trace_ta,1,1)\n",
        "    fig.append_trace(trace_va,1,1)\n",
        "    fig.append_trace(trace_tl,1,2)\n",
        "    fig.append_trace(trace_vl,1,2)\n",
        "    fig['layout']['xaxis'].update(title = 'Epoch')\n",
        "    fig['layout']['xaxis2'].update(title = 'Epoch')\n",
        "    fig['layout']['yaxis'].update(title = 'Accuracy', range=[0,1])\n",
        "    fig['layout']['yaxis2'].update(title = 'Loss', range=[0,1])\n",
        "\n",
        "\n",
        "    iplot(fig, filename='accuracy-loss')\n"
      ]
    },
    {
      "cell_type": "code",
      "execution_count": 37,
      "metadata": {
        "colab": {
          "base_uri": "https://localhost:8080/"
        },
        "id": "6O11JorTY3z-",
        "outputId": "d997b190-e725-4950-a586-ffc3fc5c0bbf"
      },
      "outputs": [
        {
          "output_type": "stream",
          "name": "stdout",
          "text": [
            "Test loss: 0.7870286703109741\n",
            "Test accuracy: 0.9114999771118164\n"
          ]
        }
      ],
      "source": [
        "# with convolutions\n",
        "score = model.evaluate(X_test, y_test, verbose=0)\n",
        "print('Test loss:', score[0])\n",
        "print('Test accuracy:', score[1])"
      ]
    },
    {
      "cell_type": "code",
      "source": [
        "# Without convolutions\n",
        "score = model_2.evaluate(X_test, y_test, verbose=0)\n",
        "print(\"Test loss: \", score[0])\n",
        "print(\"Test accuracy: \", score[1])"
      ],
      "metadata": {
        "colab": {
          "base_uri": "https://localhost:8080/"
        },
        "id": "KFw5TPiNY5L9",
        "outputId": "2a7c9c87-31f9-4e0e-c0b5-a7f1a08d0207"
      },
      "execution_count": 38,
      "outputs": [
        {
          "output_type": "stream",
          "name": "stdout",
          "text": [
            "Test loss:  0.525564968585968\n",
            "Test accuracy:  0.896399974822998\n"
          ]
        }
      ]
    },
    {
      "cell_type": "code",
      "source": [
        "# With convolutions\n",
        "plot_accuracy_and_loss(train_model)"
      ],
      "metadata": {
        "colab": {
          "base_uri": "https://localhost:8080/",
          "height": 542
        },
        "id": "WC-XkG6dtQm0",
        "outputId": "e99bcc00-af3c-416e-cfc7-c4148d61fd67"
      },
      "execution_count": 43,
      "outputs": [
        {
          "output_type": "display_data",
          "data": {
            "text/html": [
              "<html>\n",
              "<head><meta charset=\"utf-8\" /></head>\n",
              "<body>\n",
              "    <div>            <script src=\"https://cdnjs.cloudflare.com/ajax/libs/mathjax/2.7.5/MathJax.js?config=TeX-AMS-MML_SVG\"></script><script type=\"text/javascript\">if (window.MathJax && window.MathJax.Hub && window.MathJax.Hub.Config) {window.MathJax.Hub.Config({SVG: {font: \"STIX-Web\"}});}</script>                <script type=\"text/javascript\">window.PlotlyConfig = {MathJaxConfig: 'local'};</script>\n",
              "        <script charset=\"utf-8\" src=\"https://cdn.plot.ly/plotly-2.24.1.min.js\"></script>                <div id=\"4220febd-6063-4e35-8bba-8313dfdb0837\" class=\"plotly-graph-div\" style=\"height:525px; width:100%;\"></div>            <script type=\"text/javascript\">                                    window.PLOTLYENV=window.PLOTLYENV || {};                                    if (document.getElementById(\"4220febd-6063-4e35-8bba-8313dfdb0837\")) {                    Plotly.newPlot(                        \"4220febd-6063-4e35-8bba-8313dfdb0837\",                        [{\"marker\":{\"color\":\"Green\"},\"mode\":\"markers+lines\",\"name\":\"Training accuracy\",\"text\":[\"1\",\"2\",\"3\",\"4\",\"5\",\"6\",\"7\",\"8\",\"9\",\"10\",\"11\",\"12\",\"13\",\"14\",\"15\",\"16\",\"17\",\"18\",\"19\",\"20\",\"21\",\"22\",\"23\",\"24\",\"25\",\"26\",\"27\",\"28\",\"29\",\"30\",\"31\",\"32\",\"33\",\"34\",\"35\",\"36\",\"37\",\"38\",\"39\",\"40\",\"41\",\"42\",\"43\",\"44\",\"45\",\"46\",\"47\",\"48\",\"49\",\"50\"],\"x\":[1,2,3,4,5,6,7,8,9,10,11,12,13,14,15,16,17,18,19,20,21,22,23,24,25,26,27,28,29,30,31,32,33,34,35,36,37,38,39,40,41,42,43,44,45,46,47,48,49,50],\"xaxis\":\"x\",\"y\":[0.981333315372467,0.9836875200271606,0.98416668176651,0.9875208139419556,0.9854791760444641,0.9860000014305115,0.9892083406448364,0.9917708039283752,0.9911249876022339,0.9898750185966492,0.9881458282470703,0.9902291893959045,0.9932916760444641,0.9918333292007446,0.9917916655540466,0.9944166541099548,0.9941666722297668,0.991854190826416,0.9922083616256714,0.9936875104904175,0.9938750267028809,0.9937916398048401,0.9954583048820496,0.9927083253860474,0.9907916784286499,0.995395839214325,0.9959791898727417,0.9933958053588867,0.9956041574478149,0.995270848274231,0.9936666488647461,0.9938958287239075,0.9946249723434448,0.996749997138977,0.995270848274231,0.9930416941642761,0.9937916398048401,0.9950833320617676,0.9973541498184204,0.9962708353996277,0.9962083101272583,0.9958541393280029,0.995270848274231,0.9946249723434448,0.9964166879653931,0.9981041550636292,0.9959375262260437,0.9930208325386047,0.9969791769981384,0.9942291378974915],\"yaxis\":\"y\",\"type\":\"scatter\"},{\"marker\":{\"color\":\"Red\"},\"mode\":\"markers+lines\",\"name\":\"Validation accuracy\",\"text\":[\"1\",\"2\",\"3\",\"4\",\"5\",\"6\",\"7\",\"8\",\"9\",\"10\",\"11\",\"12\",\"13\",\"14\",\"15\",\"16\",\"17\",\"18\",\"19\",\"20\",\"21\",\"22\",\"23\",\"24\",\"25\",\"26\",\"27\",\"28\",\"29\",\"30\",\"31\",\"32\",\"33\",\"34\",\"35\",\"36\",\"37\",\"38\",\"39\",\"40\",\"41\",\"42\",\"43\",\"44\",\"45\",\"46\",\"47\",\"48\",\"49\",\"50\"],\"x\":[1,2,3,4,5,6,7,8,9,10,11,12,13,14,15,16,17,18,19,20,21,22,23,24,25,26,27,28,29,30,31,32,33,34,35,36,37,38,39,40,41,42,43,44,45,46,47,48,49,50],\"xaxis\":\"x\",\"y\":[0.9100833535194397,0.9067500233650208,0.9099166393280029,0.9102500081062317,0.9052500128746033,0.9086666703224182,0.9090833067893982,0.9070833325386047,0.9114999771118164,0.9082499742507935,0.9047499895095825,0.9079166650772095,0.9084166884422302,0.909500002861023,0.9045000076293945,0.9079166650772095,0.9103333353996277,0.9077500104904175,0.9104999899864197,0.9073333144187927,0.909333348274231,0.9085833430290222,0.9089166522026062,0.905916690826416,0.9101666808128357,0.9110000133514404,0.9050833582878113,0.9040833115577698,0.9049999713897705,0.9038333296775818,0.9074166417121887,0.9000833630561829,0.9055833220481873,0.9027500152587891,0.9100000262260437,0.906499981880188,0.9067500233650208,0.906333327293396,0.9085833430290222,0.9037500023841858,0.9090833067893982,0.9116666913032532,0.909500002861023,0.9075833559036255,0.9053333401679993,0.9079166650772095,0.9088333249092102,0.9071666598320007,0.9081666469573975,0.9040833115577698],\"yaxis\":\"y\",\"type\":\"scatter\"},{\"marker\":{\"color\":\"Blue\"},\"mode\":\"markers+lines\",\"name\":\"Training loss\",\"text\":[\"1\",\"2\",\"3\",\"4\",\"5\",\"6\",\"7\",\"8\",\"9\",\"10\",\"11\",\"12\",\"13\",\"14\",\"15\",\"16\",\"17\",\"18\",\"19\",\"20\",\"21\",\"22\",\"23\",\"24\",\"25\",\"26\",\"27\",\"28\",\"29\",\"30\",\"31\",\"32\",\"33\",\"34\",\"35\",\"36\",\"37\",\"38\",\"39\",\"40\",\"41\",\"42\",\"43\",\"44\",\"45\",\"46\",\"47\",\"48\",\"49\",\"50\"],\"x\":[1,2,3,4,5,6,7,8,9,10,11,12,13,14,15,16,17,18,19,20,21,22,23,24,25,26,27,28,29,30,31,32,33,34,35,36,37,38,39,40,41,42,43,44,45,46,47,48,49,50],\"xaxis\":\"x2\",\"y\":[0.04973564296960831,0.044416263699531555,0.042220037430524826,0.03444734588265419,0.037958454340696335,0.03847033530473709,0.030026454478502274,0.024151552468538284,0.023476259782910347,0.02836994081735611,0.03348403051495552,0.026747914031147957,0.019539758563041687,0.02354833297431469,0.024415601044893265,0.015376877039670944,0.01682218909263611,0.023114565759897232,0.022112078964710236,0.01839228719472885,0.01721539907157421,0.018634943291544914,0.01383267343044281,0.02097764052450657,0.025517219677567482,0.012714988552033901,0.012646595016121864,0.020428739488124847,0.012385967187583447,0.013805153779685497,0.01867561973631382,0.018086012452840805,0.01508576050400734,0.009706270880997181,0.014341229572892189,0.019272802397608757,0.017639117315411568,0.015197085216641426,0.007115254178643227,0.01137644425034523,0.012140837498009205,0.013625593855977058,0.014826655387878418,0.015079314820468426,0.011005078442394733,0.005744139198213816,0.01232600025832653,0.022898457944393158,0.008340700529515743,0.0191151425242424],\"yaxis\":\"y2\",\"type\":\"scatter\"},{\"marker\":{\"color\":\"Magenta\"},\"mode\":\"markers+lines\",\"name\":\"Validation loss\",\"text\":[\"1\",\"2\",\"3\",\"4\",\"5\",\"6\",\"7\",\"8\",\"9\",\"10\",\"11\",\"12\",\"13\",\"14\",\"15\",\"16\",\"17\",\"18\",\"19\",\"20\",\"21\",\"22\",\"23\",\"24\",\"25\",\"26\",\"27\",\"28\",\"29\",\"30\",\"31\",\"32\",\"33\",\"34\",\"35\",\"36\",\"37\",\"38\",\"39\",\"40\",\"41\",\"42\",\"43\",\"44\",\"45\",\"46\",\"47\",\"48\",\"49\",\"50\"],\"x\":[1,2,3,4,5,6,7,8,9,10,11,12,13,14,15,16,17,18,19,20,21,22,23,24,25,26,27,28,29,30,31,32,33,34,35,36,37,38,39,40,41,42,43,44,45,46,47,48,49,50],\"xaxis\":\"x2\",\"y\":[0.39890116453170776,0.438070148229599,0.4156264364719391,0.4400559961795807,0.5074644088745117,0.49358588457107544,0.4923481047153473,0.5427921414375305,0.5531055331230164,0.5555225610733032,0.5527825951576233,0.5825904607772827,0.5599337816238403,0.5866296291351318,0.6136704683303833,0.6531592011451721,0.6456104516983032,0.6009544730186462,0.6643436551094055,0.6461891531944275,0.7019127607345581,0.6723368167877197,0.6925529837608337,0.6982893347740173,0.6435142755508423,0.7067131400108337,0.6816437840461731,0.6875971555709839,0.7571101784706116,0.79193115234375,0.7311301231384277,0.7164814472198486,0.7295680046081543,0.8445457220077515,0.74393630027771,0.8034135699272156,0.728810727596283,0.7452260851860046,0.8062881827354431,0.8473063707351685,0.814698338508606,0.7843202948570251,0.776528000831604,0.7531366944313049,0.8001737594604492,0.8533127307891846,0.8176683783531189,0.8288446664810181,0.8836342692375183,0.8826176524162292],\"yaxis\":\"y2\",\"type\":\"scatter\"}],                        {\"annotations\":[{\"font\":{\"size\":16},\"showarrow\":false,\"text\":\"Training and validation accuracy\",\"x\":0.225,\"xanchor\":\"center\",\"xref\":\"paper\",\"y\":1.0,\"yanchor\":\"bottom\",\"yref\":\"paper\"},{\"font\":{\"size\":16},\"showarrow\":false,\"text\":\"Training and validation loss\",\"x\":0.775,\"xanchor\":\"center\",\"xref\":\"paper\",\"y\":1.0,\"yanchor\":\"bottom\",\"yref\":\"paper\"}],\"template\":{\"data\":{\"barpolar\":[{\"marker\":{\"line\":{\"color\":\"#E5ECF6\",\"width\":0.5},\"pattern\":{\"fillmode\":\"overlay\",\"size\":10,\"solidity\":0.2}},\"type\":\"barpolar\"}],\"bar\":[{\"error_x\":{\"color\":\"#2a3f5f\"},\"error_y\":{\"color\":\"#2a3f5f\"},\"marker\":{\"line\":{\"color\":\"#E5ECF6\",\"width\":0.5},\"pattern\":{\"fillmode\":\"overlay\",\"size\":10,\"solidity\":0.2}},\"type\":\"bar\"}],\"carpet\":[{\"aaxis\":{\"endlinecolor\":\"#2a3f5f\",\"gridcolor\":\"white\",\"linecolor\":\"white\",\"minorgridcolor\":\"white\",\"startlinecolor\":\"#2a3f5f\"},\"baxis\":{\"endlinecolor\":\"#2a3f5f\",\"gridcolor\":\"white\",\"linecolor\":\"white\",\"minorgridcolor\":\"white\",\"startlinecolor\":\"#2a3f5f\"},\"type\":\"carpet\"}],\"choropleth\":[{\"colorbar\":{\"outlinewidth\":0,\"ticks\":\"\"},\"type\":\"choropleth\"}],\"contourcarpet\":[{\"colorbar\":{\"outlinewidth\":0,\"ticks\":\"\"},\"type\":\"contourcarpet\"}],\"contour\":[{\"colorbar\":{\"outlinewidth\":0,\"ticks\":\"\"},\"colorscale\":[[0.0,\"#0d0887\"],[0.1111111111111111,\"#46039f\"],[0.2222222222222222,\"#7201a8\"],[0.3333333333333333,\"#9c179e\"],[0.4444444444444444,\"#bd3786\"],[0.5555555555555556,\"#d8576b\"],[0.6666666666666666,\"#ed7953\"],[0.7777777777777778,\"#fb9f3a\"],[0.8888888888888888,\"#fdca26\"],[1.0,\"#f0f921\"]],\"type\":\"contour\"}],\"heatmapgl\":[{\"colorbar\":{\"outlinewidth\":0,\"ticks\":\"\"},\"colorscale\":[[0.0,\"#0d0887\"],[0.1111111111111111,\"#46039f\"],[0.2222222222222222,\"#7201a8\"],[0.3333333333333333,\"#9c179e\"],[0.4444444444444444,\"#bd3786\"],[0.5555555555555556,\"#d8576b\"],[0.6666666666666666,\"#ed7953\"],[0.7777777777777778,\"#fb9f3a\"],[0.8888888888888888,\"#fdca26\"],[1.0,\"#f0f921\"]],\"type\":\"heatmapgl\"}],\"heatmap\":[{\"colorbar\":{\"outlinewidth\":0,\"ticks\":\"\"},\"colorscale\":[[0.0,\"#0d0887\"],[0.1111111111111111,\"#46039f\"],[0.2222222222222222,\"#7201a8\"],[0.3333333333333333,\"#9c179e\"],[0.4444444444444444,\"#bd3786\"],[0.5555555555555556,\"#d8576b\"],[0.6666666666666666,\"#ed7953\"],[0.7777777777777778,\"#fb9f3a\"],[0.8888888888888888,\"#fdca26\"],[1.0,\"#f0f921\"]],\"type\":\"heatmap\"}],\"histogram2dcontour\":[{\"colorbar\":{\"outlinewidth\":0,\"ticks\":\"\"},\"colorscale\":[[0.0,\"#0d0887\"],[0.1111111111111111,\"#46039f\"],[0.2222222222222222,\"#7201a8\"],[0.3333333333333333,\"#9c179e\"],[0.4444444444444444,\"#bd3786\"],[0.5555555555555556,\"#d8576b\"],[0.6666666666666666,\"#ed7953\"],[0.7777777777777778,\"#fb9f3a\"],[0.8888888888888888,\"#fdca26\"],[1.0,\"#f0f921\"]],\"type\":\"histogram2dcontour\"}],\"histogram2d\":[{\"colorbar\":{\"outlinewidth\":0,\"ticks\":\"\"},\"colorscale\":[[0.0,\"#0d0887\"],[0.1111111111111111,\"#46039f\"],[0.2222222222222222,\"#7201a8\"],[0.3333333333333333,\"#9c179e\"],[0.4444444444444444,\"#bd3786\"],[0.5555555555555556,\"#d8576b\"],[0.6666666666666666,\"#ed7953\"],[0.7777777777777778,\"#fb9f3a\"],[0.8888888888888888,\"#fdca26\"],[1.0,\"#f0f921\"]],\"type\":\"histogram2d\"}],\"histogram\":[{\"marker\":{\"pattern\":{\"fillmode\":\"overlay\",\"size\":10,\"solidity\":0.2}},\"type\":\"histogram\"}],\"mesh3d\":[{\"colorbar\":{\"outlinewidth\":0,\"ticks\":\"\"},\"type\":\"mesh3d\"}],\"parcoords\":[{\"line\":{\"colorbar\":{\"outlinewidth\":0,\"ticks\":\"\"}},\"type\":\"parcoords\"}],\"pie\":[{\"automargin\":true,\"type\":\"pie\"}],\"scatter3d\":[{\"line\":{\"colorbar\":{\"outlinewidth\":0,\"ticks\":\"\"}},\"marker\":{\"colorbar\":{\"outlinewidth\":0,\"ticks\":\"\"}},\"type\":\"scatter3d\"}],\"scattercarpet\":[{\"marker\":{\"colorbar\":{\"outlinewidth\":0,\"ticks\":\"\"}},\"type\":\"scattercarpet\"}],\"scattergeo\":[{\"marker\":{\"colorbar\":{\"outlinewidth\":0,\"ticks\":\"\"}},\"type\":\"scattergeo\"}],\"scattergl\":[{\"marker\":{\"colorbar\":{\"outlinewidth\":0,\"ticks\":\"\"}},\"type\":\"scattergl\"}],\"scattermapbox\":[{\"marker\":{\"colorbar\":{\"outlinewidth\":0,\"ticks\":\"\"}},\"type\":\"scattermapbox\"}],\"scatterpolargl\":[{\"marker\":{\"colorbar\":{\"outlinewidth\":0,\"ticks\":\"\"}},\"type\":\"scatterpolargl\"}],\"scatterpolar\":[{\"marker\":{\"colorbar\":{\"outlinewidth\":0,\"ticks\":\"\"}},\"type\":\"scatterpolar\"}],\"scatter\":[{\"fillpattern\":{\"fillmode\":\"overlay\",\"size\":10,\"solidity\":0.2},\"type\":\"scatter\"}],\"scatterternary\":[{\"marker\":{\"colorbar\":{\"outlinewidth\":0,\"ticks\":\"\"}},\"type\":\"scatterternary\"}],\"surface\":[{\"colorbar\":{\"outlinewidth\":0,\"ticks\":\"\"},\"colorscale\":[[0.0,\"#0d0887\"],[0.1111111111111111,\"#46039f\"],[0.2222222222222222,\"#7201a8\"],[0.3333333333333333,\"#9c179e\"],[0.4444444444444444,\"#bd3786\"],[0.5555555555555556,\"#d8576b\"],[0.6666666666666666,\"#ed7953\"],[0.7777777777777778,\"#fb9f3a\"],[0.8888888888888888,\"#fdca26\"],[1.0,\"#f0f921\"]],\"type\":\"surface\"}],\"table\":[{\"cells\":{\"fill\":{\"color\":\"#EBF0F8\"},\"line\":{\"color\":\"white\"}},\"header\":{\"fill\":{\"color\":\"#C8D4E3\"},\"line\":{\"color\":\"white\"}},\"type\":\"table\"}]},\"layout\":{\"annotationdefaults\":{\"arrowcolor\":\"#2a3f5f\",\"arrowhead\":0,\"arrowwidth\":1},\"autotypenumbers\":\"strict\",\"coloraxis\":{\"colorbar\":{\"outlinewidth\":0,\"ticks\":\"\"}},\"colorscale\":{\"diverging\":[[0,\"#8e0152\"],[0.1,\"#c51b7d\"],[0.2,\"#de77ae\"],[0.3,\"#f1b6da\"],[0.4,\"#fde0ef\"],[0.5,\"#f7f7f7\"],[0.6,\"#e6f5d0\"],[0.7,\"#b8e186\"],[0.8,\"#7fbc41\"],[0.9,\"#4d9221\"],[1,\"#276419\"]],\"sequential\":[[0.0,\"#0d0887\"],[0.1111111111111111,\"#46039f\"],[0.2222222222222222,\"#7201a8\"],[0.3333333333333333,\"#9c179e\"],[0.4444444444444444,\"#bd3786\"],[0.5555555555555556,\"#d8576b\"],[0.6666666666666666,\"#ed7953\"],[0.7777777777777778,\"#fb9f3a\"],[0.8888888888888888,\"#fdca26\"],[1.0,\"#f0f921\"]],\"sequentialminus\":[[0.0,\"#0d0887\"],[0.1111111111111111,\"#46039f\"],[0.2222222222222222,\"#7201a8\"],[0.3333333333333333,\"#9c179e\"],[0.4444444444444444,\"#bd3786\"],[0.5555555555555556,\"#d8576b\"],[0.6666666666666666,\"#ed7953\"],[0.7777777777777778,\"#fb9f3a\"],[0.8888888888888888,\"#fdca26\"],[1.0,\"#f0f921\"]]},\"colorway\":[\"#636efa\",\"#EF553B\",\"#00cc96\",\"#ab63fa\",\"#FFA15A\",\"#19d3f3\",\"#FF6692\",\"#B6E880\",\"#FF97FF\",\"#FECB52\"],\"font\":{\"color\":\"#2a3f5f\"},\"geo\":{\"bgcolor\":\"white\",\"lakecolor\":\"white\",\"landcolor\":\"#E5ECF6\",\"showlakes\":true,\"showland\":true,\"subunitcolor\":\"white\"},\"hoverlabel\":{\"align\":\"left\"},\"hovermode\":\"closest\",\"mapbox\":{\"style\":\"light\"},\"paper_bgcolor\":\"white\",\"plot_bgcolor\":\"#E5ECF6\",\"polar\":{\"angularaxis\":{\"gridcolor\":\"white\",\"linecolor\":\"white\",\"ticks\":\"\"},\"bgcolor\":\"#E5ECF6\",\"radialaxis\":{\"gridcolor\":\"white\",\"linecolor\":\"white\",\"ticks\":\"\"}},\"scene\":{\"xaxis\":{\"backgroundcolor\":\"#E5ECF6\",\"gridcolor\":\"white\",\"gridwidth\":2,\"linecolor\":\"white\",\"showbackground\":true,\"ticks\":\"\",\"zerolinecolor\":\"white\"},\"yaxis\":{\"backgroundcolor\":\"#E5ECF6\",\"gridcolor\":\"white\",\"gridwidth\":2,\"linecolor\":\"white\",\"showbackground\":true,\"ticks\":\"\",\"zerolinecolor\":\"white\"},\"zaxis\":{\"backgroundcolor\":\"#E5ECF6\",\"gridcolor\":\"white\",\"gridwidth\":2,\"linecolor\":\"white\",\"showbackground\":true,\"ticks\":\"\",\"zerolinecolor\":\"white\"}},\"shapedefaults\":{\"line\":{\"color\":\"#2a3f5f\"}},\"ternary\":{\"aaxis\":{\"gridcolor\":\"white\",\"linecolor\":\"white\",\"ticks\":\"\"},\"baxis\":{\"gridcolor\":\"white\",\"linecolor\":\"white\",\"ticks\":\"\"},\"bgcolor\":\"#E5ECF6\",\"caxis\":{\"gridcolor\":\"white\",\"linecolor\":\"white\",\"ticks\":\"\"}},\"title\":{\"x\":0.05},\"xaxis\":{\"automargin\":true,\"gridcolor\":\"white\",\"linecolor\":\"white\",\"ticks\":\"\",\"title\":{\"standoff\":15},\"zerolinecolor\":\"white\",\"zerolinewidth\":2},\"yaxis\":{\"automargin\":true,\"gridcolor\":\"white\",\"linecolor\":\"white\",\"ticks\":\"\",\"title\":{\"standoff\":15},\"zerolinecolor\":\"white\",\"zerolinewidth\":2}}},\"xaxis\":{\"anchor\":\"y\",\"domain\":[0.0,0.45],\"title\":{\"text\":\"Epoch\"}},\"yaxis\":{\"anchor\":\"x\",\"domain\":[0.0,1.0],\"range\":[0,1],\"title\":{\"text\":\"Accuracy\"}},\"xaxis2\":{\"anchor\":\"y2\",\"domain\":[0.55,1.0],\"title\":{\"text\":\"Epoch\"}},\"yaxis2\":{\"anchor\":\"x2\",\"domain\":[0.0,1.0],\"range\":[0,1],\"title\":{\"text\":\"Loss\"}}},                        {\"responsive\": true}                    ).then(function(){\n",
              "                            \n",
              "var gd = document.getElementById('4220febd-6063-4e35-8bba-8313dfdb0837');\n",
              "var x = new MutationObserver(function (mutations, observer) {{\n",
              "        var display = window.getComputedStyle(gd).display;\n",
              "        if (!display || display === 'none') {{\n",
              "            console.log([gd, 'removed!']);\n",
              "            Plotly.purge(gd);\n",
              "            observer.disconnect();\n",
              "        }}\n",
              "}});\n",
              "\n",
              "// Listen for the removal of the full notebook cells\n",
              "var notebookContainer = gd.closest('#notebook-container');\n",
              "if (notebookContainer) {{\n",
              "    x.observe(notebookContainer, {childList: true});\n",
              "}}\n",
              "\n",
              "// Listen for the clearing of the current output cell\n",
              "var outputEl = gd.closest('.output');\n",
              "if (outputEl) {{\n",
              "    x.observe(outputEl, {childList: true});\n",
              "}}\n",
              "\n",
              "                        })                };                            </script>        </div>\n",
              "</body>\n",
              "</html>"
            ]
          },
          "metadata": {}
        }
      ]
    },
    {
      "cell_type": "code",
      "source": [
        "# Without covolutions\n",
        "plot_accuracy_and_loss(train_model2)"
      ],
      "metadata": {
        "colab": {
          "base_uri": "https://localhost:8080/",
          "height": 542
        },
        "id": "D8ROBrF8ZiZX",
        "outputId": "c1ca50c3-0cf2-4a2e-eee3-ef2f386214fd"
      },
      "execution_count": 40,
      "outputs": [
        {
          "output_type": "display_data",
          "data": {
            "text/html": [
              "<html>\n",
              "<head><meta charset=\"utf-8\" /></head>\n",
              "<body>\n",
              "    <div>            <script src=\"https://cdnjs.cloudflare.com/ajax/libs/mathjax/2.7.5/MathJax.js?config=TeX-AMS-MML_SVG\"></script><script type=\"text/javascript\">if (window.MathJax && window.MathJax.Hub && window.MathJax.Hub.Config) {window.MathJax.Hub.Config({SVG: {font: \"STIX-Web\"}});}</script>                <script type=\"text/javascript\">window.PlotlyConfig = {MathJaxConfig: 'local'};</script>\n",
              "        <script charset=\"utf-8\" src=\"https://cdn.plot.ly/plotly-2.24.1.min.js\"></script>                <div id=\"f27c51e3-f026-4f31-8d6e-705e15ad2036\" class=\"plotly-graph-div\" style=\"height:525px; width:100%;\"></div>            <script type=\"text/javascript\">                                    window.PLOTLYENV=window.PLOTLYENV || {};                                    if (document.getElementById(\"f27c51e3-f026-4f31-8d6e-705e15ad2036\")) {                    Plotly.newPlot(                        \"f27c51e3-f026-4f31-8d6e-705e15ad2036\",                        [{\"marker\":{\"color\":\"Green\"},\"mode\":\"markers+lines\",\"name\":\"Training accuracy\",\"text\":[\"1\",\"2\",\"3\",\"4\",\"5\",\"6\",\"7\",\"8\",\"9\",\"10\",\"11\",\"12\",\"13\",\"14\",\"15\",\"16\",\"17\",\"18\",\"19\",\"20\",\"21\",\"22\",\"23\",\"24\",\"25\",\"26\",\"27\",\"28\",\"29\",\"30\",\"31\",\"32\",\"33\",\"34\",\"35\",\"36\",\"37\",\"38\",\"39\",\"40\",\"41\",\"42\",\"43\",\"44\",\"45\",\"46\",\"47\",\"48\",\"49\",\"50\"],\"x\":[1,2,3,4,5,6,7,8,9,10,11,12,13,14,15,16,17,18,19,20,21,22,23,24,25,26,27,28,29,30,31,32,33,34,35,36,37,38,39,40,41,42,43,44,45,46,47,48,49,50],\"xaxis\":\"x\",\"y\":[0.807645857334137,0.8618124723434448,0.8733124732971191,0.882437527179718,0.8895000219345093,0.8941041827201843,0.898729145526886,0.9028333425521851,0.9070208072662354,0.9117291569709778,0.9146041870117188,0.9170416593551636,0.9203125238418579,0.9224791526794434,0.9242500066757202,0.9275416731834412,0.9303958415985107,0.9326249957084656,0.934583306312561,0.9352499842643738,0.9386249780654907,0.9398958086967468,0.9423750042915344,0.9433333277702332,0.9477083086967468,0.9460208415985107,0.9494583606719971,0.9513958096504211,0.950041651725769,0.9539374709129333,0.95333331823349,0.956458330154419,0.9583333134651184,0.9587708115577698,0.9593541622161865,0.9614166617393494,0.9634791612625122,0.9623958468437195,0.9654374718666077,0.9644791483879089,0.9666041731834412,0.9652083516120911,0.9667500257492065,0.9700208306312561,0.9681666493415833,0.9702083468437195,0.9714999794960022,0.9709374904632568,0.9727083444595337,0.9727916717529297],\"yaxis\":\"y\",\"type\":\"scatter\"},{\"marker\":{\"color\":\"Red\"},\"mode\":\"markers+lines\",\"name\":\"Validation accuracy\",\"text\":[\"1\",\"2\",\"3\",\"4\",\"5\",\"6\",\"7\",\"8\",\"9\",\"10\",\"11\",\"12\",\"13\",\"14\",\"15\",\"16\",\"17\",\"18\",\"19\",\"20\",\"21\",\"22\",\"23\",\"24\",\"25\",\"26\",\"27\",\"28\",\"29\",\"30\",\"31\",\"32\",\"33\",\"34\",\"35\",\"36\",\"37\",\"38\",\"39\",\"40\",\"41\",\"42\",\"43\",\"44\",\"45\",\"46\",\"47\",\"48\",\"49\",\"50\"],\"x\":[1,2,3,4,5,6,7,8,9,10,11,12,13,14,15,16,17,18,19,20,21,22,23,24,25,26,27,28,29,30,31,32,33,34,35,36,37,38,39,40,41,42,43,44,45,46,47,48,49,50],\"xaxis\":\"x\",\"y\":[0.8529166579246521,0.8573333621025085,0.877916693687439,0.8799166679382324,0.8797500133514404,0.8776666522026062,0.8845833539962769,0.8809999823570251,0.893750011920929,0.8919166922569275,0.8880833387374878,0.8933333158493042,0.8920833468437195,0.8883333206176758,0.8895000219345093,0.8920000195503235,0.8949999809265137,0.8880833387374878,0.8958333134651184,0.893916666507721,0.890666663646698,0.8970000147819519,0.8949166536331177,0.8955833315849304,0.8890833258628845,0.8977500200271606,0.8953333497047424,0.8976666927337646,0.890749990940094,0.8989166617393494,0.8973333239555359,0.8981666564941406,0.8961666822433472,0.8928333520889282,0.8979166746139526,0.8968333601951599,0.8951666951179504,0.8962500095367432,0.8889999985694885,0.890333354473114,0.8922500014305115,0.8953333497047424,0.8986666798591614,0.8947499990463257,0.8966666460037231,0.8966666460037231,0.8973333239555359,0.8960833549499512,0.8971666693687439,0.8965833187103271],\"yaxis\":\"y\",\"type\":\"scatter\"},{\"marker\":{\"color\":\"Blue\"},\"mode\":\"markers+lines\",\"name\":\"Training loss\",\"text\":[\"1\",\"2\",\"3\",\"4\",\"5\",\"6\",\"7\",\"8\",\"9\",\"10\",\"11\",\"12\",\"13\",\"14\",\"15\",\"16\",\"17\",\"18\",\"19\",\"20\",\"21\",\"22\",\"23\",\"24\",\"25\",\"26\",\"27\",\"28\",\"29\",\"30\",\"31\",\"32\",\"33\",\"34\",\"35\",\"36\",\"37\",\"38\",\"39\",\"40\",\"41\",\"42\",\"43\",\"44\",\"45\",\"46\",\"47\",\"48\",\"49\",\"50\"],\"x\":[1,2,3,4,5,6,7,8,9,10,11,12,13,14,15,16,17,18,19,20,21,22,23,24,25,26,27,28,29,30,31,32,33,34,35,36,37,38,39,40,41,42,43,44,45,46,47,48,49,50],\"xaxis\":\"x2\",\"y\":[0.5448096394538879,0.3855907917022705,0.3503144085407257,0.3191586434841156,0.30019548535346985,0.2843192517757416,0.2737827003002167,0.2583216428756714,0.2493707835674286,0.2367166131734848,0.2272108942270279,0.21930667757987976,0.21189215779304504,0.20658300817012787,0.19810619950294495,0.18963907659053802,0.18262788653373718,0.17692208290100098,0.17173205316066742,0.1697266399860382,0.16040244698524475,0.1581379771232605,0.14815190434455872,0.14819489419460297,0.1377149224281311,0.13904555141925812,0.13267970085144043,0.12750613689422607,0.13121463358402252,0.11955088376998901,0.11995058506727219,0.11396770179271698,0.10979285836219788,0.10904032737016678,0.10675451904535294,0.10232089459896088,0.09640178084373474,0.0974869579076767,0.09366229921579361,0.09189461916685104,0.08592912554740906,0.08984538912773132,0.08547650277614594,0.0790938138961792,0.08480831235647202,0.07911472022533417,0.07366522401571274,0.07704480737447739,0.07313334196805954,0.06840939819812775],\"yaxis\":\"y2\",\"type\":\"scatter\"},{\"marker\":{\"color\":\"Magenta\"},\"mode\":\"markers+lines\",\"name\":\"Validation loss\",\"text\":[\"1\",\"2\",\"3\",\"4\",\"5\",\"6\",\"7\",\"8\",\"9\",\"10\",\"11\",\"12\",\"13\",\"14\",\"15\",\"16\",\"17\",\"18\",\"19\",\"20\",\"21\",\"22\",\"23\",\"24\",\"25\",\"26\",\"27\",\"28\",\"29\",\"30\",\"31\",\"32\",\"33\",\"34\",\"35\",\"36\",\"37\",\"38\",\"39\",\"40\",\"41\",\"42\",\"43\",\"44\",\"45\",\"46\",\"47\",\"48\",\"49\",\"50\"],\"x\":[1,2,3,4,5,6,7,8,9,10,11,12,13,14,15,16,17,18,19,20,21,22,23,24,25,26,27,28,29,30,31,32,33,34,35,36,37,38,39,40,41,42,43,44,45,46,47,48,49,50],\"xaxis\":\"x2\",\"y\":[0.4107353091239929,0.37819918990135193,0.34006696939468384,0.3347970247268677,0.3291131854057312,0.3357345461845398,0.319405198097229,0.3324960768222809,0.30863064527511597,0.30189818143844604,0.32135942578315735,0.30275288224220276,0.31365877389907837,0.3285064101219177,0.32090869545936584,0.3252788186073303,0.3204180896282196,0.33557549118995667,0.3279952108860016,0.3397844135761261,0.4007638394832611,0.33607664704322815,0.35453760623931885,0.34705623984336853,0.3854046165943146,0.3485509157180786,0.36729955673217773,0.36835360527038574,0.39934542775154114,0.39434728026390076,0.3817121684551239,0.42173531651496887,0.42246299982070923,0.4105280041694641,0.40828418731689453,0.4367489516735077,0.4258599877357483,0.4275200664997101,0.4687231183052063,0.46576452255249023,0.5093725323677063,0.4776536822319031,0.49290981888771057,0.46867793798446655,0.48240214586257935,0.513364315032959,0.5121302008628845,0.49048683047294617,0.5127706527709961,0.5484941005706787],\"yaxis\":\"y2\",\"type\":\"scatter\"}],                        {\"annotations\":[{\"font\":{\"size\":16},\"showarrow\":false,\"text\":\"Training and validation accuracy\",\"x\":0.225,\"xanchor\":\"center\",\"xref\":\"paper\",\"y\":1.0,\"yanchor\":\"bottom\",\"yref\":\"paper\"},{\"font\":{\"size\":16},\"showarrow\":false,\"text\":\"Training and validation loss\",\"x\":0.775,\"xanchor\":\"center\",\"xref\":\"paper\",\"y\":1.0,\"yanchor\":\"bottom\",\"yref\":\"paper\"}],\"template\":{\"data\":{\"barpolar\":[{\"marker\":{\"line\":{\"color\":\"#E5ECF6\",\"width\":0.5},\"pattern\":{\"fillmode\":\"overlay\",\"size\":10,\"solidity\":0.2}},\"type\":\"barpolar\"}],\"bar\":[{\"error_x\":{\"color\":\"#2a3f5f\"},\"error_y\":{\"color\":\"#2a3f5f\"},\"marker\":{\"line\":{\"color\":\"#E5ECF6\",\"width\":0.5},\"pattern\":{\"fillmode\":\"overlay\",\"size\":10,\"solidity\":0.2}},\"type\":\"bar\"}],\"carpet\":[{\"aaxis\":{\"endlinecolor\":\"#2a3f5f\",\"gridcolor\":\"white\",\"linecolor\":\"white\",\"minorgridcolor\":\"white\",\"startlinecolor\":\"#2a3f5f\"},\"baxis\":{\"endlinecolor\":\"#2a3f5f\",\"gridcolor\":\"white\",\"linecolor\":\"white\",\"minorgridcolor\":\"white\",\"startlinecolor\":\"#2a3f5f\"},\"type\":\"carpet\"}],\"choropleth\":[{\"colorbar\":{\"outlinewidth\":0,\"ticks\":\"\"},\"type\":\"choropleth\"}],\"contourcarpet\":[{\"colorbar\":{\"outlinewidth\":0,\"ticks\":\"\"},\"type\":\"contourcarpet\"}],\"contour\":[{\"colorbar\":{\"outlinewidth\":0,\"ticks\":\"\"},\"colorscale\":[[0.0,\"#0d0887\"],[0.1111111111111111,\"#46039f\"],[0.2222222222222222,\"#7201a8\"],[0.3333333333333333,\"#9c179e\"],[0.4444444444444444,\"#bd3786\"],[0.5555555555555556,\"#d8576b\"],[0.6666666666666666,\"#ed7953\"],[0.7777777777777778,\"#fb9f3a\"],[0.8888888888888888,\"#fdca26\"],[1.0,\"#f0f921\"]],\"type\":\"contour\"}],\"heatmapgl\":[{\"colorbar\":{\"outlinewidth\":0,\"ticks\":\"\"},\"colorscale\":[[0.0,\"#0d0887\"],[0.1111111111111111,\"#46039f\"],[0.2222222222222222,\"#7201a8\"],[0.3333333333333333,\"#9c179e\"],[0.4444444444444444,\"#bd3786\"],[0.5555555555555556,\"#d8576b\"],[0.6666666666666666,\"#ed7953\"],[0.7777777777777778,\"#fb9f3a\"],[0.8888888888888888,\"#fdca26\"],[1.0,\"#f0f921\"]],\"type\":\"heatmapgl\"}],\"heatmap\":[{\"colorbar\":{\"outlinewidth\":0,\"ticks\":\"\"},\"colorscale\":[[0.0,\"#0d0887\"],[0.1111111111111111,\"#46039f\"],[0.2222222222222222,\"#7201a8\"],[0.3333333333333333,\"#9c179e\"],[0.4444444444444444,\"#bd3786\"],[0.5555555555555556,\"#d8576b\"],[0.6666666666666666,\"#ed7953\"],[0.7777777777777778,\"#fb9f3a\"],[0.8888888888888888,\"#fdca26\"],[1.0,\"#f0f921\"]],\"type\":\"heatmap\"}],\"histogram2dcontour\":[{\"colorbar\":{\"outlinewidth\":0,\"ticks\":\"\"},\"colorscale\":[[0.0,\"#0d0887\"],[0.1111111111111111,\"#46039f\"],[0.2222222222222222,\"#7201a8\"],[0.3333333333333333,\"#9c179e\"],[0.4444444444444444,\"#bd3786\"],[0.5555555555555556,\"#d8576b\"],[0.6666666666666666,\"#ed7953\"],[0.7777777777777778,\"#fb9f3a\"],[0.8888888888888888,\"#fdca26\"],[1.0,\"#f0f921\"]],\"type\":\"histogram2dcontour\"}],\"histogram2d\":[{\"colorbar\":{\"outlinewidth\":0,\"ticks\":\"\"},\"colorscale\":[[0.0,\"#0d0887\"],[0.1111111111111111,\"#46039f\"],[0.2222222222222222,\"#7201a8\"],[0.3333333333333333,\"#9c179e\"],[0.4444444444444444,\"#bd3786\"],[0.5555555555555556,\"#d8576b\"],[0.6666666666666666,\"#ed7953\"],[0.7777777777777778,\"#fb9f3a\"],[0.8888888888888888,\"#fdca26\"],[1.0,\"#f0f921\"]],\"type\":\"histogram2d\"}],\"histogram\":[{\"marker\":{\"pattern\":{\"fillmode\":\"overlay\",\"size\":10,\"solidity\":0.2}},\"type\":\"histogram\"}],\"mesh3d\":[{\"colorbar\":{\"outlinewidth\":0,\"ticks\":\"\"},\"type\":\"mesh3d\"}],\"parcoords\":[{\"line\":{\"colorbar\":{\"outlinewidth\":0,\"ticks\":\"\"}},\"type\":\"parcoords\"}],\"pie\":[{\"automargin\":true,\"type\":\"pie\"}],\"scatter3d\":[{\"line\":{\"colorbar\":{\"outlinewidth\":0,\"ticks\":\"\"}},\"marker\":{\"colorbar\":{\"outlinewidth\":0,\"ticks\":\"\"}},\"type\":\"scatter3d\"}],\"scattercarpet\":[{\"marker\":{\"colorbar\":{\"outlinewidth\":0,\"ticks\":\"\"}},\"type\":\"scattercarpet\"}],\"scattergeo\":[{\"marker\":{\"colorbar\":{\"outlinewidth\":0,\"ticks\":\"\"}},\"type\":\"scattergeo\"}],\"scattergl\":[{\"marker\":{\"colorbar\":{\"outlinewidth\":0,\"ticks\":\"\"}},\"type\":\"scattergl\"}],\"scattermapbox\":[{\"marker\":{\"colorbar\":{\"outlinewidth\":0,\"ticks\":\"\"}},\"type\":\"scattermapbox\"}],\"scatterpolargl\":[{\"marker\":{\"colorbar\":{\"outlinewidth\":0,\"ticks\":\"\"}},\"type\":\"scatterpolargl\"}],\"scatterpolar\":[{\"marker\":{\"colorbar\":{\"outlinewidth\":0,\"ticks\":\"\"}},\"type\":\"scatterpolar\"}],\"scatter\":[{\"fillpattern\":{\"fillmode\":\"overlay\",\"size\":10,\"solidity\":0.2},\"type\":\"scatter\"}],\"scatterternary\":[{\"marker\":{\"colorbar\":{\"outlinewidth\":0,\"ticks\":\"\"}},\"type\":\"scatterternary\"}],\"surface\":[{\"colorbar\":{\"outlinewidth\":0,\"ticks\":\"\"},\"colorscale\":[[0.0,\"#0d0887\"],[0.1111111111111111,\"#46039f\"],[0.2222222222222222,\"#7201a8\"],[0.3333333333333333,\"#9c179e\"],[0.4444444444444444,\"#bd3786\"],[0.5555555555555556,\"#d8576b\"],[0.6666666666666666,\"#ed7953\"],[0.7777777777777778,\"#fb9f3a\"],[0.8888888888888888,\"#fdca26\"],[1.0,\"#f0f921\"]],\"type\":\"surface\"}],\"table\":[{\"cells\":{\"fill\":{\"color\":\"#EBF0F8\"},\"line\":{\"color\":\"white\"}},\"header\":{\"fill\":{\"color\":\"#C8D4E3\"},\"line\":{\"color\":\"white\"}},\"type\":\"table\"}]},\"layout\":{\"annotationdefaults\":{\"arrowcolor\":\"#2a3f5f\",\"arrowhead\":0,\"arrowwidth\":1},\"autotypenumbers\":\"strict\",\"coloraxis\":{\"colorbar\":{\"outlinewidth\":0,\"ticks\":\"\"}},\"colorscale\":{\"diverging\":[[0,\"#8e0152\"],[0.1,\"#c51b7d\"],[0.2,\"#de77ae\"],[0.3,\"#f1b6da\"],[0.4,\"#fde0ef\"],[0.5,\"#f7f7f7\"],[0.6,\"#e6f5d0\"],[0.7,\"#b8e186\"],[0.8,\"#7fbc41\"],[0.9,\"#4d9221\"],[1,\"#276419\"]],\"sequential\":[[0.0,\"#0d0887\"],[0.1111111111111111,\"#46039f\"],[0.2222222222222222,\"#7201a8\"],[0.3333333333333333,\"#9c179e\"],[0.4444444444444444,\"#bd3786\"],[0.5555555555555556,\"#d8576b\"],[0.6666666666666666,\"#ed7953\"],[0.7777777777777778,\"#fb9f3a\"],[0.8888888888888888,\"#fdca26\"],[1.0,\"#f0f921\"]],\"sequentialminus\":[[0.0,\"#0d0887\"],[0.1111111111111111,\"#46039f\"],[0.2222222222222222,\"#7201a8\"],[0.3333333333333333,\"#9c179e\"],[0.4444444444444444,\"#bd3786\"],[0.5555555555555556,\"#d8576b\"],[0.6666666666666666,\"#ed7953\"],[0.7777777777777778,\"#fb9f3a\"],[0.8888888888888888,\"#fdca26\"],[1.0,\"#f0f921\"]]},\"colorway\":[\"#636efa\",\"#EF553B\",\"#00cc96\",\"#ab63fa\",\"#FFA15A\",\"#19d3f3\",\"#FF6692\",\"#B6E880\",\"#FF97FF\",\"#FECB52\"],\"font\":{\"color\":\"#2a3f5f\"},\"geo\":{\"bgcolor\":\"white\",\"lakecolor\":\"white\",\"landcolor\":\"#E5ECF6\",\"showlakes\":true,\"showland\":true,\"subunitcolor\":\"white\"},\"hoverlabel\":{\"align\":\"left\"},\"hovermode\":\"closest\",\"mapbox\":{\"style\":\"light\"},\"paper_bgcolor\":\"white\",\"plot_bgcolor\":\"#E5ECF6\",\"polar\":{\"angularaxis\":{\"gridcolor\":\"white\",\"linecolor\":\"white\",\"ticks\":\"\"},\"bgcolor\":\"#E5ECF6\",\"radialaxis\":{\"gridcolor\":\"white\",\"linecolor\":\"white\",\"ticks\":\"\"}},\"scene\":{\"xaxis\":{\"backgroundcolor\":\"#E5ECF6\",\"gridcolor\":\"white\",\"gridwidth\":2,\"linecolor\":\"white\",\"showbackground\":true,\"ticks\":\"\",\"zerolinecolor\":\"white\"},\"yaxis\":{\"backgroundcolor\":\"#E5ECF6\",\"gridcolor\":\"white\",\"gridwidth\":2,\"linecolor\":\"white\",\"showbackground\":true,\"ticks\":\"\",\"zerolinecolor\":\"white\"},\"zaxis\":{\"backgroundcolor\":\"#E5ECF6\",\"gridcolor\":\"white\",\"gridwidth\":2,\"linecolor\":\"white\",\"showbackground\":true,\"ticks\":\"\",\"zerolinecolor\":\"white\"}},\"shapedefaults\":{\"line\":{\"color\":\"#2a3f5f\"}},\"ternary\":{\"aaxis\":{\"gridcolor\":\"white\",\"linecolor\":\"white\",\"ticks\":\"\"},\"baxis\":{\"gridcolor\":\"white\",\"linecolor\":\"white\",\"ticks\":\"\"},\"bgcolor\":\"#E5ECF6\",\"caxis\":{\"gridcolor\":\"white\",\"linecolor\":\"white\",\"ticks\":\"\"}},\"title\":{\"x\":0.05},\"xaxis\":{\"automargin\":true,\"gridcolor\":\"white\",\"linecolor\":\"white\",\"ticks\":\"\",\"title\":{\"standoff\":15},\"zerolinecolor\":\"white\",\"zerolinewidth\":2},\"yaxis\":{\"automargin\":true,\"gridcolor\":\"white\",\"linecolor\":\"white\",\"ticks\":\"\",\"title\":{\"standoff\":15},\"zerolinecolor\":\"white\",\"zerolinewidth\":2}}},\"xaxis\":{\"anchor\":\"y\",\"domain\":[0.0,0.45],\"title\":{\"text\":\"Epoch\"}},\"yaxis\":{\"anchor\":\"x\",\"domain\":[0.0,1.0],\"range\":[0,1],\"title\":{\"text\":\"Accuracy\"}},\"xaxis2\":{\"anchor\":\"y2\",\"domain\":[0.55,1.0],\"title\":{\"text\":\"Epoch\"}},\"yaxis2\":{\"anchor\":\"x2\",\"domain\":[0.0,1.0],\"range\":[0,1],\"title\":{\"text\":\"Loss\"}}},                        {\"responsive\": true}                    ).then(function(){\n",
              "                            \n",
              "var gd = document.getElementById('f27c51e3-f026-4f31-8d6e-705e15ad2036');\n",
              "var x = new MutationObserver(function (mutations, observer) {{\n",
              "        var display = window.getComputedStyle(gd).display;\n",
              "        if (!display || display === 'none') {{\n",
              "            console.log([gd, 'removed!']);\n",
              "            Plotly.purge(gd);\n",
              "            observer.disconnect();\n",
              "        }}\n",
              "}});\n",
              "\n",
              "// Listen for the removal of the full notebook cells\n",
              "var notebookContainer = gd.closest('#notebook-container');\n",
              "if (notebookContainer) {{\n",
              "    x.observe(notebookContainer, {childList: true});\n",
              "}}\n",
              "\n",
              "// Listen for the clearing of the current output cell\n",
              "var outputEl = gd.closest('.output');\n",
              "if (outputEl) {{\n",
              "    x.observe(outputEl, {childList: true});\n",
              "}}\n",
              "\n",
              "                        })                };                            </script>        </div>\n",
              "</body>\n",
              "</html>"
            ]
          },
          "metadata": {}
        }
      ]
    },
    {
      "cell_type": "markdown",
      "metadata": {
        "id": "9hc6k2taT0_n"
      },
      "source": [
        "# SECTION 2: Optimization and Regularization implementation\n",
        "At this point you should now create a model that is more optimized in order to see better perfomance.\n",
        "As done before make sure to plot out the loss curve and the accuracy and loss in verbose"
      ]
    },
    {
      "cell_type": "code",
      "execution_count": 44,
      "metadata": {
        "id": "nr6HuVEtXvoP"
      },
      "outputs": [],
      "source": [
        "#TODO:\n",
        "# Model\n",
        "dropout_model = Sequential()\n",
        "# Add convolution 2D\n",
        "dropout_model.add(Conv2D(32, kernel_size=(3, 3),\n",
        "                 activation='relu',\n",
        "                 kernel_initializer='he_normal',\n",
        "                 input_shape=(IMG_ROWS, IMG_COLS, 1)))\n",
        "dropout_model.add(MaxPooling2D((2, 2)))\n",
        "# Add dropouts to the model\n",
        "dropout_model.add(Dropout(0.25))\n",
        "dropout_model.add(Conv2D(64,\n",
        "                 kernel_size=(3, 3),\n",
        "                 activation='relu'))\n",
        "dropout_model.add(MaxPooling2D(pool_size=(2, 2)))\n",
        "# Add dropouts to the model\n",
        "dropout_model.add(Dropout(0.25))\n",
        "dropout_model.add(Conv2D(128, (3, 3), activation='relu'))\n",
        "# Add dropouts to the model\n",
        "dropout_model.add(Dropout(0.4))\n",
        "dropout_model.add(Flatten())\n",
        "dropout_model.add(Dense(128, activation='relu'))\n",
        "# Add dropouts to the model\n",
        "dropout_model.add(Dropout(0.3))\n",
        "dropout_model.add(Dense(NUM_CLASSES, activation='softmax'))\n",
        "\n",
        "\n",
        "dropout_model.compile(loss=categorical_crossentropy,\n",
        "              optimizer=Adam(),\n",
        "              metrics=['accuracy'])\n",
        "dropout_model.save('trained_1_dropout_model_mnist.h5')\n",
        "\n",
        "\n",
        "\n",
        "# Define the model with L1 regularization\n",
        "model_l1 = Sequential([\n",
        "    Conv2D(32, kernel_size=(3, 3), activation='relu',\n",
        "           kernel_initializer='he_normal',\n",
        "           input_shape=(28, 28, 1),\n",
        "           kernel_regularizer=l1(0.01)),\n",
        "    MaxPooling2D((2, 2)),\n",
        "    Conv2D(64, (3, 3), activation='relu',\n",
        "           kernel_regularizer=l1(0.01)),\n",
        "    MaxPooling2D(pool_size=(2, 2)),\n",
        "    Flatten(),\n",
        "    Dense(128, activation='relu', kernel_regularizer=l1(0.01)),\n",
        "    Dense(10, activation='softmax')\n",
        "])\n",
        "\n",
        "\n",
        "# Define the model with L2 regularization\n",
        "model_l2 = Sequential([\n",
        "    Conv2D(32, kernel_size=(3, 3), activation='relu',\n",
        "           kernel_initializer='he_normal',\n",
        "           input_shape=(28, 28, 1), kernel_regularizer=l2(0.01)),\n",
        "    MaxPooling2D((2, 2)),\n",
        "    Conv2D(64, (3, 3), activation='relu', kernel_regularizer=l2(0.01)),\n",
        "    MaxPooling2D(pool_size=(2, 2)),\n",
        "    Flatten(),\n",
        "    Dense(128, activation='relu', kernel_regularizer=l2(0.01)),\n",
        "    Dense(10, activation='softmax')\n",
        "])\n",
        "\n",
        "\n",
        "# Compile the models\n",
        "model_l1.compile(optimizer='adam', loss='categorical_crossentropy', metrics=['accuracy'])\n",
        "model_l1.save('l1_model_mnist.h5')\n",
        "\n",
        "model_l2.compile(optimizer='adam', loss='categorical_crossentropy', metrics=['accuracy'])\n",
        "model_l2.save('l2_model_mnist.h5')\n"
      ]
    },
    {
      "cell_type": "code",
      "execution_count": 45,
      "metadata": {
        "colab": {
          "base_uri": "https://localhost:8080/"
        },
        "id": "UygzqjB-Xvgo",
        "outputId": "371fdfc5-34ef-4c2c-b20d-e02ef8c3111a"
      },
      "outputs": [
        {
          "output_type": "stream",
          "name": "stdout",
          "text": [
            "Epoch 1/50\n",
            "375/375 [==============================] - 44s 116ms/step - loss: 0.7364 - accuracy: 0.7276 - val_loss: 0.4527 - val_accuracy: 0.8394\n",
            "Epoch 2/50\n",
            "375/375 [==============================] - 43s 116ms/step - loss: 0.4636 - accuracy: 0.8298 - val_loss: 0.3540 - val_accuracy: 0.8714\n",
            "Epoch 3/50\n",
            "375/375 [==============================] - 43s 115ms/step - loss: 0.4008 - accuracy: 0.8539 - val_loss: 0.3332 - val_accuracy: 0.8750\n",
            "Epoch 4/50\n",
            "375/375 [==============================] - 43s 115ms/step - loss: 0.3638 - accuracy: 0.8670 - val_loss: 0.2943 - val_accuracy: 0.8923\n",
            "Epoch 5/50\n",
            "375/375 [==============================] - 47s 126ms/step - loss: 0.3423 - accuracy: 0.8741 - val_loss: 0.2809 - val_accuracy: 0.8972\n",
            "Epoch 6/50\n",
            "375/375 [==============================] - 43s 116ms/step - loss: 0.3217 - accuracy: 0.8820 - val_loss: 0.2771 - val_accuracy: 0.9042\n",
            "Epoch 7/50\n",
            "375/375 [==============================] - 43s 115ms/step - loss: 0.3113 - accuracy: 0.8866 - val_loss: 0.2649 - val_accuracy: 0.9028\n",
            "Epoch 8/50\n",
            "375/375 [==============================] - 43s 115ms/step - loss: 0.2964 - accuracy: 0.8896 - val_loss: 0.2566 - val_accuracy: 0.9068\n",
            "Epoch 9/50\n",
            "375/375 [==============================] - 43s 115ms/step - loss: 0.2922 - accuracy: 0.8911 - val_loss: 0.2533 - val_accuracy: 0.9075\n",
            "Epoch 10/50\n",
            "375/375 [==============================] - 45s 121ms/step - loss: 0.2800 - accuracy: 0.8958 - val_loss: 0.2505 - val_accuracy: 0.9087\n",
            "Epoch 11/50\n",
            "375/375 [==============================] - 43s 114ms/step - loss: 0.2738 - accuracy: 0.8990 - val_loss: 0.2456 - val_accuracy: 0.9122\n",
            "Epoch 12/50\n",
            "375/375 [==============================] - 43s 115ms/step - loss: 0.2701 - accuracy: 0.8988 - val_loss: 0.2421 - val_accuracy: 0.9133\n",
            "Epoch 13/50\n",
            "375/375 [==============================] - 43s 115ms/step - loss: 0.2648 - accuracy: 0.9035 - val_loss: 0.2469 - val_accuracy: 0.9082\n",
            "Epoch 14/50\n",
            "375/375 [==============================] - 43s 115ms/step - loss: 0.2554 - accuracy: 0.9057 - val_loss: 0.2472 - val_accuracy: 0.9106\n",
            "Epoch 15/50\n",
            "375/375 [==============================] - 43s 115ms/step - loss: 0.2524 - accuracy: 0.9046 - val_loss: 0.2387 - val_accuracy: 0.9124\n",
            "Epoch 16/50\n",
            "375/375 [==============================] - 44s 117ms/step - loss: 0.2467 - accuracy: 0.9083 - val_loss: 0.2430 - val_accuracy: 0.9114\n",
            "Epoch 17/50\n",
            "375/375 [==============================] - 43s 114ms/step - loss: 0.2494 - accuracy: 0.9066 - val_loss: 0.2364 - val_accuracy: 0.9154\n",
            "Epoch 18/50\n",
            "375/375 [==============================] - 43s 115ms/step - loss: 0.2426 - accuracy: 0.9093 - val_loss: 0.2312 - val_accuracy: 0.9161\n",
            "Epoch 19/50\n",
            "375/375 [==============================] - 43s 114ms/step - loss: 0.2404 - accuracy: 0.9105 - val_loss: 0.2438 - val_accuracy: 0.9140\n",
            "Epoch 20/50\n",
            "375/375 [==============================] - 43s 115ms/step - loss: 0.2369 - accuracy: 0.9122 - val_loss: 0.2358 - val_accuracy: 0.9158\n",
            "Epoch 21/50\n",
            "375/375 [==============================] - 43s 115ms/step - loss: 0.2320 - accuracy: 0.9127 - val_loss: 0.2343 - val_accuracy: 0.9154\n",
            "Epoch 22/50\n",
            "375/375 [==============================] - 46s 122ms/step - loss: 0.2292 - accuracy: 0.9136 - val_loss: 0.2350 - val_accuracy: 0.9158\n",
            "Epoch 23/50\n",
            "375/375 [==============================] - 43s 115ms/step - loss: 0.2263 - accuracy: 0.9136 - val_loss: 0.2274 - val_accuracy: 0.9167\n",
            "Epoch 24/50\n",
            "375/375 [==============================] - 43s 115ms/step - loss: 0.2275 - accuracy: 0.9155 - val_loss: 0.2353 - val_accuracy: 0.9165\n",
            "Epoch 25/50\n",
            "375/375 [==============================] - 43s 115ms/step - loss: 0.2234 - accuracy: 0.9157 - val_loss: 0.2284 - val_accuracy: 0.9187\n",
            "Epoch 26/50\n",
            "375/375 [==============================] - 43s 114ms/step - loss: 0.2175 - accuracy: 0.9192 - val_loss: 0.2357 - val_accuracy: 0.9158\n",
            "Epoch 27/50\n",
            "375/375 [==============================] - 43s 115ms/step - loss: 0.2191 - accuracy: 0.9172 - val_loss: 0.2280 - val_accuracy: 0.9183\n",
            "Epoch 28/50\n",
            "375/375 [==============================] - 50s 132ms/step - loss: 0.2156 - accuracy: 0.9186 - val_loss: 0.2267 - val_accuracy: 0.9202\n",
            "Epoch 29/50\n",
            "375/375 [==============================] - 54s 144ms/step - loss: 0.2172 - accuracy: 0.9187 - val_loss: 0.2327 - val_accuracy: 0.9183\n",
            "Epoch 30/50\n",
            "375/375 [==============================] - 60s 160ms/step - loss: 0.2116 - accuracy: 0.9212 - val_loss: 0.2312 - val_accuracy: 0.9195\n",
            "Epoch 31/50\n",
            "375/375 [==============================] - 43s 115ms/step - loss: 0.2149 - accuracy: 0.9182 - val_loss: 0.2225 - val_accuracy: 0.9205\n",
            "Epoch 32/50\n",
            "375/375 [==============================] - 43s 115ms/step - loss: 0.2089 - accuracy: 0.9205 - val_loss: 0.2257 - val_accuracy: 0.9193\n",
            "Epoch 33/50\n",
            "375/375 [==============================] - 46s 122ms/step - loss: 0.2073 - accuracy: 0.9208 - val_loss: 0.2269 - val_accuracy: 0.9201\n",
            "Epoch 34/50\n",
            "375/375 [==============================] - 43s 115ms/step - loss: 0.2070 - accuracy: 0.9226 - val_loss: 0.2291 - val_accuracy: 0.9201\n",
            "Epoch 35/50\n",
            "375/375 [==============================] - 43s 115ms/step - loss: 0.2039 - accuracy: 0.9219 - val_loss: 0.2274 - val_accuracy: 0.9198\n",
            "Epoch 36/50\n",
            "375/375 [==============================] - 43s 115ms/step - loss: 0.2083 - accuracy: 0.9206 - val_loss: 0.2268 - val_accuracy: 0.9180\n",
            "Epoch 37/50\n",
            "375/375 [==============================] - 43s 115ms/step - loss: 0.2040 - accuracy: 0.9228 - val_loss: 0.2261 - val_accuracy: 0.9202\n",
            "Epoch 38/50\n",
            "375/375 [==============================] - 43s 115ms/step - loss: 0.2028 - accuracy: 0.9227 - val_loss: 0.2265 - val_accuracy: 0.9197\n",
            "Epoch 39/50\n",
            "375/375 [==============================] - 44s 117ms/step - loss: 0.1989 - accuracy: 0.9249 - val_loss: 0.2250 - val_accuracy: 0.9194\n",
            "Epoch 40/50\n",
            "375/375 [==============================] - 45s 121ms/step - loss: 0.1995 - accuracy: 0.9253 - val_loss: 0.2305 - val_accuracy: 0.9196\n",
            "Epoch 41/50\n",
            "375/375 [==============================] - 43s 115ms/step - loss: 0.1992 - accuracy: 0.9249 - val_loss: 0.2227 - val_accuracy: 0.9218\n",
            "Epoch 42/50\n",
            "375/375 [==============================] - 43s 115ms/step - loss: 0.1972 - accuracy: 0.9268 - val_loss: 0.2220 - val_accuracy: 0.9233\n",
            "Epoch 43/50\n",
            "375/375 [==============================] - 43s 114ms/step - loss: 0.1942 - accuracy: 0.9258 - val_loss: 0.2236 - val_accuracy: 0.9238\n",
            "Epoch 44/50\n",
            "375/375 [==============================] - 43s 115ms/step - loss: 0.1930 - accuracy: 0.9270 - val_loss: 0.2256 - val_accuracy: 0.9225\n",
            "Epoch 45/50\n",
            "375/375 [==============================] - 44s 117ms/step - loss: 0.1934 - accuracy: 0.9266 - val_loss: 0.2267 - val_accuracy: 0.9232\n",
            "Epoch 46/50\n",
            "375/375 [==============================] - 43s 114ms/step - loss: 0.1939 - accuracy: 0.9266 - val_loss: 0.2254 - val_accuracy: 0.9222\n",
            "Epoch 47/50\n",
            "375/375 [==============================] - 43s 115ms/step - loss: 0.1924 - accuracy: 0.9268 - val_loss: 0.2302 - val_accuracy: 0.9183\n",
            "Epoch 48/50\n",
            "375/375 [==============================] - 43s 115ms/step - loss: 0.1893 - accuracy: 0.9276 - val_loss: 0.2207 - val_accuracy: 0.9222\n",
            "Epoch 49/50\n",
            "375/375 [==============================] - 43s 115ms/step - loss: 0.1906 - accuracy: 0.9298 - val_loss: 0.2226 - val_accuracy: 0.9229\n",
            "Epoch 50/50\n",
            "375/375 [==============================] - 43s 115ms/step - loss: 0.1888 - accuracy: 0.9269 - val_loss: 0.2256 - val_accuracy: 0.9215\n"
          ]
        }
      ],
      "source": [
        "#TODO:\n",
        "dropout_train_model = dropout_model.fit(X_train, y_train,\n",
        "                  batch_size=BATCH_SIZE,\n",
        "                  epochs=NO_EPOCHS,\n",
        "                  verbose=1,\n",
        "                  validation_data=(X_val, y_val))\n",
        "\n"
      ]
    },
    {
      "cell_type": "code",
      "execution_count": 46,
      "metadata": {
        "colab": {
          "base_uri": "https://localhost:8080/"
        },
        "id": "9NEtnjqxXvXm",
        "outputId": "32068ae9-3e98-4443-86c2-926fa3d48fc0"
      },
      "outputs": [
        {
          "output_type": "stream",
          "name": "stdout",
          "text": [
            "Test loss: 0.7870286703109741\n",
            "Test accuracy: 0.9114999771118164\n"
          ]
        }
      ],
      "source": [
        "# Dropout model Loss and Accuracy\n",
        "score = model.evaluate(X_test, y_test, verbose=0)\n",
        "print('Test loss:', score[0])\n",
        "print('Test accuracy:', score[1])"
      ]
    },
    {
      "cell_type": "code",
      "execution_count": 48,
      "metadata": {
        "colab": {
          "base_uri": "https://localhost:8080/"
        },
        "id": "rqBX2T5qpQdW",
        "outputId": "a6255e87-e937-44b0-ae32-fab43ac129a7"
      },
      "outputs": [
        {
          "output_type": "stream",
          "name": "stdout",
          "text": [
            "Epoch 1/50\n",
            "375/375 [==============================] - 39s 101ms/step - loss: 6.9454 - accuracy: 0.6173 - val_loss: 1.8423 - val_accuracy: 0.6777\n",
            "Epoch 2/50\n",
            "375/375 [==============================] - 34s 90ms/step - loss: 1.6183 - accuracy: 0.6881 - val_loss: 1.4369 - val_accuracy: 0.7061\n",
            "Epoch 3/50\n",
            "375/375 [==============================] - 35s 95ms/step - loss: 1.3866 - accuracy: 0.7009 - val_loss: 1.3262 - val_accuracy: 0.6926\n",
            "Epoch 4/50\n",
            "375/375 [==============================] - 34s 91ms/step - loss: 1.3075 - accuracy: 0.7109 - val_loss: 1.2722 - val_accuracy: 0.7212\n",
            "Epoch 5/50\n",
            "375/375 [==============================] - 36s 95ms/step - loss: 1.2837 - accuracy: 0.7126 - val_loss: 1.2711 - val_accuracy: 0.7238\n",
            "Epoch 6/50\n",
            "375/375 [==============================] - 37s 99ms/step - loss: 1.2651 - accuracy: 0.7156 - val_loss: 1.3303 - val_accuracy: 0.6866\n",
            "Epoch 7/50\n",
            "375/375 [==============================] - 35s 93ms/step - loss: 1.2523 - accuracy: 0.7181 - val_loss: 1.2611 - val_accuracy: 0.7209\n",
            "Epoch 8/50\n",
            "375/375 [==============================] - 36s 97ms/step - loss: 1.2352 - accuracy: 0.7211 - val_loss: 1.2096 - val_accuracy: 0.7326\n",
            "Epoch 9/50\n",
            "375/375 [==============================] - 35s 92ms/step - loss: 1.2146 - accuracy: 0.7220 - val_loss: 1.1957 - val_accuracy: 0.7193\n",
            "Epoch 10/50\n",
            "375/375 [==============================] - 35s 93ms/step - loss: 1.2024 - accuracy: 0.7267 - val_loss: 1.1830 - val_accuracy: 0.7293\n",
            "Epoch 11/50\n",
            "375/375 [==============================] - 35s 94ms/step - loss: 1.1909 - accuracy: 0.7282 - val_loss: 1.1853 - val_accuracy: 0.7336\n",
            "Epoch 12/50\n",
            "375/375 [==============================] - 35s 93ms/step - loss: 1.1830 - accuracy: 0.7309 - val_loss: 1.1800 - val_accuracy: 0.7301\n",
            "Epoch 13/50\n",
            "375/375 [==============================] - 36s 95ms/step - loss: 1.1769 - accuracy: 0.7324 - val_loss: 1.1762 - val_accuracy: 0.7416\n",
            "Epoch 14/50\n",
            "375/375 [==============================] - 35s 93ms/step - loss: 1.1768 - accuracy: 0.7333 - val_loss: 1.1722 - val_accuracy: 0.7430\n",
            "Epoch 15/50\n",
            "375/375 [==============================] - 36s 95ms/step - loss: 1.1641 - accuracy: 0.7368 - val_loss: 1.1565 - val_accuracy: 0.7434\n",
            "Epoch 16/50\n",
            "375/375 [==============================] - 34s 91ms/step - loss: 1.1665 - accuracy: 0.7362 - val_loss: 1.1810 - val_accuracy: 0.7233\n",
            "Epoch 17/50\n",
            "375/375 [==============================] - 36s 95ms/step - loss: 1.1589 - accuracy: 0.7353 - val_loss: 1.1713 - val_accuracy: 0.7256\n",
            "Epoch 18/50\n",
            "375/375 [==============================] - 35s 93ms/step - loss: 1.1559 - accuracy: 0.7393 - val_loss: 1.1499 - val_accuracy: 0.7415\n",
            "Epoch 19/50\n",
            "375/375 [==============================] - 35s 94ms/step - loss: 1.1505 - accuracy: 0.7391 - val_loss: 1.1847 - val_accuracy: 0.7315\n",
            "Epoch 20/50\n",
            "375/375 [==============================] - 35s 95ms/step - loss: 1.1500 - accuracy: 0.7406 - val_loss: 1.1610 - val_accuracy: 0.7398\n",
            "Epoch 21/50\n",
            "375/375 [==============================] - 35s 94ms/step - loss: 1.1457 - accuracy: 0.7421 - val_loss: 1.1356 - val_accuracy: 0.7416\n",
            "Epoch 22/50\n",
            "375/375 [==============================] - 36s 96ms/step - loss: 1.1433 - accuracy: 0.7416 - val_loss: 1.1247 - val_accuracy: 0.7480\n",
            "Epoch 23/50\n",
            "375/375 [==============================] - 34s 92ms/step - loss: 1.1391 - accuracy: 0.7418 - val_loss: 1.1241 - val_accuracy: 0.7442\n",
            "Epoch 24/50\n",
            "375/375 [==============================] - 36s 96ms/step - loss: 1.1373 - accuracy: 0.7424 - val_loss: 1.1497 - val_accuracy: 0.7405\n",
            "Epoch 25/50\n",
            "375/375 [==============================] - 37s 99ms/step - loss: 1.1366 - accuracy: 0.7443 - val_loss: 1.1492 - val_accuracy: 0.7330\n",
            "Epoch 26/50\n",
            "375/375 [==============================] - 34s 90ms/step - loss: 1.1292 - accuracy: 0.7427 - val_loss: 1.1371 - val_accuracy: 0.7427\n",
            "Epoch 27/50\n",
            "375/375 [==============================] - 36s 95ms/step - loss: 1.1265 - accuracy: 0.7457 - val_loss: 1.1408 - val_accuracy: 0.7383\n",
            "Epoch 28/50\n",
            "375/375 [==============================] - 35s 93ms/step - loss: 1.1248 - accuracy: 0.7456 - val_loss: 1.1157 - val_accuracy: 0.7498\n",
            "Epoch 29/50\n",
            "375/375 [==============================] - 36s 96ms/step - loss: 1.1275 - accuracy: 0.7425 - val_loss: 1.1040 - val_accuracy: 0.7527\n",
            "Epoch 30/50\n",
            "375/375 [==============================] - 34s 90ms/step - loss: 1.1223 - accuracy: 0.7450 - val_loss: 1.1300 - val_accuracy: 0.7380\n",
            "Epoch 31/50\n",
            "375/375 [==============================] - 35s 94ms/step - loss: 1.1207 - accuracy: 0.7448 - val_loss: 1.1104 - val_accuracy: 0.7503\n",
            "Epoch 32/50\n",
            "375/375 [==============================] - 34s 91ms/step - loss: 1.1172 - accuracy: 0.7469 - val_loss: 1.1187 - val_accuracy: 0.7462\n",
            "Epoch 33/50\n",
            "375/375 [==============================] - 35s 93ms/step - loss: 1.1148 - accuracy: 0.7486 - val_loss: 1.1386 - val_accuracy: 0.7337\n",
            "Epoch 34/50\n",
            "375/375 [==============================] - 35s 93ms/step - loss: 1.1102 - accuracy: 0.7481 - val_loss: 1.1440 - val_accuracy: 0.7403\n",
            "Epoch 35/50\n",
            "375/375 [==============================] - 35s 93ms/step - loss: 1.1113 - accuracy: 0.7473 - val_loss: 1.1017 - val_accuracy: 0.7513\n",
            "Epoch 36/50\n",
            "375/375 [==============================] - 37s 99ms/step - loss: 1.1116 - accuracy: 0.7480 - val_loss: 1.1034 - val_accuracy: 0.7498\n",
            "Epoch 37/50\n",
            "375/375 [==============================] - 34s 91ms/step - loss: 1.1081 - accuracy: 0.7492 - val_loss: 1.0972 - val_accuracy: 0.7544\n",
            "Epoch 38/50\n",
            "375/375 [==============================] - 36s 95ms/step - loss: 1.1085 - accuracy: 0.7496 - val_loss: 1.0998 - val_accuracy: 0.7535\n",
            "Epoch 39/50\n",
            "375/375 [==============================] - 34s 91ms/step - loss: 1.1074 - accuracy: 0.7481 - val_loss: 1.1086 - val_accuracy: 0.7408\n",
            "Epoch 40/50\n",
            "375/375 [==============================] - 36s 95ms/step - loss: 1.1081 - accuracy: 0.7465 - val_loss: 1.1094 - val_accuracy: 0.7418\n",
            "Epoch 41/50\n",
            "375/375 [==============================] - 34s 91ms/step - loss: 1.1046 - accuracy: 0.7512 - val_loss: 1.1024 - val_accuracy: 0.7499\n",
            "Epoch 42/50\n",
            "375/375 [==============================] - 35s 93ms/step - loss: 1.1064 - accuracy: 0.7487 - val_loss: 1.1285 - val_accuracy: 0.7379\n",
            "Epoch 43/50\n",
            "375/375 [==============================] - 37s 98ms/step - loss: 1.1034 - accuracy: 0.7510 - val_loss: 1.1202 - val_accuracy: 0.7451\n",
            "Epoch 44/50\n",
            "375/375 [==============================] - 34s 91ms/step - loss: 1.1043 - accuracy: 0.7507 - val_loss: 1.1068 - val_accuracy: 0.7488\n",
            "Epoch 45/50\n",
            "375/375 [==============================] - 36s 95ms/step - loss: 1.0987 - accuracy: 0.7513 - val_loss: 1.0916 - val_accuracy: 0.7558\n",
            "Epoch 46/50\n",
            "375/375 [==============================] - 34s 90ms/step - loss: 1.0975 - accuracy: 0.7512 - val_loss: 1.0896 - val_accuracy: 0.7527\n",
            "Epoch 47/50\n",
            "375/375 [==============================] - 35s 94ms/step - loss: 1.0942 - accuracy: 0.7534 - val_loss: 1.0984 - val_accuracy: 0.7471\n",
            "Epoch 48/50\n",
            "375/375 [==============================] - 34s 90ms/step - loss: 1.0926 - accuracy: 0.7534 - val_loss: 1.0931 - val_accuracy: 0.7523\n",
            "Epoch 49/50\n",
            "375/375 [==============================] - 36s 96ms/step - loss: 1.0936 - accuracy: 0.7527 - val_loss: 1.0796 - val_accuracy: 0.7560\n",
            "Epoch 50/50\n",
            "375/375 [==============================] - 34s 91ms/step - loss: 1.0945 - accuracy: 0.7527 - val_loss: 1.0770 - val_accuracy: 0.7593\n"
          ]
        }
      ],
      "source": [
        "#  L1 Model training\n",
        "train_model_l1 = model_l1.fit(X_train, y_train,\n",
        "                  batch_size=BATCH_SIZE,\n",
        "                  epochs=NO_EPOCHS,\n",
        "                  verbose=1,\n",
        "                  validation_data=(X_val, y_val))"
      ]
    },
    {
      "cell_type": "code",
      "execution_count": 49,
      "metadata": {
        "colab": {
          "base_uri": "https://localhost:8080/"
        },
        "id": "_9lY8ROwpesv",
        "outputId": "a37696f9-c4b7-4d1e-fed2-8cd1b893f149"
      },
      "outputs": [
        {
          "output_type": "stream",
          "name": "stdout",
          "text": [
            "Test loss: 1.073198676109314\n",
            "Test accuracy: 0.7567999958992004\n"
          ]
        }
      ],
      "source": [
        "# L1 Loss and accuracy\n",
        "score = model_l1.evaluate(X_test, y_test, verbose=0)\n",
        "print('Test loss:', score[0])\n",
        "print('Test accuracy:', score[1])\n"
      ]
    },
    {
      "cell_type": "code",
      "execution_count": 50,
      "metadata": {
        "colab": {
          "base_uri": "https://localhost:8080/"
        },
        "id": "3cRy2OxspU4Z",
        "outputId": "0771bf94-dfef-416f-b752-6552ba78d82b"
      },
      "outputs": [
        {
          "output_type": "stream",
          "name": "stdout",
          "text": [
            "Epoch 1/50\n",
            "375/375 [==============================] - 38s 98ms/step - loss: 1.6821 - accuracy: 0.7990 - val_loss: 0.9999 - val_accuracy: 0.8295\n",
            "Epoch 2/50\n",
            "375/375 [==============================] - 38s 101ms/step - loss: 0.8675 - accuracy: 0.8298 - val_loss: 0.7963 - val_accuracy: 0.8061\n",
            "Epoch 3/50\n",
            "375/375 [==============================] - 34s 91ms/step - loss: 0.7319 - accuracy: 0.8323 - val_loss: 0.7038 - val_accuracy: 0.8322\n",
            "Epoch 4/50\n",
            "375/375 [==============================] - 36s 95ms/step - loss: 0.6853 - accuracy: 0.8317 - val_loss: 0.6548 - val_accuracy: 0.8447\n",
            "Epoch 5/50\n",
            "375/375 [==============================] - 35s 93ms/step - loss: 0.6539 - accuracy: 0.8360 - val_loss: 0.6538 - val_accuracy: 0.8298\n",
            "Epoch 6/50\n",
            "375/375 [==============================] - 36s 95ms/step - loss: 0.6376 - accuracy: 0.8377 - val_loss: 0.6298 - val_accuracy: 0.8415\n",
            "Epoch 7/50\n",
            "375/375 [==============================] - 37s 98ms/step - loss: 0.6242 - accuracy: 0.8400 - val_loss: 0.6191 - val_accuracy: 0.8387\n",
            "Epoch 8/50\n",
            "375/375 [==============================] - 34s 90ms/step - loss: 0.6113 - accuracy: 0.8425 - val_loss: 0.6289 - val_accuracy: 0.8349\n",
            "Epoch 9/50\n",
            "375/375 [==============================] - 36s 97ms/step - loss: 0.5984 - accuracy: 0.8456 - val_loss: 0.5899 - val_accuracy: 0.8468\n",
            "Epoch 10/50\n",
            "375/375 [==============================] - 34s 92ms/step - loss: 0.5906 - accuracy: 0.8452 - val_loss: 0.5802 - val_accuracy: 0.8529\n",
            "Epoch 11/50\n",
            "375/375 [==============================] - 36s 95ms/step - loss: 0.5830 - accuracy: 0.8484 - val_loss: 0.5876 - val_accuracy: 0.8446\n",
            "Epoch 12/50\n",
            "375/375 [==============================] - 34s 92ms/step - loss: 0.5760 - accuracy: 0.8480 - val_loss: 0.5636 - val_accuracy: 0.8522\n",
            "Epoch 13/50\n",
            "375/375 [==============================] - 35s 92ms/step - loss: 0.5667 - accuracy: 0.8513 - val_loss: 0.5644 - val_accuracy: 0.8502\n",
            "Epoch 14/50\n",
            "375/375 [==============================] - 37s 98ms/step - loss: 0.5580 - accuracy: 0.8541 - val_loss: 0.5488 - val_accuracy: 0.8574\n",
            "Epoch 15/50\n",
            "375/375 [==============================] - 33s 89ms/step - loss: 0.5538 - accuracy: 0.8540 - val_loss: 0.5622 - val_accuracy: 0.8478\n",
            "Epoch 16/50\n",
            "375/375 [==============================] - 35s 94ms/step - loss: 0.5504 - accuracy: 0.8531 - val_loss: 0.5451 - val_accuracy: 0.8576\n",
            "Epoch 17/50\n",
            "375/375 [==============================] - 34s 90ms/step - loss: 0.5469 - accuracy: 0.8540 - val_loss: 0.5741 - val_accuracy: 0.8423\n",
            "Epoch 18/50\n",
            "375/375 [==============================] - 35s 94ms/step - loss: 0.5409 - accuracy: 0.8557 - val_loss: 0.5410 - val_accuracy: 0.8563\n",
            "Epoch 19/50\n",
            "375/375 [==============================] - 33s 89ms/step - loss: 0.5407 - accuracy: 0.8545 - val_loss: 0.5341 - val_accuracy: 0.8564\n",
            "Epoch 20/50\n",
            "375/375 [==============================] - 35s 93ms/step - loss: 0.5329 - accuracy: 0.8568 - val_loss: 0.5259 - val_accuracy: 0.8627\n",
            "Epoch 21/50\n",
            "375/375 [==============================] - 34s 90ms/step - loss: 0.5266 - accuracy: 0.8583 - val_loss: 0.5193 - val_accuracy: 0.8639\n",
            "Epoch 22/50\n",
            "375/375 [==============================] - 35s 92ms/step - loss: 0.5257 - accuracy: 0.8589 - val_loss: 0.5282 - val_accuracy: 0.8548\n",
            "Epoch 23/50\n",
            "375/375 [==============================] - 33s 88ms/step - loss: 0.5218 - accuracy: 0.8591 - val_loss: 0.5176 - val_accuracy: 0.8605\n",
            "Epoch 24/50\n",
            "375/375 [==============================] - 35s 93ms/step - loss: 0.5178 - accuracy: 0.8605 - val_loss: 0.5120 - val_accuracy: 0.8600\n",
            "Epoch 25/50\n",
            "375/375 [==============================] - 34s 90ms/step - loss: 0.5160 - accuracy: 0.8587 - val_loss: 0.5124 - val_accuracy: 0.8642\n",
            "Epoch 26/50\n",
            "375/375 [==============================] - 37s 97ms/step - loss: 0.5117 - accuracy: 0.8624 - val_loss: 0.5191 - val_accuracy: 0.8561\n",
            "Epoch 27/50\n",
            "375/375 [==============================] - 33s 88ms/step - loss: 0.5080 - accuracy: 0.8623 - val_loss: 0.5147 - val_accuracy: 0.8592\n"
          ]
        }
      ],
      "source": [
        "# L2 model training\n",
        "from keras.callbacks import EarlyStopping\n",
        "\n",
        "early_stopping = EarlyStopping(monitor='val_loss', patience=3, restore_best_weights=True)\n",
        "\n",
        "train_model_l2 = model_l2.fit(X_train, y_train,\n",
        "                  batch_size=BATCH_SIZE,\n",
        "                  epochs=NO_EPOCHS,\n",
        "                  verbose=1,\n",
        "                  validation_data=(X_val, y_val),\n",
        "                              callbacks=[early_stopping])"
      ]
    },
    {
      "cell_type": "code",
      "execution_count": 51,
      "metadata": {
        "colab": {
          "base_uri": "https://localhost:8080/"
        },
        "id": "c-PPUqe7pvTh",
        "outputId": "3a9adb81-5a5a-4d1d-bcc4-05d887fae194"
      },
      "outputs": [
        {
          "output_type": "stream",
          "name": "stdout",
          "text": [
            "Test loss: 0.5054097175598145\n",
            "Test accuracy: 0.8616999983787537\n"
          ]
        }
      ],
      "source": [
        "score = model_l2.evaluate(X_test, y_test, verbose=0)\n",
        "print('Test loss:', score[0])\n",
        "print('Test accuracy:', score[1])"
      ]
    },
    {
      "cell_type": "markdown",
      "metadata": {
        "id": "3aZLEriYOXI1"
      },
      "source": [
        "#Task: Make Predictions using the best saved model\n"
      ]
    },
    {
      "cell_type": "markdown",
      "metadata": {
        "id": "LnBLwqTJX3p0"
      },
      "source": [
        "Create a confusion Matrix and F1 score for both Models. Ensure outputs for the cells are visible"
      ]
    },
    {
      "cell_type": "markdown",
      "metadata": {
        "id": "bO79SOsZYG-M"
      },
      "source": [
        "Finally, Make predictions using the best model. By the time you get to this cell you may realise at some point you needed to save the model so that you cal load it later"
      ]
    },
    {
      "cell_type": "code",
      "execution_count": 57,
      "metadata": {
        "id": "Nqqe2PasUIAG"
      },
      "outputs": [],
      "source": [
        "def make_predictions(model_path):\n",
        "\n",
        "    # Load the model\n",
        "    models = load_model(model_path)\n",
        "\n",
        "    # Make predictions\n",
        "    predictions = models.predict(X_test)\n",
        "    # Convert probabilities to binary labels (0 or 1)\n",
        "    # Convert predictions and true labels from one-hot encoded vectors to class labels\n",
        "    predictions_labels = np.argmax(predictions, axis=1)\n",
        "    true_labels = np.argmax(y_test, axis=1)\n",
        "\n",
        "    # # Calculate the confusion matrix\n",
        "    conf_matrix = confusion_matrix(true_labels, predictions_labels)\n",
        "    print(\"Confusion Matrix:\\n\", conf_matrix)\n",
        "\n",
        "    # Calculate classification report\n",
        "    report = classification_report(true_labels, predictions_labels)\n",
        "    # print(\"Classification Report:\\n\", report)\n",
        "\n",
        "    # return predictions\n",
        "\n",
        "#Modify the code appropriately"
      ]
    },
    {
      "cell_type": "code",
      "execution_count": 56,
      "metadata": {
        "colab": {
          "base_uri": "https://localhost:8080/"
        },
        "id": "IQxN2irdvkhP",
        "outputId": "4b3bd692-807a-40ae-ac8c-d14f0f43d130"
      },
      "outputs": [
        {
          "output_type": "stream",
          "name": "stdout",
          "text": [
            "313/313 [==============================] - 3s 8ms/step\n",
            "Confusion Matrix:\n",
            " [[  0  33  59   0 174   0 713   3  18   0]\n",
            " [  0   0 113   0 134   0 663  38  52   0]\n",
            " [  0  10  18   0 909   0  60   1   2   0]\n",
            " [  0  11 110   0  62   0 589  15 213   0]\n",
            " [  0  10  72   0 802   0 113   2   1   0]\n",
            " [  2  34 139   6 551   0  35 219  14   0]\n",
            " [  0  12  63   0 677   0 235   4   9   0]\n",
            " [  0  56  94   0 531   0  15 303   1   0]\n",
            " [  0   9  68   0 903   0  15   1   3   1]\n",
            " [  0   5 575   0  75   0  11 315  19   0]]\n",
            "Classification Report:\n",
            "               precision    recall  f1-score   support\n",
            "\n",
            "           0       0.00      0.00      0.00      1000\n",
            "           1       0.00      0.00      0.00      1000\n",
            "           2       0.01      0.02      0.02      1000\n",
            "           3       0.00      0.00      0.00      1000\n",
            "           4       0.17      0.80      0.28      1000\n",
            "           5       0.00      0.00      0.00      1000\n",
            "           6       0.10      0.23      0.14      1000\n",
            "           7       0.34      0.30      0.32      1000\n",
            "           8       0.01      0.00      0.00      1000\n",
            "           9       0.00      0.00      0.00      1000\n",
            "\n",
            "    accuracy                           0.14     10000\n",
            "   macro avg       0.06      0.14      0.08     10000\n",
            "weighted avg       0.06      0.14      0.08     10000\n",
            "\n"
          ]
        },
        {
          "output_type": "stream",
          "name": "stderr",
          "text": [
            "/usr/local/lib/python3.10/dist-packages/sklearn/metrics/_classification.py:1344: UndefinedMetricWarning:\n",
            "\n",
            "Precision and F-score are ill-defined and being set to 0.0 in labels with no predicted samples. Use `zero_division` parameter to control this behavior.\n",
            "\n",
            "/usr/local/lib/python3.10/dist-packages/sklearn/metrics/_classification.py:1344: UndefinedMetricWarning:\n",
            "\n",
            "Precision and F-score are ill-defined and being set to 0.0 in labels with no predicted samples. Use `zero_division` parameter to control this behavior.\n",
            "\n",
            "/usr/local/lib/python3.10/dist-packages/sklearn/metrics/_classification.py:1344: UndefinedMetricWarning:\n",
            "\n",
            "Precision and F-score are ill-defined and being set to 0.0 in labels with no predicted samples. Use `zero_division` parameter to control this behavior.\n",
            "\n"
          ]
        }
      ],
      "source": [
        "model_path = '/content/fashion_model_mnist.h5'\n",
        "make_predictions(model_path)"
      ]
    },
    {
      "cell_type": "code",
      "execution_count": 58,
      "metadata": {
        "colab": {
          "base_uri": "https://localhost:8080/"
        },
        "id": "O_jwbvaAUMj4",
        "outputId": "e1b2eecf-9d7e-460f-db9e-5ab97172a4ac"
      },
      "outputs": [
        {
          "output_type": "stream",
          "name": "stdout",
          "text": [
            "313/313 [==============================] - 5s 15ms/step\n",
            "Confusion Matrix:\n",
            " [[  0   1   0   4   0  10   1   9   4 971]\n",
            " [  0   0   0   0   0   3  31   1   0 965]\n",
            " [  1   6   0   1   0  10  10  29   7 936]\n",
            " [  0   0   0   0   0   6  47   0   1 946]\n",
            " [  0   0   0   0   0   5   5   2   0 988]\n",
            " [  6   1   0   1   0  59   0   4  34 895]\n",
            " [  1   1   0   2   0  17  14  15   3 947]\n",
            " [  0   0   0   0   0   2   0   0   0 998]\n",
            " [  0   2   0   0   0  30  11   1   1 955]\n",
            " [  0   0   0   0   0   1   0   2   0 997]]\n"
          ]
        },
        {
          "output_type": "stream",
          "name": "stderr",
          "text": [
            "/usr/local/lib/python3.10/dist-packages/sklearn/metrics/_classification.py:1344: UndefinedMetricWarning:\n",
            "\n",
            "Precision and F-score are ill-defined and being set to 0.0 in labels with no predicted samples. Use `zero_division` parameter to control this behavior.\n",
            "\n",
            "/usr/local/lib/python3.10/dist-packages/sklearn/metrics/_classification.py:1344: UndefinedMetricWarning:\n",
            "\n",
            "Precision and F-score are ill-defined and being set to 0.0 in labels with no predicted samples. Use `zero_division` parameter to control this behavior.\n",
            "\n",
            "/usr/local/lib/python3.10/dist-packages/sklearn/metrics/_classification.py:1344: UndefinedMetricWarning:\n",
            "\n",
            "Precision and F-score are ill-defined and being set to 0.0 in labels with no predicted samples. Use `zero_division` parameter to control this behavior.\n",
            "\n"
          ]
        }
      ],
      "source": [
        "model_path = '/content/trained_1_dropout_model_mnist.h5'\n",
        "make_predictions(model_path)"
      ]
    },
    {
      "cell_type": "code",
      "execution_count": 59,
      "metadata": {
        "colab": {
          "base_uri": "https://localhost:8080/"
        },
        "id": "uZFR-orEp1qO",
        "outputId": "052b8ebe-63d4-443c-e8d2-2966ae4670b2"
      },
      "outputs": [
        {
          "output_type": "stream",
          "name": "stdout",
          "text": [
            "313/313 [==============================] - 2s 7ms/step\n",
            "Confusion Matrix:\n",
            " [[  0  15   0   0   4   0   0 981   0   0]\n",
            " [  0  10   0   0   1   0   0 989   0   0]\n",
            " [  0   4   0   0   7   0   0 988   0   1]\n",
            " [  0   9   0   0   2   0   0 989   0   0]\n",
            " [  0   1   0   0   1   0   0 998   0   0]\n",
            " [  0   0   0   0  21   0   0 902   1  76]\n",
            " [  0   1   0   0  12   0   0 987   0   0]\n",
            " [  0   0   0   1   5   0   0 974   0  20]\n",
            " [  0   3   0   0  17   0   0 980   0   0]\n",
            " [  0   0   0   0   0   0   0 996   0   4]]\n"
          ]
        },
        {
          "output_type": "stream",
          "name": "stderr",
          "text": [
            "/usr/local/lib/python3.10/dist-packages/sklearn/metrics/_classification.py:1344: UndefinedMetricWarning:\n",
            "\n",
            "Precision and F-score are ill-defined and being set to 0.0 in labels with no predicted samples. Use `zero_division` parameter to control this behavior.\n",
            "\n",
            "/usr/local/lib/python3.10/dist-packages/sklearn/metrics/_classification.py:1344: UndefinedMetricWarning:\n",
            "\n",
            "Precision and F-score are ill-defined and being set to 0.0 in labels with no predicted samples. Use `zero_division` parameter to control this behavior.\n",
            "\n",
            "/usr/local/lib/python3.10/dist-packages/sklearn/metrics/_classification.py:1344: UndefinedMetricWarning:\n",
            "\n",
            "Precision and F-score are ill-defined and being set to 0.0 in labels with no predicted samples. Use `zero_division` parameter to control this behavior.\n",
            "\n"
          ]
        }
      ],
      "source": [
        "model_path = '/content/l1_model_mnist.h5'\n",
        "make_predictions(model_path)"
      ]
    },
    {
      "cell_type": "code",
      "execution_count": 60,
      "metadata": {
        "colab": {
          "base_uri": "https://localhost:8080/"
        },
        "id": "riuxEHTnHu5C",
        "outputId": "1d6a2277-a8fa-4e4a-cf0d-dd7d891be725"
      },
      "outputs": [
        {
          "output_type": "stream",
          "name": "stdout",
          "text": [
            "313/313 [==============================] - 4s 11ms/step\n",
            "Confusion Matrix:\n",
            " [[  0   0   0 964   0  21   1   4  10   0]\n",
            " [  0   0   0 562   0 434   0   0   4   0]\n",
            " [  0   0   0 953   0   1  25   9  11   1]\n",
            " [  0   0   0 824   0 162   0   1  12   1]\n",
            " [  0   0   0 986   0   7   1   2   4   0]\n",
            " [  0   0   0 185   0 393   0  16 403   3]\n",
            " [  0   0   0 964   0   7  11   6  12   0]\n",
            " [  0   0   0 324   0  52   1   0 623   0]\n",
            " [  0   0   0 862   0  28   1   3 101   5]\n",
            " [  0   0   0 497   0 496   0   0   7   0]]\n"
          ]
        },
        {
          "output_type": "stream",
          "name": "stderr",
          "text": [
            "/usr/local/lib/python3.10/dist-packages/sklearn/metrics/_classification.py:1344: UndefinedMetricWarning:\n",
            "\n",
            "Precision and F-score are ill-defined and being set to 0.0 in labels with no predicted samples. Use `zero_division` parameter to control this behavior.\n",
            "\n",
            "/usr/local/lib/python3.10/dist-packages/sklearn/metrics/_classification.py:1344: UndefinedMetricWarning:\n",
            "\n",
            "Precision and F-score are ill-defined and being set to 0.0 in labels with no predicted samples. Use `zero_division` parameter to control this behavior.\n",
            "\n",
            "/usr/local/lib/python3.10/dist-packages/sklearn/metrics/_classification.py:1344: UndefinedMetricWarning:\n",
            "\n",
            "Precision and F-score are ill-defined and being set to 0.0 in labels with no predicted samples. Use `zero_division` parameter to control this behavior.\n",
            "\n"
          ]
        }
      ],
      "source": [
        "model_path = '/content/l2_model_mnist.h5'\n",
        "make_predictions(model_path)"
      ]
    },
    {
      "cell_type": "markdown",
      "metadata": {
        "id": "rfTHk2nZMzTH"
      },
      "source": [
        "Congratulations!!\n"
      ]
    }
  ],
  "metadata": {
    "colab": {
      "provenance": [],
      "collapsed_sections": [
        "juEVcHbxtTCR"
      ],
      "include_colab_link": true
    },
    "kernelspec": {
      "display_name": "Python 3",
      "name": "python3"
    },
    "language_info": {
      "name": "python"
    }
  },
  "nbformat": 4,
  "nbformat_minor": 0
}